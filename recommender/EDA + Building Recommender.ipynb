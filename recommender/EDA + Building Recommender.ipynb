{
 "cells": [
  {
   "cell_type": "markdown",
   "id": "superb-argentina",
   "metadata": {},
   "source": [
    "# Dataset"
   ]
  },
  {
   "cell_type": "markdown",
   "id": "attractive-coating",
   "metadata": {},
   "source": [
    "**goodbooks-10**: https://github.com/zygmuntz/goodbooks-10k"
   ]
  },
  {
   "cell_type": "markdown",
   "id": "numerous-friendly",
   "metadata": {},
   "source": [
    "# Getting the data"
   ]
  },
  {
   "cell_type": "code",
   "execution_count": 1,
   "id": "heavy-stick",
   "metadata": {},
   "outputs": [],
   "source": [
    "#!wget \"https://github.com/zygmuntz/goodbooks-10k/releases/download/v1.0/goodbooks-10k.zip\" -O goodbooks-10k.zip\n",
    "#!unzip goodbooks-10k.zip\n",
    "#!rm goodbooks-10k.zip"
   ]
  },
  {
   "cell_type": "markdown",
   "id": "supported-dispute",
   "metadata": {},
   "source": [
    "## Store it into Pandas dataframe"
   ]
  },
  {
   "cell_type": "code",
   "execution_count": 1,
   "id": "alive-tobacco",
   "metadata": {},
   "outputs": [
    {
     "data": {
      "text/html": [
       "<style type='text/css'>\n",
       ".datatable table.frame { margin-bottom: 0; }\n",
       ".datatable table.frame thead { border-bottom: none; }\n",
       ".datatable table.frame tr.coltypes td {  color: #FFFFFF;  line-height: 6px;  padding: 0 0.5em;}\n",
       ".datatable .bool    { background: #DDDD99; }\n",
       ".datatable .object  { background: #565656; }\n",
       ".datatable .int     { background: #5D9E5D; }\n",
       ".datatable .float   { background: #4040CC; }\n",
       ".datatable .str     { background: #CC4040; }\n",
       ".datatable .row_index {  background: var(--jp-border-color3);  border-right: 1px solid var(--jp-border-color0);  color: var(--jp-ui-font-color3);  font-size: 9px;}\n",
       ".datatable .frame tr.coltypes .row_index {  background: var(--jp-border-color0);}\n",
       ".datatable th:nth-child(2) { padding-left: 12px; }\n",
       ".datatable .hellipsis {  color: var(--jp-cell-editor-border-color);}\n",
       ".datatable .vellipsis {  background: var(--jp-layout-color0);  color: var(--jp-cell-editor-border-color);}\n",
       ".datatable .na {  color: var(--jp-cell-editor-border-color);  font-size: 80%;}\n",
       ".datatable .footer { font-size: 9px; }\n",
       ".datatable .frame_dimensions {  background: var(--jp-border-color3);  border-top: 1px solid var(--jp-border-color0);  color: var(--jp-ui-font-color3);  display: inline-block;  opacity: 0.6;  padding: 1px 10px 1px 5px;}\n",
       "</style>\n"
      ],
      "text/plain": [
       "<IPython.core.display.HTML object>"
      ]
     },
     "metadata": {},
     "output_type": "display_data"
    }
   ],
   "source": [
    "import datatable as dt"
   ]
  },
  {
   "cell_type": "code",
   "execution_count": 2,
   "id": "alpine-victorian",
   "metadata": {},
   "outputs": [
    {
     "name": "stdout",
     "output_type": "stream",
     "text": [
      "CPU times: user 1.38 s, sys: 361 ms, total: 1.74 s\n",
      "Wall time: 4.6 s\n"
     ]
    }
   ],
   "source": [
    "%%time\n",
    "\n",
    "book_data = dt.fread(\"books.csv\").to_pandas()\n",
    "ratings_data = dt.fread(\"ratings.csv\").to_pandas()\n",
    "booktags_data = dt.fread(\"book_tags.csv\").to_pandas()\n",
    "tags_data= dt.fread(\"tags.csv\").to_pandas()\n",
    "toread_data = dt.fread(\"to_read.csv\").to_pandas()"
   ]
  },
  {
   "cell_type": "markdown",
   "id": "minor-journey",
   "metadata": {},
   "source": [
    "# Taking a peek"
   ]
  },
  {
   "cell_type": "code",
   "execution_count": 3,
   "id": "sixth-equilibrium",
   "metadata": {},
   "outputs": [
    {
     "data": {
      "text/html": [
       "<div>\n",
       "<style scoped>\n",
       "    .dataframe tbody tr th:only-of-type {\n",
       "        vertical-align: middle;\n",
       "    }\n",
       "\n",
       "    .dataframe tbody tr th {\n",
       "        vertical-align: top;\n",
       "    }\n",
       "\n",
       "    .dataframe thead th {\n",
       "        text-align: right;\n",
       "    }\n",
       "</style>\n",
       "<table border=\"1\" class=\"dataframe\">\n",
       "  <thead>\n",
       "    <tr style=\"text-align: right;\">\n",
       "      <th></th>\n",
       "      <th>book_id</th>\n",
       "      <th>goodreads_book_id</th>\n",
       "      <th>best_book_id</th>\n",
       "      <th>work_id</th>\n",
       "      <th>books_count</th>\n",
       "      <th>isbn</th>\n",
       "      <th>isbn13</th>\n",
       "      <th>authors</th>\n",
       "      <th>original_publication_year</th>\n",
       "      <th>original_title</th>\n",
       "      <th>...</th>\n",
       "      <th>ratings_count</th>\n",
       "      <th>work_ratings_count</th>\n",
       "      <th>work_text_reviews_count</th>\n",
       "      <th>ratings_1</th>\n",
       "      <th>ratings_2</th>\n",
       "      <th>ratings_3</th>\n",
       "      <th>ratings_4</th>\n",
       "      <th>ratings_5</th>\n",
       "      <th>image_url</th>\n",
       "      <th>small_image_url</th>\n",
       "    </tr>\n",
       "  </thead>\n",
       "  <tbody>\n",
       "    <tr>\n",
       "      <th>0</th>\n",
       "      <td>1</td>\n",
       "      <td>2767052</td>\n",
       "      <td>2767052</td>\n",
       "      <td>2792775</td>\n",
       "      <td>272</td>\n",
       "      <td>439023483</td>\n",
       "      <td>9.780439e+12</td>\n",
       "      <td>Suzanne Collins</td>\n",
       "      <td>2008.0</td>\n",
       "      <td>The Hunger Games</td>\n",
       "      <td>...</td>\n",
       "      <td>4780653</td>\n",
       "      <td>4942365</td>\n",
       "      <td>155254</td>\n",
       "      <td>66715</td>\n",
       "      <td>127936</td>\n",
       "      <td>560092</td>\n",
       "      <td>1481305</td>\n",
       "      <td>2706317</td>\n",
       "      <td>https://images.gr-assets.com/books/1447303603m...</td>\n",
       "      <td>https://images.gr-assets.com/books/1447303603s...</td>\n",
       "    </tr>\n",
       "    <tr>\n",
       "      <th>1</th>\n",
       "      <td>2</td>\n",
       "      <td>3</td>\n",
       "      <td>3</td>\n",
       "      <td>4640799</td>\n",
       "      <td>491</td>\n",
       "      <td>439554934</td>\n",
       "      <td>9.780440e+12</td>\n",
       "      <td>J.K. Rowling, Mary GrandPré</td>\n",
       "      <td>1997.0</td>\n",
       "      <td>Harry Potter and the Philosopher's Stone</td>\n",
       "      <td>...</td>\n",
       "      <td>4602479</td>\n",
       "      <td>4800065</td>\n",
       "      <td>75867</td>\n",
       "      <td>75504</td>\n",
       "      <td>101676</td>\n",
       "      <td>455024</td>\n",
       "      <td>1156318</td>\n",
       "      <td>3011543</td>\n",
       "      <td>https://images.gr-assets.com/books/1474154022m...</td>\n",
       "      <td>https://images.gr-assets.com/books/1474154022s...</td>\n",
       "    </tr>\n",
       "    <tr>\n",
       "      <th>2</th>\n",
       "      <td>3</td>\n",
       "      <td>41865</td>\n",
       "      <td>41865</td>\n",
       "      <td>3212258</td>\n",
       "      <td>226</td>\n",
       "      <td>316015849</td>\n",
       "      <td>9.780316e+12</td>\n",
       "      <td>Stephenie Meyer</td>\n",
       "      <td>2005.0</td>\n",
       "      <td>Twilight</td>\n",
       "      <td>...</td>\n",
       "      <td>3866839</td>\n",
       "      <td>3916824</td>\n",
       "      <td>95009</td>\n",
       "      <td>456191</td>\n",
       "      <td>436802</td>\n",
       "      <td>793319</td>\n",
       "      <td>875073</td>\n",
       "      <td>1355439</td>\n",
       "      <td>https://images.gr-assets.com/books/1361039443m...</td>\n",
       "      <td>https://images.gr-assets.com/books/1361039443s...</td>\n",
       "    </tr>\n",
       "    <tr>\n",
       "      <th>3</th>\n",
       "      <td>4</td>\n",
       "      <td>2657</td>\n",
       "      <td>2657</td>\n",
       "      <td>3275794</td>\n",
       "      <td>487</td>\n",
       "      <td>61120081</td>\n",
       "      <td>9.780061e+12</td>\n",
       "      <td>Harper Lee</td>\n",
       "      <td>1960.0</td>\n",
       "      <td>To Kill a Mockingbird</td>\n",
       "      <td>...</td>\n",
       "      <td>3198671</td>\n",
       "      <td>3340896</td>\n",
       "      <td>72586</td>\n",
       "      <td>60427</td>\n",
       "      <td>117415</td>\n",
       "      <td>446835</td>\n",
       "      <td>1001952</td>\n",
       "      <td>1714267</td>\n",
       "      <td>https://images.gr-assets.com/books/1361975680m...</td>\n",
       "      <td>https://images.gr-assets.com/books/1361975680s...</td>\n",
       "    </tr>\n",
       "    <tr>\n",
       "      <th>4</th>\n",
       "      <td>5</td>\n",
       "      <td>4671</td>\n",
       "      <td>4671</td>\n",
       "      <td>245494</td>\n",
       "      <td>1356</td>\n",
       "      <td>743273567</td>\n",
       "      <td>9.780743e+12</td>\n",
       "      <td>F. Scott Fitzgerald</td>\n",
       "      <td>1925.0</td>\n",
       "      <td>The Great Gatsby</td>\n",
       "      <td>...</td>\n",
       "      <td>2683664</td>\n",
       "      <td>2773745</td>\n",
       "      <td>51992</td>\n",
       "      <td>86236</td>\n",
       "      <td>197621</td>\n",
       "      <td>606158</td>\n",
       "      <td>936012</td>\n",
       "      <td>947718</td>\n",
       "      <td>https://images.gr-assets.com/books/1490528560m...</td>\n",
       "      <td>https://images.gr-assets.com/books/1490528560s...</td>\n",
       "    </tr>\n",
       "  </tbody>\n",
       "</table>\n",
       "<p>5 rows × 23 columns</p>\n",
       "</div>"
      ],
      "text/plain": [
       "   book_id  goodreads_book_id  best_book_id  work_id  books_count       isbn  \\\n",
       "0        1            2767052       2767052  2792775          272  439023483   \n",
       "1        2                  3             3  4640799          491  439554934   \n",
       "2        3              41865         41865  3212258          226  316015849   \n",
       "3        4               2657          2657  3275794          487   61120081   \n",
       "4        5               4671          4671   245494         1356  743273567   \n",
       "\n",
       "         isbn13                      authors  original_publication_year  \\\n",
       "0  9.780439e+12              Suzanne Collins                     2008.0   \n",
       "1  9.780440e+12  J.K. Rowling, Mary GrandPré                     1997.0   \n",
       "2  9.780316e+12              Stephenie Meyer                     2005.0   \n",
       "3  9.780061e+12                   Harper Lee                     1960.0   \n",
       "4  9.780743e+12          F. Scott Fitzgerald                     1925.0   \n",
       "\n",
       "                             original_title  ... ratings_count  \\\n",
       "0                          The Hunger Games  ...       4780653   \n",
       "1  Harry Potter and the Philosopher's Stone  ...       4602479   \n",
       "2                                  Twilight  ...       3866839   \n",
       "3                     To Kill a Mockingbird  ...       3198671   \n",
       "4                          The Great Gatsby  ...       2683664   \n",
       "\n",
       "  work_ratings_count  work_text_reviews_count  ratings_1  ratings_2  \\\n",
       "0            4942365                   155254      66715     127936   \n",
       "1            4800065                    75867      75504     101676   \n",
       "2            3916824                    95009     456191     436802   \n",
       "3            3340896                    72586      60427     117415   \n",
       "4            2773745                    51992      86236     197621   \n",
       "\n",
       "   ratings_3  ratings_4  ratings_5  \\\n",
       "0     560092    1481305    2706317   \n",
       "1     455024    1156318    3011543   \n",
       "2     793319     875073    1355439   \n",
       "3     446835    1001952    1714267   \n",
       "4     606158     936012     947718   \n",
       "\n",
       "                                           image_url  \\\n",
       "0  https://images.gr-assets.com/books/1447303603m...   \n",
       "1  https://images.gr-assets.com/books/1474154022m...   \n",
       "2  https://images.gr-assets.com/books/1361039443m...   \n",
       "3  https://images.gr-assets.com/books/1361975680m...   \n",
       "4  https://images.gr-assets.com/books/1490528560m...   \n",
       "\n",
       "                                     small_image_url  \n",
       "0  https://images.gr-assets.com/books/1447303603s...  \n",
       "1  https://images.gr-assets.com/books/1474154022s...  \n",
       "2  https://images.gr-assets.com/books/1361039443s...  \n",
       "3  https://images.gr-assets.com/books/1361975680s...  \n",
       "4  https://images.gr-assets.com/books/1490528560s...  \n",
       "\n",
       "[5 rows x 23 columns]"
      ]
     },
     "execution_count": 3,
     "metadata": {},
     "output_type": "execute_result"
    }
   ],
   "source": [
    "book_data.head()"
   ]
  },
  {
   "cell_type": "code",
   "execution_count": 4,
   "id": "million-carol",
   "metadata": {},
   "outputs": [
    {
     "data": {
      "text/plain": [
       "Index(['book_id', 'goodreads_book_id', 'best_book_id', 'work_id',\n",
       "       'books_count', 'isbn', 'isbn13', 'authors', 'original_publication_year',\n",
       "       'original_title', 'title', 'language_code', 'average_rating',\n",
       "       'ratings_count', 'work_ratings_count', 'work_text_reviews_count',\n",
       "       'ratings_1', 'ratings_2', 'ratings_3', 'ratings_4', 'ratings_5',\n",
       "       'image_url', 'small_image_url'],\n",
       "      dtype='object')"
      ]
     },
     "execution_count": 4,
     "metadata": {},
     "output_type": "execute_result"
    }
   ],
   "source": [
    "book_data.columns"
   ]
  },
  {
   "cell_type": "code",
   "execution_count": 5,
   "id": "theoretical-tension",
   "metadata": {},
   "outputs": [
    {
     "data": {
      "text/plain": [
       "(10000, 23)"
      ]
     },
     "execution_count": 5,
     "metadata": {},
     "output_type": "execute_result"
    }
   ],
   "source": [
    "book_data.shape"
   ]
  },
  {
   "cell_type": "markdown",
   "id": "conditional-smell",
   "metadata": {},
   "source": [
    "**Meta data about the 10k books**\n",
    "We have a bunch of ids, author / title / publication year, rating info, images."
   ]
  },
  {
   "cell_type": "code",
   "execution_count": 6,
   "id": "stuffed-mongolia",
   "metadata": {},
   "outputs": [
    {
     "data": {
      "text/html": [
       "<div>\n",
       "<style scoped>\n",
       "    .dataframe tbody tr th:only-of-type {\n",
       "        vertical-align: middle;\n",
       "    }\n",
       "\n",
       "    .dataframe tbody tr th {\n",
       "        vertical-align: top;\n",
       "    }\n",
       "\n",
       "    .dataframe thead th {\n",
       "        text-align: right;\n",
       "    }\n",
       "</style>\n",
       "<table border=\"1\" class=\"dataframe\">\n",
       "  <thead>\n",
       "    <tr style=\"text-align: right;\">\n",
       "      <th></th>\n",
       "      <th>user_id</th>\n",
       "      <th>book_id</th>\n",
       "      <th>rating</th>\n",
       "    </tr>\n",
       "  </thead>\n",
       "  <tbody>\n",
       "    <tr>\n",
       "      <th>0</th>\n",
       "      <td>1</td>\n",
       "      <td>258</td>\n",
       "      <td>5</td>\n",
       "    </tr>\n",
       "    <tr>\n",
       "      <th>1</th>\n",
       "      <td>2</td>\n",
       "      <td>4081</td>\n",
       "      <td>4</td>\n",
       "    </tr>\n",
       "    <tr>\n",
       "      <th>2</th>\n",
       "      <td>2</td>\n",
       "      <td>260</td>\n",
       "      <td>5</td>\n",
       "    </tr>\n",
       "    <tr>\n",
       "      <th>3</th>\n",
       "      <td>2</td>\n",
       "      <td>9296</td>\n",
       "      <td>5</td>\n",
       "    </tr>\n",
       "    <tr>\n",
       "      <th>4</th>\n",
       "      <td>2</td>\n",
       "      <td>2318</td>\n",
       "      <td>3</td>\n",
       "    </tr>\n",
       "  </tbody>\n",
       "</table>\n",
       "</div>"
      ],
      "text/plain": [
       "   user_id  book_id  rating\n",
       "0        1      258       5\n",
       "1        2     4081       4\n",
       "2        2      260       5\n",
       "3        2     9296       5\n",
       "4        2     2318       3"
      ]
     },
     "execution_count": 6,
     "metadata": {},
     "output_type": "execute_result"
    }
   ],
   "source": [
    "ratings_data.head()"
   ]
  },
  {
   "cell_type": "code",
   "execution_count": 7,
   "id": "social-extent",
   "metadata": {},
   "outputs": [
    {
     "data": {
      "text/plain": [
       "array([5, 4, 3, 2, 1], dtype=int32)"
      ]
     },
     "execution_count": 7,
     "metadata": {},
     "output_type": "execute_result"
    }
   ],
   "source": [
    "ratings_data.rating.unique()"
   ]
  },
  {
   "cell_type": "code",
   "execution_count": 8,
   "id": "fiscal-option",
   "metadata": {},
   "outputs": [
    {
     "data": {
      "text/plain": [
       "0"
      ]
     },
     "execution_count": 8,
     "metadata": {},
     "output_type": "execute_result"
    }
   ],
   "source": [
    "ratings_data.duplicated().sum()"
   ]
  },
  {
   "cell_type": "code",
   "execution_count": 9,
   "id": "critical-bubble",
   "metadata": {},
   "outputs": [
    {
     "data": {
      "text/plain": [
       "(5976479, 3)"
      ]
     },
     "execution_count": 9,
     "metadata": {},
     "output_type": "execute_result"
    }
   ],
   "source": [
    "ratings_data.shape"
   ]
  },
  {
   "cell_type": "markdown",
   "id": "annoying-chamber",
   "metadata": {},
   "source": [
    "Classic user / item / rating table. Only integers. No rating of 0. Nearly 6M entries."
   ]
  },
  {
   "cell_type": "code",
   "execution_count": 10,
   "id": "raised-miller",
   "metadata": {},
   "outputs": [
    {
     "data": {
      "text/html": [
       "<div>\n",
       "<style scoped>\n",
       "    .dataframe tbody tr th:only-of-type {\n",
       "        vertical-align: middle;\n",
       "    }\n",
       "\n",
       "    .dataframe tbody tr th {\n",
       "        vertical-align: top;\n",
       "    }\n",
       "\n",
       "    .dataframe thead th {\n",
       "        text-align: right;\n",
       "    }\n",
       "</style>\n",
       "<table border=\"1\" class=\"dataframe\">\n",
       "  <thead>\n",
       "    <tr style=\"text-align: right;\">\n",
       "      <th></th>\n",
       "      <th>tag_id</th>\n",
       "      <th>tag_name</th>\n",
       "    </tr>\n",
       "  </thead>\n",
       "  <tbody>\n",
       "    <tr>\n",
       "      <th>0</th>\n",
       "      <td>0</td>\n",
       "      <td>-</td>\n",
       "    </tr>\n",
       "    <tr>\n",
       "      <th>1</th>\n",
       "      <td>1</td>\n",
       "      <td>--1-</td>\n",
       "    </tr>\n",
       "    <tr>\n",
       "      <th>2</th>\n",
       "      <td>2</td>\n",
       "      <td>--10-</td>\n",
       "    </tr>\n",
       "    <tr>\n",
       "      <th>3</th>\n",
       "      <td>3</td>\n",
       "      <td>--12-</td>\n",
       "    </tr>\n",
       "    <tr>\n",
       "      <th>4</th>\n",
       "      <td>4</td>\n",
       "      <td>--122-</td>\n",
       "    </tr>\n",
       "  </tbody>\n",
       "</table>\n",
       "</div>"
      ],
      "text/plain": [
       "   tag_id tag_name\n",
       "0       0        -\n",
       "1       1     --1-\n",
       "2       2    --10-\n",
       "3       3    --12-\n",
       "4       4   --122-"
      ]
     },
     "execution_count": 10,
     "metadata": {},
     "output_type": "execute_result"
    }
   ],
   "source": [
    "tags_data.head()"
   ]
  },
  {
   "cell_type": "code",
   "execution_count": 11,
   "id": "enabling-turtle",
   "metadata": {},
   "outputs": [
    {
     "data": {
      "text/plain": [
       "(34252, 2)"
      ]
     },
     "execution_count": 11,
     "metadata": {},
     "output_type": "execute_result"
    }
   ],
   "source": [
    "tags_data.shape"
   ]
  },
  {
   "cell_type": "markdown",
   "id": "peaceful-brake",
   "metadata": {},
   "source": [
    "Some tags, not to sure what this corresponds to yet."
   ]
  },
  {
   "cell_type": "code",
   "execution_count": 12,
   "id": "timely-crack",
   "metadata": {},
   "outputs": [
    {
     "data": {
      "text/html": [
       "<div>\n",
       "<style scoped>\n",
       "    .dataframe tbody tr th:only-of-type {\n",
       "        vertical-align: middle;\n",
       "    }\n",
       "\n",
       "    .dataframe tbody tr th {\n",
       "        vertical-align: top;\n",
       "    }\n",
       "\n",
       "    .dataframe thead th {\n",
       "        text-align: right;\n",
       "    }\n",
       "</style>\n",
       "<table border=\"1\" class=\"dataframe\">\n",
       "  <thead>\n",
       "    <tr style=\"text-align: right;\">\n",
       "      <th></th>\n",
       "      <th>goodreads_book_id</th>\n",
       "      <th>tag_id</th>\n",
       "      <th>count</th>\n",
       "    </tr>\n",
       "  </thead>\n",
       "  <tbody>\n",
       "    <tr>\n",
       "      <th>0</th>\n",
       "      <td>1</td>\n",
       "      <td>30574</td>\n",
       "      <td>167697</td>\n",
       "    </tr>\n",
       "    <tr>\n",
       "      <th>1</th>\n",
       "      <td>1</td>\n",
       "      <td>11305</td>\n",
       "      <td>37174</td>\n",
       "    </tr>\n",
       "    <tr>\n",
       "      <th>2</th>\n",
       "      <td>1</td>\n",
       "      <td>11557</td>\n",
       "      <td>34173</td>\n",
       "    </tr>\n",
       "    <tr>\n",
       "      <th>3</th>\n",
       "      <td>1</td>\n",
       "      <td>8717</td>\n",
       "      <td>12986</td>\n",
       "    </tr>\n",
       "    <tr>\n",
       "      <th>4</th>\n",
       "      <td>1</td>\n",
       "      <td>33114</td>\n",
       "      <td>12716</td>\n",
       "    </tr>\n",
       "  </tbody>\n",
       "</table>\n",
       "</div>"
      ],
      "text/plain": [
       "   goodreads_book_id  tag_id   count\n",
       "0                  1   30574  167697\n",
       "1                  1   11305   37174\n",
       "2                  1   11557   34173\n",
       "3                  1    8717   12986\n",
       "4                  1   33114   12716"
      ]
     },
     "execution_count": 12,
     "metadata": {},
     "output_type": "execute_result"
    }
   ],
   "source": [
    "booktags_data.head()"
   ]
  },
  {
   "cell_type": "code",
   "execution_count": 13,
   "id": "anticipated-arrest",
   "metadata": {},
   "outputs": [
    {
     "data": {
      "text/plain": [
       "(999912, 3)"
      ]
     },
     "execution_count": 13,
     "metadata": {},
     "output_type": "execute_result"
    }
   ],
   "source": [
    "booktags_data.shape"
   ]
  },
  {
   "cell_type": "markdown",
   "id": "attached-serum",
   "metadata": {},
   "source": [
    "The count of each tag for each book."
   ]
  },
  {
   "cell_type": "code",
   "execution_count": 14,
   "id": "listed-matter",
   "metadata": {},
   "outputs": [
    {
     "data": {
      "text/html": [
       "<div>\n",
       "<style scoped>\n",
       "    .dataframe tbody tr th:only-of-type {\n",
       "        vertical-align: middle;\n",
       "    }\n",
       "\n",
       "    .dataframe tbody tr th {\n",
       "        vertical-align: top;\n",
       "    }\n",
       "\n",
       "    .dataframe thead th {\n",
       "        text-align: right;\n",
       "    }\n",
       "</style>\n",
       "<table border=\"1\" class=\"dataframe\">\n",
       "  <thead>\n",
       "    <tr style=\"text-align: right;\">\n",
       "      <th></th>\n",
       "      <th>user_id</th>\n",
       "      <th>book_id</th>\n",
       "    </tr>\n",
       "  </thead>\n",
       "  <tbody>\n",
       "    <tr>\n",
       "      <th>0</th>\n",
       "      <td>9</td>\n",
       "      <td>8</td>\n",
       "    </tr>\n",
       "    <tr>\n",
       "      <th>1</th>\n",
       "      <td>15</td>\n",
       "      <td>398</td>\n",
       "    </tr>\n",
       "    <tr>\n",
       "      <th>2</th>\n",
       "      <td>15</td>\n",
       "      <td>275</td>\n",
       "    </tr>\n",
       "    <tr>\n",
       "      <th>3</th>\n",
       "      <td>37</td>\n",
       "      <td>7173</td>\n",
       "    </tr>\n",
       "    <tr>\n",
       "      <th>4</th>\n",
       "      <td>34</td>\n",
       "      <td>380</td>\n",
       "    </tr>\n",
       "  </tbody>\n",
       "</table>\n",
       "</div>"
      ],
      "text/plain": [
       "   user_id  book_id\n",
       "0        9        8\n",
       "1       15      398\n",
       "2       15      275\n",
       "3       37     7173\n",
       "4       34      380"
      ]
     },
     "execution_count": 14,
     "metadata": {},
     "output_type": "execute_result"
    }
   ],
   "source": [
    "toread_data.head()"
   ]
  },
  {
   "cell_type": "code",
   "execution_count": 15,
   "id": "radio-tanzania",
   "metadata": {},
   "outputs": [
    {
     "data": {
      "text/plain": [
       "(912705, 2)"
      ]
     },
     "execution_count": 15,
     "metadata": {},
     "output_type": "execute_result"
    }
   ],
   "source": [
    "toread_data.shape"
   ]
  },
  {
   "cell_type": "markdown",
   "id": "norman-bhutan",
   "metadata": {},
   "source": [
    "User / book where book is in the \"to read\" list of the user. (Not really useful recommending it)"
   ]
  },
  {
   "cell_type": "markdown",
   "id": "sexual-drain",
   "metadata": {},
   "source": [
    "#  Collaborative filtering baseline"
   ]
  },
  {
   "cell_type": "code",
   "execution_count": 6,
   "id": "mineral-reform",
   "metadata": {},
   "outputs": [],
   "source": [
    "from fastai.collab import *\n",
    "from fastai.tabular.all import *"
   ]
  },
  {
   "cell_type": "markdown",
   "id": "friendly-speaking",
   "metadata": {},
   "source": [
    "Creating dataloaders with 20% kept out for validation set. Batch size of 64."
   ]
  },
  {
   "cell_type": "code",
   "execution_count": 13,
   "id": "decreased-environment",
   "metadata": {},
   "outputs": [
    {
     "data": {
      "text/html": [
       "<table border=\"1\" class=\"dataframe\">\n",
       "  <thead>\n",
       "    <tr style=\"text-align: right;\">\n",
       "      <th></th>\n",
       "      <th>user_id</th>\n",
       "      <th>book_id</th>\n",
       "      <th>rating</th>\n",
       "    </tr>\n",
       "  </thead>\n",
       "  <tbody>\n",
       "    <tr>\n",
       "      <th>0</th>\n",
       "      <td>22730</td>\n",
       "      <td>1954</td>\n",
       "      <td>5</td>\n",
       "    </tr>\n",
       "    <tr>\n",
       "      <th>1</th>\n",
       "      <td>34367</td>\n",
       "      <td>56</td>\n",
       "      <td>3</td>\n",
       "    </tr>\n",
       "    <tr>\n",
       "      <th>2</th>\n",
       "      <td>9896</td>\n",
       "      <td>325</td>\n",
       "      <td>5</td>\n",
       "    </tr>\n",
       "    <tr>\n",
       "      <th>3</th>\n",
       "      <td>48260</td>\n",
       "      <td>199</td>\n",
       "      <td>3</td>\n",
       "    </tr>\n",
       "    <tr>\n",
       "      <th>4</th>\n",
       "      <td>45356</td>\n",
       "      <td>6385</td>\n",
       "      <td>4</td>\n",
       "    </tr>\n",
       "    <tr>\n",
       "      <th>5</th>\n",
       "      <td>2099</td>\n",
       "      <td>9478</td>\n",
       "      <td>3</td>\n",
       "    </tr>\n",
       "    <tr>\n",
       "      <th>6</th>\n",
       "      <td>44048</td>\n",
       "      <td>141</td>\n",
       "      <td>5</td>\n",
       "    </tr>\n",
       "    <tr>\n",
       "      <th>7</th>\n",
       "      <td>29695</td>\n",
       "      <td>4166</td>\n",
       "      <td>3</td>\n",
       "    </tr>\n",
       "    <tr>\n",
       "      <th>8</th>\n",
       "      <td>9682</td>\n",
       "      <td>8024</td>\n",
       "      <td>3</td>\n",
       "    </tr>\n",
       "    <tr>\n",
       "      <th>9</th>\n",
       "      <td>38742</td>\n",
       "      <td>183</td>\n",
       "      <td>5</td>\n",
       "    </tr>\n",
       "  </tbody>\n",
       "</table>"
      ],
      "text/plain": [
       "<IPython.core.display.HTML object>"
      ]
     },
     "metadata": {},
     "output_type": "display_data"
    }
   ],
   "source": [
    "dls = CollabDataLoaders.from_df(ratings_data, user_name=\"user_id\", item_name=\"book_id\")\n",
    "dls.show_batch()"
   ]
  },
  {
   "cell_type": "markdown",
   "id": "painful-trading",
   "metadata": {},
   "source": [
    "Collaborative filtering with 50 latent factors for users and books."
   ]
  },
  {
   "cell_type": "code",
   "execution_count": 14,
   "id": "persistent-finder",
   "metadata": {},
   "outputs": [
    {
     "data": {
      "text/plain": [
       "[(53425, 600), (10001, 278)]"
      ]
     },
     "execution_count": 14,
     "metadata": {},
     "output_type": "execute_result"
    }
   ],
   "source": [
    "embs = get_emb_sz(dls)\n",
    "embs"
   ]
  },
  {
   "cell_type": "markdown",
   "id": "collect-spread",
   "metadata": {},
   "source": [
    "Cross-product between embeddings requires embeddings of the same size.\n",
    "We will pick something in between 600 and 278, for example: 400."
   ]
  },
  {
   "cell_type": "code",
   "execution_count": 15,
   "id": "brave-clearance",
   "metadata": {},
   "outputs": [],
   "source": [
    "learn = collab_learner(dls, n_factors=400, y_range=(-0.5, 5.5))"
   ]
  },
  {
   "cell_type": "code",
   "execution_count": 16,
   "id": "junior-bulletin",
   "metadata": {},
   "outputs": [
    {
     "data": {
      "text/html": [],
      "text/plain": [
       "<IPython.core.display.HTML object>"
      ]
     },
     "metadata": {},
     "output_type": "display_data"
    },
    {
     "data": {
      "text/plain": [
       "SuggestedLRs(lr_min=0.33113112449646, lr_steep=3.311311274956097e-06)"
      ]
     },
     "execution_count": 16,
     "metadata": {},
     "output_type": "execute_result"
    },
    {
     "data": {
      "image/png": "[encoded data removed]",
      "text/plain": [
       "<Figure size 432x288 with 1 Axes>"
      ]
     },
     "metadata": {
      "needs_background": "light"
     },
     "output_type": "display_data"
    }
   ],
   "source": [
    "learn.lr_find()"
   ]
  },
  {
   "cell_type": "code",
   "execution_count": 17,
   "id": "viral-reasoning",
   "metadata": {},
   "outputs": [
    {
     "data": {
      "text/html": [
       "<table border=\"1\" class=\"dataframe\">\n",
       "  <thead>\n",
       "    <tr style=\"text-align: left;\">\n",
       "      <th>epoch</th>\n",
       "      <th>train_loss</th>\n",
       "      <th>valid_loss</th>\n",
       "      <th>time</th>\n",
       "    </tr>\n",
       "  </thead>\n",
       "  <tbody>\n",
       "    <tr>\n",
       "      <td>0</td>\n",
       "      <td>0.776637</td>\n",
       "      <td>0.757634</td>\n",
       "      <td>19:02</td>\n",
       "    </tr>\n",
       "    <tr>\n",
       "      <td>1</td>\n",
       "      <td>0.723827</td>\n",
       "      <td>0.746814</td>\n",
       "      <td>18:53</td>\n",
       "    </tr>\n",
       "    <tr>\n",
       "      <td>2</td>\n",
       "      <td>0.757599</td>\n",
       "      <td>0.798994</td>\n",
       "      <td>19:01</td>\n",
       "    </tr>\n",
       "    <tr>\n",
       "      <td>3</td>\n",
       "      <td>0.851959</td>\n",
       "      <td>0.883705</td>\n",
       "      <td>17:39</td>\n",
       "    </tr>\n",
       "    <tr>\n",
       "      <td>4</td>\n",
       "      <td>0.898761</td>\n",
       "      <td>0.925005</td>\n",
       "      <td>17:40</td>\n",
       "    </tr>\n",
       "    <tr>\n",
       "      <td>5</td>\n",
       "      <td>0.929110</td>\n",
       "      <td>0.918584</td>\n",
       "      <td>17:08</td>\n",
       "    </tr>\n",
       "    <tr>\n",
       "      <td>6</td>\n",
       "      <td>0.892446</td>\n",
       "      <td>0.907375</td>\n",
       "      <td>17:53</td>\n",
       "    </tr>\n",
       "    <tr>\n",
       "      <td>7</td>\n",
       "      <td>0.853105</td>\n",
       "      <td>0.885791</td>\n",
       "      <td>18:08</td>\n",
       "    </tr>\n",
       "    <tr>\n",
       "      <td>8</td>\n",
       "      <td>0.808654</td>\n",
       "      <td>0.859646</td>\n",
       "      <td>17:58</td>\n",
       "    </tr>\n",
       "    <tr>\n",
       "      <td>9</td>\n",
       "      <td>0.749844</td>\n",
       "      <td>0.830360</td>\n",
       "      <td>18:10</td>\n",
       "    </tr>\n",
       "    <tr>\n",
       "      <td>10</td>\n",
       "      <td>0.749340</td>\n",
       "      <td>0.798728</td>\n",
       "      <td>17:56</td>\n",
       "    </tr>\n",
       "    <tr>\n",
       "      <td>11</td>\n",
       "      <td>0.666422</td>\n",
       "      <td>0.769000</td>\n",
       "      <td>17:15</td>\n",
       "    </tr>\n",
       "    <tr>\n",
       "      <td>12</td>\n",
       "      <td>0.572071</td>\n",
       "      <td>0.742856</td>\n",
       "      <td>17:15</td>\n",
       "    </tr>\n",
       "    <tr>\n",
       "      <td>13</td>\n",
       "      <td>0.467666</td>\n",
       "      <td>0.719032</td>\n",
       "      <td>17:12</td>\n",
       "    </tr>\n",
       "    <tr>\n",
       "      <td>14</td>\n",
       "      <td>0.362716</td>\n",
       "      <td>0.698165</td>\n",
       "      <td>17:21</td>\n",
       "    </tr>\n",
       "    <tr>\n",
       "      <td>15</td>\n",
       "      <td>0.248871</td>\n",
       "      <td>0.682377</td>\n",
       "      <td>17:09</td>\n",
       "    </tr>\n",
       "    <tr>\n",
       "      <td>16</td>\n",
       "      <td>0.169597</td>\n",
       "      <td>0.674072</td>\n",
       "      <td>17:08</td>\n",
       "    </tr>\n",
       "    <tr>\n",
       "      <td>17</td>\n",
       "      <td>0.103291</td>\n",
       "      <td>0.672034</td>\n",
       "      <td>17:08</td>\n",
       "    </tr>\n",
       "    <tr>\n",
       "      <td>18</td>\n",
       "      <td>0.073720</td>\n",
       "      <td>0.673272</td>\n",
       "      <td>17:10</td>\n",
       "    </tr>\n",
       "    <tr>\n",
       "      <td>19</td>\n",
       "      <td>0.050942</td>\n",
       "      <td>0.673637</td>\n",
       "      <td>17:10</td>\n",
       "    </tr>\n",
       "  </tbody>\n",
       "</table>"
      ],
      "text/plain": [
       "<IPython.core.display.HTML object>"
      ]
     },
     "metadata": {},
     "output_type": "display_data"
    }
   ],
   "source": [
    "learn.fit_one_cycle(20, 3e-3)"
   ]
  },
  {
   "cell_type": "code",
   "execution_count": 18,
   "id": "extended-thanks",
   "metadata": {},
   "outputs": [
    {
     "data": {
      "text/html": [],
      "text/plain": [
       "<IPython.core.display.HTML object>"
      ]
     },
     "metadata": {},
     "output_type": "display_data"
    },
    {
     "data": {
      "text/plain": [
       "EmbeddingDotBias (Input shape: 64)\n",
       "============================================================================\n",
       "Layer (type)         Output Shape         Param #    Trainable \n",
       "============================================================================\n",
       "                     64 x 400            \n",
       "Embedding                                 21370000   True      \n",
       "Embedding                                 4000400    True      \n",
       "____________________________________________________________________________\n",
       "                     64 x 1              \n",
       "Embedding                                 53425      True      \n",
       "Embedding                                 10001      True      \n",
       "____________________________________________________________________________\n",
       "\n",
       "Total params: 25,433,826\n",
       "Total trainable params: 25,433,826\n",
       "Total non-trainable params: 0\n",
       "\n",
       "Optimizer used: <function Adam at 0x7f0efedafaf0>\n",
       "Loss function: FlattenedLoss of MSELoss()\n",
       "\n",
       "Model unfrozen\n",
       "\n",
       "Callbacks:\n",
       "  - TrainEvalCallback\n",
       "  - Recorder\n",
       "  - ProgressCallback"
      ]
     },
     "execution_count": 18,
     "metadata": {},
     "output_type": "execute_result"
    }
   ],
   "source": [
    "learn.summary()"
   ]
  },
  {
   "cell_type": "code",
   "execution_count": 19,
   "id": "boring-chick",
   "metadata": {},
   "outputs": [],
   "source": [
    "#save_pickle(\"save/collab_baseline.pkl\", learn)"
   ]
  },
  {
   "cell_type": "code",
   "execution_count": 26,
   "id": "precious-international",
   "metadata": {},
   "outputs": [],
   "source": [
    "learn = collab_learner(dls, n_factors=350, y_range=(-0.5, 5.5))"
   ]
  },
  {
   "cell_type": "code",
   "execution_count": 27,
   "id": "lovely-racing",
   "metadata": {},
   "outputs": [
    {
     "data": {
      "text/html": [],
      "text/plain": [
       "<IPython.core.display.HTML object>"
      ]
     },
     "metadata": {},
     "output_type": "display_data"
    },
    {
     "data": {
      "text/plain": [
       "SuggestedLRs(lr_min=0.2754228591918945, lr_steep=9.12010818865383e-07)"
      ]
     },
     "execution_count": 27,
     "metadata": {},
     "output_type": "execute_result"
    },
    {
     "data": {
      "image/png": "[encoded data removed]",
      "text/plain": [
       "<Figure size 432x288 with 1 Axes>"
      ]
     },
     "metadata": {
      "needs_background": "light"
     },
     "output_type": "display_data"
    }
   ],
   "source": [
    "learn.lr_find()"
   ]
  },
  {
   "cell_type": "code",
   "execution_count": null,
   "id": "scenic-mitchell",
   "metadata": {},
   "outputs": [
    {
     "data": {
      "text/html": [
       "\n",
       "    <div>\n",
       "        <style>\n",
       "            /* Turns off some styling */\n",
       "            progress {\n",
       "                /* gets rid of default border in Firefox and Opera. */\n",
       "                border: none;\n",
       "                /* Needs to be in here for Safari polyfill so background images work as expected. */\n",
       "                background-size: auto;\n",
       "            }\n",
       "            .progress-bar-interrupted, .progress-bar-interrupted::-webkit-progress-bar {\n",
       "                background: #F44336;\n",
       "            }\n",
       "        </style>\n",
       "      <progress value='0' class='' max='26' style='width:300px; height:20px; vertical-align: middle;'></progress>\n",
       "      0.00% [0/26 00:00<00:00]\n",
       "    </div>\n",
       "    \n",
       "<table border=\"1\" class=\"dataframe\">\n",
       "  <thead>\n",
       "    <tr style=\"text-align: left;\">\n",
       "      <th>epoch</th>\n",
       "      <th>train_loss</th>\n",
       "      <th>valid_loss</th>\n",
       "      <th>time</th>\n",
       "    </tr>\n",
       "  </thead>\n",
       "  <tbody>\n",
       "  </tbody>\n",
       "</table><p>\n",
       "\n",
       "    <div>\n",
       "        <style>\n",
       "            /* Turns off some styling */\n",
       "            progress {\n",
       "                /* gets rid of default border in Firefox and Opera. */\n",
       "                border: none;\n",
       "                /* Needs to be in here for Safari polyfill so background images work as expected. */\n",
       "                background-size: auto;\n",
       "            }\n",
       "            .progress-bar-interrupted, .progress-bar-interrupted::-webkit-progress-bar {\n",
       "                background: #F44336;\n",
       "            }\n",
       "        </style>\n",
       "      <progress value='23985' class='' max='74706' style='width:300px; height:20px; vertical-align: middle;'></progress>\n",
       "      32.11% [23985/74706 04:59<10:32 2.5543]\n",
       "    </div>\n",
       "    "
      ],
      "text/plain": [
       "<IPython.core.display.HTML object>"
      ]
     },
     "metadata": {},
     "output_type": "display_data"
    }
   ],
   "source": [
    "learn.fit_one_cycle(26, 1e-3, wd=0.1, cbs=[SaveModelCallback(every_epoch=True)])"
   ]
  },
  {
   "cell_type": "code",
   "execution_count": null,
   "id": "funny-continuity",
   "metadata": {},
   "outputs": [],
   "source": [
    "learn.summary()"
   ]
  },
  {
   "cell_type": "code",
   "execution_count": null,
   "id": "infectious-workstation",
   "metadata": {},
   "outputs": [],
   "source": [
    "#save_pickle(\"save/collab_baseline.pkl\", learn)"
   ]
  },
  {
   "cell_type": "markdown",
   "id": "internal-syntax",
   "metadata": {},
   "source": [
    "# Exploratory data analysis"
   ]
  },
  {
   "cell_type": "markdown",
   "id": "entitled-invasion",
   "metadata": {},
   "source": [
    "# Predicting average book rating using only book info"
   ]
  },
  {
   "cell_type": "markdown",
   "id": "forced-lodge",
   "metadata": {},
   "source": [
    "We are going to leverage random forest to help us in this task."
   ]
  },
  {
   "cell_type": "markdown",
   "id": "under-reply",
   "metadata": {},
   "source": [
    "## Feature engineering"
   ]
  },
  {
   "cell_type": "markdown",
   "id": "banned-movement",
   "metadata": {},
   "source": [
    "## Info in title"
   ]
  },
  {
   "cell_type": "code",
   "execution_count": 16,
   "id": "decreased-webcam",
   "metadata": {},
   "outputs": [],
   "source": [
    "import re\n",
    "import pandas as pd"
   ]
  },
  {
   "cell_type": "code",
   "execution_count": 17,
   "id": "correct-warehouse",
   "metadata": {},
   "outputs": [],
   "source": [
    "def extract_series(title):\n",
    "    matches = re.search(r'^(?P<Title>.+)\\s\\((?P<Series>.+), #(?P<Number>\\d)\\)$', title)\n",
    "    if matches is None:\n",
    "        series = None\n",
    "        number = 1\n",
    "    else:\n",
    "        title = matches.group('Title')\n",
    "        series = matches.group('Series')\n",
    "        number = matches.group('Number')\n",
    "    return title, series, int(number)"
   ]
  },
  {
   "cell_type": "code",
   "execution_count": 18,
   "id": "statutory-constant",
   "metadata": {},
   "outputs": [],
   "source": [
    "title_data = book_data['title'].apply(extract_series).apply(pd.Series)\n",
    "title_data.columns = ['title', 'series', 'volume_number']"
   ]
  },
  {
   "cell_type": "code",
   "execution_count": 19,
   "id": "framed-gauge",
   "metadata": {},
   "outputs": [
    {
     "data": {
      "text/html": [
       "<div>\n",
       "<style scoped>\n",
       "    .dataframe tbody tr th:only-of-type {\n",
       "        vertical-align: middle;\n",
       "    }\n",
       "\n",
       "    .dataframe tbody tr th {\n",
       "        vertical-align: top;\n",
       "    }\n",
       "\n",
       "    .dataframe thead th {\n",
       "        text-align: right;\n",
       "    }\n",
       "</style>\n",
       "<table border=\"1\" class=\"dataframe\">\n",
       "  <thead>\n",
       "    <tr style=\"text-align: right;\">\n",
       "      <th></th>\n",
       "      <th>title</th>\n",
       "      <th>series</th>\n",
       "      <th>volume_number</th>\n",
       "    </tr>\n",
       "  </thead>\n",
       "  <tbody>\n",
       "    <tr>\n",
       "      <th>0</th>\n",
       "      <td>The Hunger Games</td>\n",
       "      <td>The Hunger Games</td>\n",
       "      <td>1</td>\n",
       "    </tr>\n",
       "    <tr>\n",
       "      <th>1</th>\n",
       "      <td>Harry Potter and the Sorcerer's Stone</td>\n",
       "      <td>Harry Potter</td>\n",
       "      <td>1</td>\n",
       "    </tr>\n",
       "    <tr>\n",
       "      <th>2</th>\n",
       "      <td>Twilight</td>\n",
       "      <td>Twilight</td>\n",
       "      <td>1</td>\n",
       "    </tr>\n",
       "    <tr>\n",
       "      <th>3</th>\n",
       "      <td>To Kill a Mockingbird</td>\n",
       "      <td>None</td>\n",
       "      <td>1</td>\n",
       "    </tr>\n",
       "    <tr>\n",
       "      <th>4</th>\n",
       "      <td>The Great Gatsby</td>\n",
       "      <td>None</td>\n",
       "      <td>1</td>\n",
       "    </tr>\n",
       "    <tr>\n",
       "      <th>...</th>\n",
       "      <td>...</td>\n",
       "      <td>...</td>\n",
       "      <td>...</td>\n",
       "    </tr>\n",
       "    <tr>\n",
       "      <th>9995</th>\n",
       "      <td>Bayou Moon</td>\n",
       "      <td>The Edge</td>\n",
       "      <td>2</td>\n",
       "    </tr>\n",
       "    <tr>\n",
       "      <th>9996</th>\n",
       "      <td>Means of Ascent</td>\n",
       "      <td>The Years of Lyndon Johnson</td>\n",
       "      <td>2</td>\n",
       "    </tr>\n",
       "    <tr>\n",
       "      <th>9997</th>\n",
       "      <td>The Mauritius Command</td>\n",
       "      <td>None</td>\n",
       "      <td>1</td>\n",
       "    </tr>\n",
       "    <tr>\n",
       "      <th>9998</th>\n",
       "      <td>Cinderella Ate My Daughter: Dispatches from th...</td>\n",
       "      <td>None</td>\n",
       "      <td>1</td>\n",
       "    </tr>\n",
       "    <tr>\n",
       "      <th>9999</th>\n",
       "      <td>The First World War</td>\n",
       "      <td>None</td>\n",
       "      <td>1</td>\n",
       "    </tr>\n",
       "  </tbody>\n",
       "</table>\n",
       "<p>10000 rows × 3 columns</p>\n",
       "</div>"
      ],
      "text/plain": [
       "                                                  title  \\\n",
       "0                                      The Hunger Games   \n",
       "1                 Harry Potter and the Sorcerer's Stone   \n",
       "2                                              Twilight   \n",
       "3                                 To Kill a Mockingbird   \n",
       "4                                      The Great Gatsby   \n",
       "...                                                 ...   \n",
       "9995                                         Bayou Moon   \n",
       "9996                                    Means of Ascent   \n",
       "9997                              The Mauritius Command   \n",
       "9998  Cinderella Ate My Daughter: Dispatches from th...   \n",
       "9999                                The First World War   \n",
       "\n",
       "                           series  volume_number  \n",
       "0                The Hunger Games              1  \n",
       "1                    Harry Potter              1  \n",
       "2                        Twilight              1  \n",
       "3                            None              1  \n",
       "4                            None              1  \n",
       "...                           ...            ...  \n",
       "9995                     The Edge              2  \n",
       "9996  The Years of Lyndon Johnson              2  \n",
       "9997                         None              1  \n",
       "9998                         None              1  \n",
       "9999                         None              1  \n",
       "\n",
       "[10000 rows x 3 columns]"
      ]
     },
     "execution_count": 19,
     "metadata": {},
     "output_type": "execute_result"
    }
   ],
   "source": [
    "title_data"
   ]
  },
  {
   "cell_type": "code",
   "execution_count": 20,
   "id": "given-belief",
   "metadata": {},
   "outputs": [],
   "source": [
    "book_data = book_data.drop('title', axis=1)\n",
    "book_data = pd.concat([book_data, title_data], axis=1)"
   ]
  },
  {
   "cell_type": "code",
   "execution_count": 21,
   "id": "unnecessary-delay",
   "metadata": {},
   "outputs": [
    {
     "data": {
      "text/html": [
       "<div>\n",
       "<style scoped>\n",
       "    .dataframe tbody tr th:only-of-type {\n",
       "        vertical-align: middle;\n",
       "    }\n",
       "\n",
       "    .dataframe tbody tr th {\n",
       "        vertical-align: top;\n",
       "    }\n",
       "\n",
       "    .dataframe thead th {\n",
       "        text-align: right;\n",
       "    }\n",
       "</style>\n",
       "<table border=\"1\" class=\"dataframe\">\n",
       "  <thead>\n",
       "    <tr style=\"text-align: right;\">\n",
       "      <th></th>\n",
       "      <th>title</th>\n",
       "      <th>series</th>\n",
       "      <th>volume_number</th>\n",
       "    </tr>\n",
       "  </thead>\n",
       "  <tbody>\n",
       "    <tr>\n",
       "      <th>0</th>\n",
       "      <td>The Hunger Games</td>\n",
       "      <td>The Hunger Games</td>\n",
       "      <td>1</td>\n",
       "    </tr>\n",
       "    <tr>\n",
       "      <th>1</th>\n",
       "      <td>Harry Potter and the Sorcerer's Stone</td>\n",
       "      <td>Harry Potter</td>\n",
       "      <td>1</td>\n",
       "    </tr>\n",
       "    <tr>\n",
       "      <th>2</th>\n",
       "      <td>Twilight</td>\n",
       "      <td>Twilight</td>\n",
       "      <td>1</td>\n",
       "    </tr>\n",
       "  </tbody>\n",
       "</table>\n",
       "</div>"
      ],
      "text/plain": [
       "                                   title            series  volume_number\n",
       "0                       The Hunger Games  The Hunger Games              1\n",
       "1  Harry Potter and the Sorcerer's Stone      Harry Potter              1\n",
       "2                               Twilight          Twilight              1"
      ]
     },
     "execution_count": 21,
     "metadata": {},
     "output_type": "execute_result"
    }
   ],
   "source": [
    "book_data.iloc[:3,-3:]"
   ]
  },
  {
   "cell_type": "markdown",
   "id": "optical-contemporary",
   "metadata": {},
   "source": [
    "## Leveraging tags"
   ]
  },
  {
   "cell_type": "code",
   "execution_count": 22,
   "id": "quality-hampshire",
   "metadata": {},
   "outputs": [],
   "source": [
    "import numpy as np"
   ]
  },
  {
   "cell_type": "code",
   "execution_count": 23,
   "id": "graduate-gregory",
   "metadata": {},
   "outputs": [
    {
     "data": {
      "text/plain": [
       "(34252, 34252)"
      ]
     },
     "execution_count": 23,
     "metadata": {},
     "output_type": "execute_result"
    }
   ],
   "source": [
    "nb_tags, _ = len(tags_data.tag_id.unique()), tags_data.tag_id.max() + 1 # +1 since first id is 0\n",
    "nb_tags, _"
   ]
  },
  {
   "cell_type": "markdown",
   "id": "rocky-necklace",
   "metadata": {},
   "source": [
    "Don't think there is any hole."
   ]
  },
  {
   "cell_type": "code",
   "execution_count": 24,
   "id": "velvet-local",
   "metadata": {},
   "outputs": [
    {
     "data": {
      "text/html": [
       "<div>\n",
       "<style scoped>\n",
       "    .dataframe tbody tr th:only-of-type {\n",
       "        vertical-align: middle;\n",
       "    }\n",
       "\n",
       "    .dataframe tbody tr th {\n",
       "        vertical-align: top;\n",
       "    }\n",
       "\n",
       "    .dataframe thead th {\n",
       "        text-align: right;\n",
       "    }\n",
       "</style>\n",
       "<table border=\"1\" class=\"dataframe\">\n",
       "  <thead>\n",
       "    <tr style=\"text-align: right;\">\n",
       "      <th></th>\n",
       "      <th>tag_id</th>\n",
       "      <th>tag_name</th>\n",
       "    </tr>\n",
       "  </thead>\n",
       "  <tbody>\n",
       "    <tr>\n",
       "      <th>0</th>\n",
       "      <td>0</td>\n",
       "      <td>-</td>\n",
       "    </tr>\n",
       "    <tr>\n",
       "      <th>1</th>\n",
       "      <td>1</td>\n",
       "      <td>--1-</td>\n",
       "    </tr>\n",
       "    <tr>\n",
       "      <th>2</th>\n",
       "      <td>2</td>\n",
       "      <td>--10-</td>\n",
       "    </tr>\n",
       "    <tr>\n",
       "      <th>3</th>\n",
       "      <td>3</td>\n",
       "      <td>--12-</td>\n",
       "    </tr>\n",
       "    <tr>\n",
       "      <th>4</th>\n",
       "      <td>4</td>\n",
       "      <td>--122-</td>\n",
       "    </tr>\n",
       "  </tbody>\n",
       "</table>\n",
       "</div>"
      ],
      "text/plain": [
       "   tag_id tag_name\n",
       "0       0        -\n",
       "1       1     --1-\n",
       "2       2    --10-\n",
       "3       3    --12-\n",
       "4       4   --122-"
      ]
     },
     "execution_count": 24,
     "metadata": {},
     "output_type": "execute_result"
    }
   ],
   "source": [
    "tags_data.head(5)"
   ]
  },
  {
   "cell_type": "code",
   "execution_count": 25,
   "id": "quiet-louis",
   "metadata": {},
   "outputs": [
    {
     "data": {
      "text/html": [
       "<div>\n",
       "<style scoped>\n",
       "    .dataframe tbody tr th:only-of-type {\n",
       "        vertical-align: middle;\n",
       "    }\n",
       "\n",
       "    .dataframe tbody tr th {\n",
       "        vertical-align: top;\n",
       "    }\n",
       "\n",
       "    .dataframe thead th {\n",
       "        text-align: right;\n",
       "    }\n",
       "</style>\n",
       "<table border=\"1\" class=\"dataframe\">\n",
       "  <thead>\n",
       "    <tr style=\"text-align: right;\">\n",
       "      <th></th>\n",
       "      <th>tag_id</th>\n",
       "      <th>tag_name</th>\n",
       "    </tr>\n",
       "  </thead>\n",
       "  <tbody>\n",
       "    <tr>\n",
       "      <th>34247</th>\n",
       "      <td>34247</td>\n",
       "      <td>Ｃhildrens</td>\n",
       "    </tr>\n",
       "    <tr>\n",
       "      <th>34248</th>\n",
       "      <td>34248</td>\n",
       "      <td>Ｆａｖｏｒｉｔｅｓ</td>\n",
       "    </tr>\n",
       "    <tr>\n",
       "      <th>34249</th>\n",
       "      <td>34249</td>\n",
       "      <td>Ｍａｎｇａ</td>\n",
       "    </tr>\n",
       "    <tr>\n",
       "      <th>34250</th>\n",
       "      <td>34250</td>\n",
       "      <td>ＳＥＲＩＥＳ</td>\n",
       "    </tr>\n",
       "    <tr>\n",
       "      <th>34251</th>\n",
       "      <td>34251</td>\n",
       "      <td>ｆａｖｏｕｒｉｔｅｓ</td>\n",
       "    </tr>\n",
       "  </tbody>\n",
       "</table>\n",
       "</div>"
      ],
      "text/plain": [
       "       tag_id    tag_name\n",
       "34247   34247   Ｃhildrens\n",
       "34248   34248   Ｆａｖｏｒｉｔｅｓ\n",
       "34249   34249       Ｍａｎｇａ\n",
       "34250   34250      ＳＥＲＩＥＳ\n",
       "34251   34251  ｆａｖｏｕｒｉｔｅｓ"
      ]
     },
     "execution_count": 25,
     "metadata": {},
     "output_type": "execute_result"
    }
   ],
   "source": [
    "tags_data.tail(5)"
   ]
  },
  {
   "cell_type": "markdown",
   "id": "martial-listing",
   "metadata": {},
   "source": [
    "**We are drowning in tags!**\n",
    "Users can create their own tags, which doesn't help. Instead we will use the tags provided by goodbooks genres, namely [these ones](https://www.goodreads.com/genres)"
   ]
  },
  {
   "cell_type": "code",
   "execution_count": 26,
   "id": "running-asbestos",
   "metadata": {},
   "outputs": [],
   "source": [
    "genres = [\"Art\", \"Biography\", \"Business\", \"Chick Lit\", \"Children's\", \"Christian\", \"Classics\", \"Comics\", \"Contemporary\", \"Cookbooks\", \"Crime\", \"Ebooks\", \"Fantasy\", \"Fiction\", \"Gay and Lesbian\", \"Graphic Novels\", \"Historical Fiction\", \"History\", \"Horror\", \"Humor and Comedy\", \"Manga\", \"Memoir\", \"Music\", \"Mystery\", \"Nonfiction\", \"Paranormal\", \"Philosophy\", \"Poetry\", \"Psychology\", \"Religion\", \"Romance\", \"Science\", \"Science Fiction\", \"Self Help\", \"Suspense\", \"Spirituality\", \"Sports\", \"Thriller\", \"Travel\", \"Young Adult\"]\n",
    "genres_tags = [genre.lower().replace(\" and \", \"-\").replace(\" \", \"-\").replace(\"'s\", \"\") for genre in genres]"
   ]
  },
  {
   "cell_type": "code",
   "execution_count": 27,
   "id": "pregnant-prediction",
   "metadata": {},
   "outputs": [
    {
     "data": {
      "text/plain": [
       "(40, 40)"
      ]
     },
     "execution_count": 27,
     "metadata": {},
     "output_type": "execute_result"
    }
   ],
   "source": [
    "len(genres), len(tags_data[tags_data['tag_name'].isin(genres_tags)])"
   ]
  },
  {
   "cell_type": "code",
   "execution_count": 28,
   "id": "alike-awareness",
   "metadata": {},
   "outputs": [],
   "source": [
    "nb_genres = len(genres)"
   ]
  },
  {
   "cell_type": "markdown",
   "id": "decimal-switch",
   "metadata": {},
   "source": [
    "We now have all the genres! Let's filter the tags and transform the count into True-False."
   ]
  },
  {
   "cell_type": "code",
   "execution_count": 29,
   "id": "defensive-passport",
   "metadata": {},
   "outputs": [],
   "source": [
    "genres_tag_ids = tags_data[tags_data['tag_name'].isin(genres_tags)].tag_id"
   ]
  },
  {
   "cell_type": "code",
   "execution_count": 30,
   "id": "demonstrated-difficulty",
   "metadata": {},
   "outputs": [],
   "source": [
    "bookgenres_data = booktags_data[booktags_data['tag_id'].isin(genres_tag_ids)]"
   ]
  },
  {
   "cell_type": "code",
   "execution_count": 31,
   "id": "nuclear-evening",
   "metadata": {},
   "outputs": [],
   "source": [
    "tag_genre_map = {tag: genres_tags.index(tags_data.loc[tag].tag_name) for tag in genres_tag_ids}"
   ]
  },
  {
   "cell_type": "code",
   "execution_count": 32,
   "id": "vocal-impression",
   "metadata": {},
   "outputs": [
    {
     "data": {
      "text/html": [
       "<div>\n",
       "<style scoped>\n",
       "    .dataframe tbody tr th:only-of-type {\n",
       "        vertical-align: middle;\n",
       "    }\n",
       "\n",
       "    .dataframe tbody tr th {\n",
       "        vertical-align: top;\n",
       "    }\n",
       "\n",
       "    .dataframe thead th {\n",
       "        text-align: right;\n",
       "    }\n",
       "</style>\n",
       "<table border=\"1\" class=\"dataframe\">\n",
       "  <thead>\n",
       "    <tr style=\"text-align: right;\">\n",
       "      <th></th>\n",
       "      <th>tag_id</th>\n",
       "      <th>count</th>\n",
       "    </tr>\n",
       "    <tr>\n",
       "      <th>goodreads_book_id</th>\n",
       "      <th></th>\n",
       "      <th></th>\n",
       "    </tr>\n",
       "  </thead>\n",
       "  <tbody>\n",
       "    <tr>\n",
       "      <th>1</th>\n",
       "      <td>[11305, 33114, 11743, 6857, 7457, 22973, 20939...</td>\n",
       "      <td>[37174, 12716, 9954, 1560, 958, 673, 465, 334,...</td>\n",
       "    </tr>\n",
       "  </tbody>\n",
       "</table>\n",
       "</div>"
      ],
      "text/plain": [
       "                                                              tag_id  \\\n",
       "goodreads_book_id                                                      \n",
       "1                  [11305, 33114, 11743, 6857, 7457, 22973, 20939...   \n",
       "\n",
       "                                                               count  \n",
       "goodreads_book_id                                                     \n",
       "1                  [37174, 12716, 9954, 1560, 958, 673, 465, 334,...  "
      ]
     },
     "execution_count": 32,
     "metadata": {},
     "output_type": "execute_result"
    }
   ],
   "source": [
    "grouped_genres_counts = bookgenres_data.groupby('goodreads_book_id').agg(lambda x: x.tolist())\n",
    "grouped_genres_counts.head(1)"
   ]
  },
  {
   "cell_type": "code",
   "execution_count": 33,
   "id": "knowing-constitution",
   "metadata": {},
   "outputs": [],
   "source": [
    "def one_hot_from_genre_count_list(tags):\n",
    "    one_hot = np.repeat(0, nb_genres)\n",
    "    genres = [tag_genre_map[tag] for tag in tags]\n",
    "    one_hot[genres] = 1\n",
    "    return pd.Series(one_hot)"
   ]
  },
  {
   "cell_type": "code",
   "execution_count": 34,
   "id": "instructional-importance",
   "metadata": {},
   "outputs": [],
   "source": [
    "one_hot = grouped_genres_counts.apply(lambda x: one_hot_from_genre_count_list(x['tag_id']), axis=1)\n",
    "one_hot.columns = genres"
   ]
  },
  {
   "cell_type": "code",
   "execution_count": 35,
   "id": "roman-nirvana",
   "metadata": {},
   "outputs": [
    {
     "data": {
      "text/html": [
       "<div>\n",
       "<style scoped>\n",
       "    .dataframe tbody tr th:only-of-type {\n",
       "        vertical-align: middle;\n",
       "    }\n",
       "\n",
       "    .dataframe tbody tr th {\n",
       "        vertical-align: top;\n",
       "    }\n",
       "\n",
       "    .dataframe thead th {\n",
       "        text-align: right;\n",
       "    }\n",
       "</style>\n",
       "<table border=\"1\" class=\"dataframe\">\n",
       "  <thead>\n",
       "    <tr style=\"text-align: right;\">\n",
       "      <th></th>\n",
       "      <th>Art</th>\n",
       "      <th>Biography</th>\n",
       "      <th>Business</th>\n",
       "      <th>Chick Lit</th>\n",
       "      <th>Children's</th>\n",
       "      <th>Christian</th>\n",
       "      <th>Classics</th>\n",
       "      <th>Comics</th>\n",
       "      <th>Contemporary</th>\n",
       "      <th>Cookbooks</th>\n",
       "      <th>...</th>\n",
       "      <th>Romance</th>\n",
       "      <th>Science</th>\n",
       "      <th>Science Fiction</th>\n",
       "      <th>Self Help</th>\n",
       "      <th>Suspense</th>\n",
       "      <th>Spirituality</th>\n",
       "      <th>Sports</th>\n",
       "      <th>Thriller</th>\n",
       "      <th>Travel</th>\n",
       "      <th>Young Adult</th>\n",
       "    </tr>\n",
       "    <tr>\n",
       "      <th>goodreads_book_id</th>\n",
       "      <th></th>\n",
       "      <th></th>\n",
       "      <th></th>\n",
       "      <th></th>\n",
       "      <th></th>\n",
       "      <th></th>\n",
       "      <th></th>\n",
       "      <th></th>\n",
       "      <th></th>\n",
       "      <th></th>\n",
       "      <th></th>\n",
       "      <th></th>\n",
       "      <th></th>\n",
       "      <th></th>\n",
       "      <th></th>\n",
       "      <th></th>\n",
       "      <th></th>\n",
       "      <th></th>\n",
       "      <th></th>\n",
       "      <th></th>\n",
       "      <th></th>\n",
       "    </tr>\n",
       "  </thead>\n",
       "  <tbody>\n",
       "    <tr>\n",
       "      <th>1</th>\n",
       "      <td>0</td>\n",
       "      <td>0</td>\n",
       "      <td>0</td>\n",
       "      <td>0</td>\n",
       "      <td>1</td>\n",
       "      <td>0</td>\n",
       "      <td>1</td>\n",
       "      <td>0</td>\n",
       "      <td>1</td>\n",
       "      <td>0</td>\n",
       "      <td>...</td>\n",
       "      <td>1</td>\n",
       "      <td>0</td>\n",
       "      <td>0</td>\n",
       "      <td>0</td>\n",
       "      <td>0</td>\n",
       "      <td>0</td>\n",
       "      <td>0</td>\n",
       "      <td>0</td>\n",
       "      <td>0</td>\n",
       "      <td>1</td>\n",
       "    </tr>\n",
       "    <tr>\n",
       "      <th>2</th>\n",
       "      <td>0</td>\n",
       "      <td>0</td>\n",
       "      <td>0</td>\n",
       "      <td>0</td>\n",
       "      <td>1</td>\n",
       "      <td>0</td>\n",
       "      <td>0</td>\n",
       "      <td>0</td>\n",
       "      <td>0</td>\n",
       "      <td>0</td>\n",
       "      <td>...</td>\n",
       "      <td>1</td>\n",
       "      <td>0</td>\n",
       "      <td>0</td>\n",
       "      <td>0</td>\n",
       "      <td>0</td>\n",
       "      <td>0</td>\n",
       "      <td>0</td>\n",
       "      <td>0</td>\n",
       "      <td>0</td>\n",
       "      <td>1</td>\n",
       "    </tr>\n",
       "    <tr>\n",
       "      <th>3</th>\n",
       "      <td>0</td>\n",
       "      <td>0</td>\n",
       "      <td>0</td>\n",
       "      <td>0</td>\n",
       "      <td>1</td>\n",
       "      <td>0</td>\n",
       "      <td>1</td>\n",
       "      <td>0</td>\n",
       "      <td>1</td>\n",
       "      <td>0</td>\n",
       "      <td>...</td>\n",
       "      <td>0</td>\n",
       "      <td>0</td>\n",
       "      <td>0</td>\n",
       "      <td>0</td>\n",
       "      <td>0</td>\n",
       "      <td>0</td>\n",
       "      <td>0</td>\n",
       "      <td>0</td>\n",
       "      <td>0</td>\n",
       "      <td>1</td>\n",
       "    </tr>\n",
       "    <tr>\n",
       "      <th>5</th>\n",
       "      <td>0</td>\n",
       "      <td>0</td>\n",
       "      <td>0</td>\n",
       "      <td>0</td>\n",
       "      <td>1</td>\n",
       "      <td>0</td>\n",
       "      <td>1</td>\n",
       "      <td>0</td>\n",
       "      <td>1</td>\n",
       "      <td>0</td>\n",
       "      <td>...</td>\n",
       "      <td>0</td>\n",
       "      <td>0</td>\n",
       "      <td>0</td>\n",
       "      <td>0</td>\n",
       "      <td>0</td>\n",
       "      <td>0</td>\n",
       "      <td>0</td>\n",
       "      <td>0</td>\n",
       "      <td>0</td>\n",
       "      <td>1</td>\n",
       "    </tr>\n",
       "    <tr>\n",
       "      <th>6</th>\n",
       "      <td>0</td>\n",
       "      <td>0</td>\n",
       "      <td>0</td>\n",
       "      <td>0</td>\n",
       "      <td>1</td>\n",
       "      <td>0</td>\n",
       "      <td>1</td>\n",
       "      <td>0</td>\n",
       "      <td>1</td>\n",
       "      <td>0</td>\n",
       "      <td>...</td>\n",
       "      <td>0</td>\n",
       "      <td>0</td>\n",
       "      <td>0</td>\n",
       "      <td>0</td>\n",
       "      <td>0</td>\n",
       "      <td>0</td>\n",
       "      <td>0</td>\n",
       "      <td>0</td>\n",
       "      <td>0</td>\n",
       "      <td>1</td>\n",
       "    </tr>\n",
       "    <tr>\n",
       "      <th>...</th>\n",
       "      <td>...</td>\n",
       "      <td>...</td>\n",
       "      <td>...</td>\n",
       "      <td>...</td>\n",
       "      <td>...</td>\n",
       "      <td>...</td>\n",
       "      <td>...</td>\n",
       "      <td>...</td>\n",
       "      <td>...</td>\n",
       "      <td>...</td>\n",
       "      <td>...</td>\n",
       "      <td>...</td>\n",
       "      <td>...</td>\n",
       "      <td>...</td>\n",
       "      <td>...</td>\n",
       "      <td>...</td>\n",
       "      <td>...</td>\n",
       "      <td>...</td>\n",
       "      <td>...</td>\n",
       "      <td>...</td>\n",
       "      <td>...</td>\n",
       "    </tr>\n",
       "    <tr>\n",
       "      <th>31538647</th>\n",
       "      <td>0</td>\n",
       "      <td>0</td>\n",
       "      <td>0</td>\n",
       "      <td>0</td>\n",
       "      <td>1</td>\n",
       "      <td>0</td>\n",
       "      <td>0</td>\n",
       "      <td>0</td>\n",
       "      <td>0</td>\n",
       "      <td>0</td>\n",
       "      <td>...</td>\n",
       "      <td>0</td>\n",
       "      <td>0</td>\n",
       "      <td>0</td>\n",
       "      <td>0</td>\n",
       "      <td>0</td>\n",
       "      <td>0</td>\n",
       "      <td>0</td>\n",
       "      <td>0</td>\n",
       "      <td>0</td>\n",
       "      <td>1</td>\n",
       "    </tr>\n",
       "    <tr>\n",
       "      <th>31845516</th>\n",
       "      <td>0</td>\n",
       "      <td>1</td>\n",
       "      <td>0</td>\n",
       "      <td>0</td>\n",
       "      <td>0</td>\n",
       "      <td>1</td>\n",
       "      <td>0</td>\n",
       "      <td>0</td>\n",
       "      <td>1</td>\n",
       "      <td>0</td>\n",
       "      <td>...</td>\n",
       "      <td>0</td>\n",
       "      <td>0</td>\n",
       "      <td>0</td>\n",
       "      <td>1</td>\n",
       "      <td>0</td>\n",
       "      <td>1</td>\n",
       "      <td>0</td>\n",
       "      <td>0</td>\n",
       "      <td>0</td>\n",
       "      <td>0</td>\n",
       "    </tr>\n",
       "    <tr>\n",
       "      <th>32075671</th>\n",
       "      <td>0</td>\n",
       "      <td>0</td>\n",
       "      <td>0</td>\n",
       "      <td>0</td>\n",
       "      <td>0</td>\n",
       "      <td>0</td>\n",
       "      <td>0</td>\n",
       "      <td>0</td>\n",
       "      <td>1</td>\n",
       "      <td>0</td>\n",
       "      <td>...</td>\n",
       "      <td>1</td>\n",
       "      <td>0</td>\n",
       "      <td>0</td>\n",
       "      <td>0</td>\n",
       "      <td>0</td>\n",
       "      <td>0</td>\n",
       "      <td>0</td>\n",
       "      <td>0</td>\n",
       "      <td>0</td>\n",
       "      <td>1</td>\n",
       "    </tr>\n",
       "    <tr>\n",
       "      <th>32848471</th>\n",
       "      <td>0</td>\n",
       "      <td>0</td>\n",
       "      <td>0</td>\n",
       "      <td>1</td>\n",
       "      <td>0</td>\n",
       "      <td>0</td>\n",
       "      <td>0</td>\n",
       "      <td>0</td>\n",
       "      <td>1</td>\n",
       "      <td>0</td>\n",
       "      <td>...</td>\n",
       "      <td>1</td>\n",
       "      <td>0</td>\n",
       "      <td>0</td>\n",
       "      <td>0</td>\n",
       "      <td>0</td>\n",
       "      <td>0</td>\n",
       "      <td>0</td>\n",
       "      <td>0</td>\n",
       "      <td>0</td>\n",
       "      <td>0</td>\n",
       "    </tr>\n",
       "    <tr>\n",
       "      <th>33288638</th>\n",
       "      <td>0</td>\n",
       "      <td>0</td>\n",
       "      <td>0</td>\n",
       "      <td>1</td>\n",
       "      <td>1</td>\n",
       "      <td>0</td>\n",
       "      <td>0</td>\n",
       "      <td>0</td>\n",
       "      <td>1</td>\n",
       "      <td>0</td>\n",
       "      <td>...</td>\n",
       "      <td>1</td>\n",
       "      <td>0</td>\n",
       "      <td>0</td>\n",
       "      <td>0</td>\n",
       "      <td>0</td>\n",
       "      <td>0</td>\n",
       "      <td>1</td>\n",
       "      <td>0</td>\n",
       "      <td>0</td>\n",
       "      <td>0</td>\n",
       "    </tr>\n",
       "  </tbody>\n",
       "</table>\n",
       "<p>10000 rows × 40 columns</p>\n",
       "</div>"
      ],
      "text/plain": [
       "                   Art  Biography  Business  Chick Lit  Children's  Christian  \\\n",
       "goodreads_book_id                                                               \n",
       "1                    0          0         0          0           1          0   \n",
       "2                    0          0         0          0           1          0   \n",
       "3                    0          0         0          0           1          0   \n",
       "5                    0          0         0          0           1          0   \n",
       "6                    0          0         0          0           1          0   \n",
       "...                ...        ...       ...        ...         ...        ...   \n",
       "31538647             0          0         0          0           1          0   \n",
       "31845516             0          1         0          0           0          1   \n",
       "32075671             0          0         0          0           0          0   \n",
       "32848471             0          0         0          1           0          0   \n",
       "33288638             0          0         0          1           1          0   \n",
       "\n",
       "                   Classics  Comics  Contemporary  Cookbooks  ...  Romance  \\\n",
       "goodreads_book_id                                             ...            \n",
       "1                         1       0             1          0  ...        1   \n",
       "2                         0       0             0          0  ...        1   \n",
       "3                         1       0             1          0  ...        0   \n",
       "5                         1       0             1          0  ...        0   \n",
       "6                         1       0             1          0  ...        0   \n",
       "...                     ...     ...           ...        ...  ...      ...   \n",
       "31538647                  0       0             0          0  ...        0   \n",
       "31845516                  0       0             1          0  ...        0   \n",
       "32075671                  0       0             1          0  ...        1   \n",
       "32848471                  0       0             1          0  ...        1   \n",
       "33288638                  0       0             1          0  ...        1   \n",
       "\n",
       "                   Science  Science Fiction  Self Help  Suspense  \\\n",
       "goodreads_book_id                                                  \n",
       "1                        0                0          0         0   \n",
       "2                        0                0          0         0   \n",
       "3                        0                0          0         0   \n",
       "5                        0                0          0         0   \n",
       "6                        0                0          0         0   \n",
       "...                    ...              ...        ...       ...   \n",
       "31538647                 0                0          0         0   \n",
       "31845516                 0                0          1         0   \n",
       "32075671                 0                0          0         0   \n",
       "32848471                 0                0          0         0   \n",
       "33288638                 0                0          0         0   \n",
       "\n",
       "                   Spirituality  Sports  Thriller  Travel  Young Adult  \n",
       "goodreads_book_id                                                       \n",
       "1                             0       0         0       0            1  \n",
       "2                             0       0         0       0            1  \n",
       "3                             0       0         0       0            1  \n",
       "5                             0       0         0       0            1  \n",
       "6                             0       0         0       0            1  \n",
       "...                         ...     ...       ...     ...          ...  \n",
       "31538647                      0       0         0       0            1  \n",
       "31845516                      1       0         0       0            0  \n",
       "32075671                      0       0         0       0            1  \n",
       "32848471                      0       0         0       0            0  \n",
       "33288638                      0       1         0       0            0  \n",
       "\n",
       "[10000 rows x 40 columns]"
      ]
     },
     "execution_count": 35,
     "metadata": {},
     "output_type": "execute_result"
    }
   ],
   "source": [
    "one_hot"
   ]
  },
  {
   "cell_type": "code",
   "execution_count": 36,
   "id": "destroyed-reason",
   "metadata": {},
   "outputs": [],
   "source": [
    "#one_hot.to_csv('save/genres_one_hot.csv')"
   ]
  },
  {
   "cell_type": "code",
   "execution_count": 37,
   "id": "funky-collective",
   "metadata": {},
   "outputs": [],
   "source": [
    "one_hot.reset_index(inplace=True)"
   ]
  },
  {
   "cell_type": "code",
   "execution_count": 38,
   "id": "distributed-canal",
   "metadata": {},
   "outputs": [],
   "source": [
    "book_with_genres = book_data.merge(one_hot)"
   ]
  },
  {
   "cell_type": "code",
   "execution_count": 39,
   "id": "athletic-organ",
   "metadata": {},
   "outputs": [
    {
     "data": {
      "text/html": [
       "<div>\n",
       "<style scoped>\n",
       "    .dataframe tbody tr th:only-of-type {\n",
       "        vertical-align: middle;\n",
       "    }\n",
       "\n",
       "    .dataframe tbody tr th {\n",
       "        vertical-align: top;\n",
       "    }\n",
       "\n",
       "    .dataframe thead th {\n",
       "        text-align: right;\n",
       "    }\n",
       "</style>\n",
       "<table border=\"1\" class=\"dataframe\">\n",
       "  <thead>\n",
       "    <tr style=\"text-align: right;\">\n",
       "      <th></th>\n",
       "      <th>book_id</th>\n",
       "      <th>goodreads_book_id</th>\n",
       "      <th>best_book_id</th>\n",
       "      <th>work_id</th>\n",
       "      <th>books_count</th>\n",
       "      <th>isbn</th>\n",
       "      <th>isbn13</th>\n",
       "      <th>authors</th>\n",
       "      <th>original_publication_year</th>\n",
       "      <th>original_title</th>\n",
       "      <th>...</th>\n",
       "      <th>Romance</th>\n",
       "      <th>Science</th>\n",
       "      <th>Science Fiction</th>\n",
       "      <th>Self Help</th>\n",
       "      <th>Suspense</th>\n",
       "      <th>Spirituality</th>\n",
       "      <th>Sports</th>\n",
       "      <th>Thriller</th>\n",
       "      <th>Travel</th>\n",
       "      <th>Young Adult</th>\n",
       "    </tr>\n",
       "  </thead>\n",
       "  <tbody>\n",
       "    <tr>\n",
       "      <th>0</th>\n",
       "      <td>1</td>\n",
       "      <td>2767052</td>\n",
       "      <td>2767052</td>\n",
       "      <td>2792775</td>\n",
       "      <td>272</td>\n",
       "      <td>439023483</td>\n",
       "      <td>9.780439e+12</td>\n",
       "      <td>Suzanne Collins</td>\n",
       "      <td>2008.0</td>\n",
       "      <td>The Hunger Games</td>\n",
       "      <td>...</td>\n",
       "      <td>1</td>\n",
       "      <td>0</td>\n",
       "      <td>1</td>\n",
       "      <td>0</td>\n",
       "      <td>1</td>\n",
       "      <td>0</td>\n",
       "      <td>0</td>\n",
       "      <td>1</td>\n",
       "      <td>0</td>\n",
       "      <td>1</td>\n",
       "    </tr>\n",
       "    <tr>\n",
       "      <th>1</th>\n",
       "      <td>2</td>\n",
       "      <td>3</td>\n",
       "      <td>3</td>\n",
       "      <td>4640799</td>\n",
       "      <td>491</td>\n",
       "      <td>439554934</td>\n",
       "      <td>9.780440e+12</td>\n",
       "      <td>J.K. Rowling, Mary GrandPré</td>\n",
       "      <td>1997.0</td>\n",
       "      <td>Harry Potter and the Philosopher's Stone</td>\n",
       "      <td>...</td>\n",
       "      <td>0</td>\n",
       "      <td>0</td>\n",
       "      <td>0</td>\n",
       "      <td>0</td>\n",
       "      <td>0</td>\n",
       "      <td>0</td>\n",
       "      <td>0</td>\n",
       "      <td>0</td>\n",
       "      <td>0</td>\n",
       "      <td>1</td>\n",
       "    </tr>\n",
       "    <tr>\n",
       "      <th>2</th>\n",
       "      <td>3</td>\n",
       "      <td>41865</td>\n",
       "      <td>41865</td>\n",
       "      <td>3212258</td>\n",
       "      <td>226</td>\n",
       "      <td>316015849</td>\n",
       "      <td>9.780316e+12</td>\n",
       "      <td>Stephenie Meyer</td>\n",
       "      <td>2005.0</td>\n",
       "      <td>Twilight</td>\n",
       "      <td>...</td>\n",
       "      <td>0</td>\n",
       "      <td>0</td>\n",
       "      <td>1</td>\n",
       "      <td>0</td>\n",
       "      <td>0</td>\n",
       "      <td>0</td>\n",
       "      <td>0</td>\n",
       "      <td>0</td>\n",
       "      <td>0</td>\n",
       "      <td>1</td>\n",
       "    </tr>\n",
       "    <tr>\n",
       "      <th>3</th>\n",
       "      <td>4</td>\n",
       "      <td>2657</td>\n",
       "      <td>2657</td>\n",
       "      <td>3275794</td>\n",
       "      <td>487</td>\n",
       "      <td>61120081</td>\n",
       "      <td>9.780061e+12</td>\n",
       "      <td>Harper Lee</td>\n",
       "      <td>1960.0</td>\n",
       "      <td>To Kill a Mockingbird</td>\n",
       "      <td>...</td>\n",
       "      <td>0</td>\n",
       "      <td>0</td>\n",
       "      <td>0</td>\n",
       "      <td>0</td>\n",
       "      <td>0</td>\n",
       "      <td>0</td>\n",
       "      <td>0</td>\n",
       "      <td>0</td>\n",
       "      <td>0</td>\n",
       "      <td>1</td>\n",
       "    </tr>\n",
       "    <tr>\n",
       "      <th>4</th>\n",
       "      <td>5</td>\n",
       "      <td>4671</td>\n",
       "      <td>4671</td>\n",
       "      <td>245494</td>\n",
       "      <td>1356</td>\n",
       "      <td>743273567</td>\n",
       "      <td>9.780743e+12</td>\n",
       "      <td>F. Scott Fitzgerald</td>\n",
       "      <td>1925.0</td>\n",
       "      <td>The Great Gatsby</td>\n",
       "      <td>...</td>\n",
       "      <td>1</td>\n",
       "      <td>0</td>\n",
       "      <td>0</td>\n",
       "      <td>0</td>\n",
       "      <td>0</td>\n",
       "      <td>0</td>\n",
       "      <td>0</td>\n",
       "      <td>0</td>\n",
       "      <td>0</td>\n",
       "      <td>1</td>\n",
       "    </tr>\n",
       "    <tr>\n",
       "      <th>...</th>\n",
       "      <td>...</td>\n",
       "      <td>...</td>\n",
       "      <td>...</td>\n",
       "      <td>...</td>\n",
       "      <td>...</td>\n",
       "      <td>...</td>\n",
       "      <td>...</td>\n",
       "      <td>...</td>\n",
       "      <td>...</td>\n",
       "      <td>...</td>\n",
       "      <td>...</td>\n",
       "      <td>...</td>\n",
       "      <td>...</td>\n",
       "      <td>...</td>\n",
       "      <td>...</td>\n",
       "      <td>...</td>\n",
       "      <td>...</td>\n",
       "      <td>...</td>\n",
       "      <td>...</td>\n",
       "      <td>...</td>\n",
       "      <td>...</td>\n",
       "    </tr>\n",
       "    <tr>\n",
       "      <th>9995</th>\n",
       "      <td>9996</td>\n",
       "      <td>7130616</td>\n",
       "      <td>7130616</td>\n",
       "      <td>7392860</td>\n",
       "      <td>19</td>\n",
       "      <td>441019455</td>\n",
       "      <td>9.780441e+12</td>\n",
       "      <td>Ilona Andrews</td>\n",
       "      <td>2010.0</td>\n",
       "      <td>Bayou Moon</td>\n",
       "      <td>...</td>\n",
       "      <td>1</td>\n",
       "      <td>0</td>\n",
       "      <td>0</td>\n",
       "      <td>0</td>\n",
       "      <td>0</td>\n",
       "      <td>0</td>\n",
       "      <td>0</td>\n",
       "      <td>0</td>\n",
       "      <td>0</td>\n",
       "      <td>0</td>\n",
       "    </tr>\n",
       "    <tr>\n",
       "      <th>9996</th>\n",
       "      <td>9997</td>\n",
       "      <td>208324</td>\n",
       "      <td>208324</td>\n",
       "      <td>1084709</td>\n",
       "      <td>19</td>\n",
       "      <td>067973371X</td>\n",
       "      <td>9.780680e+12</td>\n",
       "      <td>Robert A. Caro</td>\n",
       "      <td>1990.0</td>\n",
       "      <td>Means of Ascent</td>\n",
       "      <td>...</td>\n",
       "      <td>0</td>\n",
       "      <td>0</td>\n",
       "      <td>0</td>\n",
       "      <td>0</td>\n",
       "      <td>0</td>\n",
       "      <td>0</td>\n",
       "      <td>0</td>\n",
       "      <td>0</td>\n",
       "      <td>0</td>\n",
       "      <td>0</td>\n",
       "    </tr>\n",
       "    <tr>\n",
       "      <th>9997</th>\n",
       "      <td>9998</td>\n",
       "      <td>77431</td>\n",
       "      <td>77431</td>\n",
       "      <td>2393986</td>\n",
       "      <td>60</td>\n",
       "      <td>039330762X</td>\n",
       "      <td>9.780393e+12</td>\n",
       "      <td>Patrick O'Brian</td>\n",
       "      <td>1977.0</td>\n",
       "      <td>The Mauritius Command</td>\n",
       "      <td>...</td>\n",
       "      <td>0</td>\n",
       "      <td>0</td>\n",
       "      <td>0</td>\n",
       "      <td>0</td>\n",
       "      <td>0</td>\n",
       "      <td>0</td>\n",
       "      <td>0</td>\n",
       "      <td>0</td>\n",
       "      <td>0</td>\n",
       "      <td>0</td>\n",
       "    </tr>\n",
       "    <tr>\n",
       "      <th>9998</th>\n",
       "      <td>9999</td>\n",
       "      <td>8565083</td>\n",
       "      <td>8565083</td>\n",
       "      <td>13433613</td>\n",
       "      <td>7</td>\n",
       "      <td>61711527</td>\n",
       "      <td>9.780062e+12</td>\n",
       "      <td>Peggy Orenstein</td>\n",
       "      <td>2011.0</td>\n",
       "      <td>Cinderella Ate My Daughter: Dispatches from th...</td>\n",
       "      <td>...</td>\n",
       "      <td>0</td>\n",
       "      <td>0</td>\n",
       "      <td>0</td>\n",
       "      <td>0</td>\n",
       "      <td>0</td>\n",
       "      <td>0</td>\n",
       "      <td>0</td>\n",
       "      <td>0</td>\n",
       "      <td>0</td>\n",
       "      <td>0</td>\n",
       "    </tr>\n",
       "    <tr>\n",
       "      <th>9999</th>\n",
       "      <td>10000</td>\n",
       "      <td>8914</td>\n",
       "      <td>8914</td>\n",
       "      <td>11817</td>\n",
       "      <td>31</td>\n",
       "      <td>375700455</td>\n",
       "      <td>9.780376e+12</td>\n",
       "      <td>John Keegan</td>\n",
       "      <td>1998.0</td>\n",
       "      <td>The First World War</td>\n",
       "      <td>...</td>\n",
       "      <td>0</td>\n",
       "      <td>0</td>\n",
       "      <td>0</td>\n",
       "      <td>0</td>\n",
       "      <td>0</td>\n",
       "      <td>0</td>\n",
       "      <td>0</td>\n",
       "      <td>0</td>\n",
       "      <td>0</td>\n",
       "      <td>0</td>\n",
       "    </tr>\n",
       "  </tbody>\n",
       "</table>\n",
       "<p>10000 rows × 65 columns</p>\n",
       "</div>"
      ],
      "text/plain": [
       "      book_id  goodreads_book_id  best_book_id   work_id  books_count  \\\n",
       "0           1            2767052       2767052   2792775          272   \n",
       "1           2                  3             3   4640799          491   \n",
       "2           3              41865         41865   3212258          226   \n",
       "3           4               2657          2657   3275794          487   \n",
       "4           5               4671          4671    245494         1356   \n",
       "...       ...                ...           ...       ...          ...   \n",
       "9995     9996            7130616       7130616   7392860           19   \n",
       "9996     9997             208324        208324   1084709           19   \n",
       "9997     9998              77431         77431   2393986           60   \n",
       "9998     9999            8565083       8565083  13433613            7   \n",
       "9999    10000               8914          8914     11817           31   \n",
       "\n",
       "            isbn        isbn13                      authors  \\\n",
       "0      439023483  9.780439e+12              Suzanne Collins   \n",
       "1      439554934  9.780440e+12  J.K. Rowling, Mary GrandPré   \n",
       "2      316015849  9.780316e+12              Stephenie Meyer   \n",
       "3       61120081  9.780061e+12                   Harper Lee   \n",
       "4      743273567  9.780743e+12          F. Scott Fitzgerald   \n",
       "...          ...           ...                          ...   \n",
       "9995   441019455  9.780441e+12                Ilona Andrews   \n",
       "9996  067973371X  9.780680e+12               Robert A. Caro   \n",
       "9997  039330762X  9.780393e+12              Patrick O'Brian   \n",
       "9998    61711527  9.780062e+12              Peggy Orenstein   \n",
       "9999   375700455  9.780376e+12                  John Keegan   \n",
       "\n",
       "      original_publication_year  \\\n",
       "0                        2008.0   \n",
       "1                        1997.0   \n",
       "2                        2005.0   \n",
       "3                        1960.0   \n",
       "4                        1925.0   \n",
       "...                         ...   \n",
       "9995                     2010.0   \n",
       "9996                     1990.0   \n",
       "9997                     1977.0   \n",
       "9998                     2011.0   \n",
       "9999                     1998.0   \n",
       "\n",
       "                                         original_title  ... Romance  Science  \\\n",
       "0                                      The Hunger Games  ...       1        0   \n",
       "1              Harry Potter and the Philosopher's Stone  ...       0        0   \n",
       "2                                              Twilight  ...       0        0   \n",
       "3                                 To Kill a Mockingbird  ...       0        0   \n",
       "4                                      The Great Gatsby  ...       1        0   \n",
       "...                                                 ...  ...     ...      ...   \n",
       "9995                                         Bayou Moon  ...       1        0   \n",
       "9996                                    Means of Ascent  ...       0        0   \n",
       "9997                              The Mauritius Command  ...       0        0   \n",
       "9998  Cinderella Ate My Daughter: Dispatches from th...  ...       0        0   \n",
       "9999                                The First World War  ...       0        0   \n",
       "\n",
       "      Science Fiction  Self Help  Suspense  Spirituality  Sports  Thriller  \\\n",
       "0                   1          0         1             0       0         1   \n",
       "1                   0          0         0             0       0         0   \n",
       "2                   1          0         0             0       0         0   \n",
       "3                   0          0         0             0       0         0   \n",
       "4                   0          0         0             0       0         0   \n",
       "...               ...        ...       ...           ...     ...       ...   \n",
       "9995                0          0         0             0       0         0   \n",
       "9996                0          0         0             0       0         0   \n",
       "9997                0          0         0             0       0         0   \n",
       "9998                0          0         0             0       0         0   \n",
       "9999                0          0         0             0       0         0   \n",
       "\n",
       "      Travel  Young Adult  \n",
       "0          0            1  \n",
       "1          0            1  \n",
       "2          0            1  \n",
       "3          0            1  \n",
       "4          0            1  \n",
       "...      ...          ...  \n",
       "9995       0            0  \n",
       "9996       0            0  \n",
       "9997       0            0  \n",
       "9998       0            0  \n",
       "9999       0            0  \n",
       "\n",
       "[10000 rows x 65 columns]"
      ]
     },
     "execution_count": 39,
     "metadata": {},
     "output_type": "execute_result"
    }
   ],
   "source": [
    "book_with_genres"
   ]
  },
  {
   "cell_type": "code",
   "execution_count": 43,
   "id": "behavioral-proceeding",
   "metadata": {},
   "outputs": [],
   "source": [
    "#book_with_genres.to_csv('save/book_w_genres.csv', index=False)"
   ]
  },
  {
   "cell_type": "code",
   "execution_count": 41,
   "id": "stupid-tract",
   "metadata": {},
   "outputs": [],
   "source": [
    "book_complete_data = ratings_data.merge(book_with_genres)"
   ]
  },
  {
   "cell_type": "code",
   "execution_count": 42,
   "id": "alternative-noise",
   "metadata": {},
   "outputs": [
    {
     "data": {
      "text/html": [
       "<div>\n",
       "<style scoped>\n",
       "    .dataframe tbody tr th:only-of-type {\n",
       "        vertical-align: middle;\n",
       "    }\n",
       "\n",
       "    .dataframe tbody tr th {\n",
       "        vertical-align: top;\n",
       "    }\n",
       "\n",
       "    .dataframe thead th {\n",
       "        text-align: right;\n",
       "    }\n",
       "</style>\n",
       "<table border=\"1\" class=\"dataframe\">\n",
       "  <thead>\n",
       "    <tr style=\"text-align: right;\">\n",
       "      <th></th>\n",
       "      <th>user_id</th>\n",
       "      <th>book_id</th>\n",
       "      <th>rating</th>\n",
       "      <th>goodreads_book_id</th>\n",
       "      <th>best_book_id</th>\n",
       "      <th>work_id</th>\n",
       "      <th>books_count</th>\n",
       "      <th>isbn</th>\n",
       "      <th>isbn13</th>\n",
       "      <th>authors</th>\n",
       "      <th>...</th>\n",
       "      <th>Romance</th>\n",
       "      <th>Science</th>\n",
       "      <th>Science Fiction</th>\n",
       "      <th>Self Help</th>\n",
       "      <th>Suspense</th>\n",
       "      <th>Spirituality</th>\n",
       "      <th>Sports</th>\n",
       "      <th>Thriller</th>\n",
       "      <th>Travel</th>\n",
       "      <th>Young Adult</th>\n",
       "    </tr>\n",
       "  </thead>\n",
       "  <tbody>\n",
       "    <tr>\n",
       "      <th>0</th>\n",
       "      <td>1</td>\n",
       "      <td>258</td>\n",
       "      <td>5</td>\n",
       "      <td>1232</td>\n",
       "      <td>1232</td>\n",
       "      <td>3209783</td>\n",
       "      <td>279</td>\n",
       "      <td>143034901</td>\n",
       "      <td>9.780143e+12</td>\n",
       "      <td>Carlos Ruiz Zafón, Lucia Graves</td>\n",
       "      <td>...</td>\n",
       "      <td>1</td>\n",
       "      <td>0</td>\n",
       "      <td>0</td>\n",
       "      <td>0</td>\n",
       "      <td>1</td>\n",
       "      <td>0</td>\n",
       "      <td>0</td>\n",
       "      <td>1</td>\n",
       "      <td>0</td>\n",
       "      <td>0</td>\n",
       "    </tr>\n",
       "    <tr>\n",
       "      <th>1</th>\n",
       "      <td>11</td>\n",
       "      <td>258</td>\n",
       "      <td>3</td>\n",
       "      <td>1232</td>\n",
       "      <td>1232</td>\n",
       "      <td>3209783</td>\n",
       "      <td>279</td>\n",
       "      <td>143034901</td>\n",
       "      <td>9.780143e+12</td>\n",
       "      <td>Carlos Ruiz Zafón, Lucia Graves</td>\n",
       "      <td>...</td>\n",
       "      <td>1</td>\n",
       "      <td>0</td>\n",
       "      <td>0</td>\n",
       "      <td>0</td>\n",
       "      <td>1</td>\n",
       "      <td>0</td>\n",
       "      <td>0</td>\n",
       "      <td>1</td>\n",
       "      <td>0</td>\n",
       "      <td>0</td>\n",
       "    </tr>\n",
       "    <tr>\n",
       "      <th>2</th>\n",
       "      <td>143</td>\n",
       "      <td>258</td>\n",
       "      <td>4</td>\n",
       "      <td>1232</td>\n",
       "      <td>1232</td>\n",
       "      <td>3209783</td>\n",
       "      <td>279</td>\n",
       "      <td>143034901</td>\n",
       "      <td>9.780143e+12</td>\n",
       "      <td>Carlos Ruiz Zafón, Lucia Graves</td>\n",
       "      <td>...</td>\n",
       "      <td>1</td>\n",
       "      <td>0</td>\n",
       "      <td>0</td>\n",
       "      <td>0</td>\n",
       "      <td>1</td>\n",
       "      <td>0</td>\n",
       "      <td>0</td>\n",
       "      <td>1</td>\n",
       "      <td>0</td>\n",
       "      <td>0</td>\n",
       "    </tr>\n",
       "    <tr>\n",
       "      <th>3</th>\n",
       "      <td>242</td>\n",
       "      <td>258</td>\n",
       "      <td>5</td>\n",
       "      <td>1232</td>\n",
       "      <td>1232</td>\n",
       "      <td>3209783</td>\n",
       "      <td>279</td>\n",
       "      <td>143034901</td>\n",
       "      <td>9.780143e+12</td>\n",
       "      <td>Carlos Ruiz Zafón, Lucia Graves</td>\n",
       "      <td>...</td>\n",
       "      <td>1</td>\n",
       "      <td>0</td>\n",
       "      <td>0</td>\n",
       "      <td>0</td>\n",
       "      <td>1</td>\n",
       "      <td>0</td>\n",
       "      <td>0</td>\n",
       "      <td>1</td>\n",
       "      <td>0</td>\n",
       "      <td>0</td>\n",
       "    </tr>\n",
       "    <tr>\n",
       "      <th>4</th>\n",
       "      <td>325</td>\n",
       "      <td>258</td>\n",
       "      <td>4</td>\n",
       "      <td>1232</td>\n",
       "      <td>1232</td>\n",
       "      <td>3209783</td>\n",
       "      <td>279</td>\n",
       "      <td>143034901</td>\n",
       "      <td>9.780143e+12</td>\n",
       "      <td>Carlos Ruiz Zafón, Lucia Graves</td>\n",
       "      <td>...</td>\n",
       "      <td>1</td>\n",
       "      <td>0</td>\n",
       "      <td>0</td>\n",
       "      <td>0</td>\n",
       "      <td>1</td>\n",
       "      <td>0</td>\n",
       "      <td>0</td>\n",
       "      <td>1</td>\n",
       "      <td>0</td>\n",
       "      <td>0</td>\n",
       "    </tr>\n",
       "    <tr>\n",
       "      <th>...</th>\n",
       "      <td>...</td>\n",
       "      <td>...</td>\n",
       "      <td>...</td>\n",
       "      <td>...</td>\n",
       "      <td>...</td>\n",
       "      <td>...</td>\n",
       "      <td>...</td>\n",
       "      <td>...</td>\n",
       "      <td>...</td>\n",
       "      <td>...</td>\n",
       "      <td>...</td>\n",
       "      <td>...</td>\n",
       "      <td>...</td>\n",
       "      <td>...</td>\n",
       "      <td>...</td>\n",
       "      <td>...</td>\n",
       "      <td>...</td>\n",
       "      <td>...</td>\n",
       "      <td>...</td>\n",
       "      <td>...</td>\n",
       "      <td>...</td>\n",
       "    </tr>\n",
       "    <tr>\n",
       "      <th>5976474</th>\n",
       "      <td>36773</td>\n",
       "      <td>9548</td>\n",
       "      <td>5</td>\n",
       "      <td>30839185</td>\n",
       "      <td>30839185</td>\n",
       "      <td>51437887</td>\n",
       "      <td>4</td>\n",
       "      <td></td>\n",
       "      <td>NaN</td>\n",
       "      <td>L.J. Shen</td>\n",
       "      <td>...</td>\n",
       "      <td>1</td>\n",
       "      <td>0</td>\n",
       "      <td>0</td>\n",
       "      <td>0</td>\n",
       "      <td>1</td>\n",
       "      <td>0</td>\n",
       "      <td>0</td>\n",
       "      <td>0</td>\n",
       "      <td>0</td>\n",
       "      <td>1</td>\n",
       "    </tr>\n",
       "    <tr>\n",
       "      <th>5976475</th>\n",
       "      <td>50673</td>\n",
       "      <td>9548</td>\n",
       "      <td>4</td>\n",
       "      <td>30839185</td>\n",
       "      <td>30839185</td>\n",
       "      <td>51437887</td>\n",
       "      <td>4</td>\n",
       "      <td></td>\n",
       "      <td>NaN</td>\n",
       "      <td>L.J. Shen</td>\n",
       "      <td>...</td>\n",
       "      <td>1</td>\n",
       "      <td>0</td>\n",
       "      <td>0</td>\n",
       "      <td>0</td>\n",
       "      <td>1</td>\n",
       "      <td>0</td>\n",
       "      <td>0</td>\n",
       "      <td>0</td>\n",
       "      <td>0</td>\n",
       "      <td>1</td>\n",
       "    </tr>\n",
       "    <tr>\n",
       "      <th>5976476</th>\n",
       "      <td>45213</td>\n",
       "      <td>9548</td>\n",
       "      <td>3</td>\n",
       "      <td>30839185</td>\n",
       "      <td>30839185</td>\n",
       "      <td>51437887</td>\n",
       "      <td>4</td>\n",
       "      <td></td>\n",
       "      <td>NaN</td>\n",
       "      <td>L.J. Shen</td>\n",
       "      <td>...</td>\n",
       "      <td>1</td>\n",
       "      <td>0</td>\n",
       "      <td>0</td>\n",
       "      <td>0</td>\n",
       "      <td>1</td>\n",
       "      <td>0</td>\n",
       "      <td>0</td>\n",
       "      <td>0</td>\n",
       "      <td>0</td>\n",
       "      <td>1</td>\n",
       "    </tr>\n",
       "    <tr>\n",
       "      <th>5976477</th>\n",
       "      <td>12872</td>\n",
       "      <td>9548</td>\n",
       "      <td>4</td>\n",
       "      <td>30839185</td>\n",
       "      <td>30839185</td>\n",
       "      <td>51437887</td>\n",
       "      <td>4</td>\n",
       "      <td></td>\n",
       "      <td>NaN</td>\n",
       "      <td>L.J. Shen</td>\n",
       "      <td>...</td>\n",
       "      <td>1</td>\n",
       "      <td>0</td>\n",
       "      <td>0</td>\n",
       "      <td>0</td>\n",
       "      <td>1</td>\n",
       "      <td>0</td>\n",
       "      <td>0</td>\n",
       "      <td>0</td>\n",
       "      <td>0</td>\n",
       "      <td>1</td>\n",
       "    </tr>\n",
       "    <tr>\n",
       "      <th>5976478</th>\n",
       "      <td>46353</td>\n",
       "      <td>9548</td>\n",
       "      <td>5</td>\n",
       "      <td>30839185</td>\n",
       "      <td>30839185</td>\n",
       "      <td>51437887</td>\n",
       "      <td>4</td>\n",
       "      <td></td>\n",
       "      <td>NaN</td>\n",
       "      <td>L.J. Shen</td>\n",
       "      <td>...</td>\n",
       "      <td>1</td>\n",
       "      <td>0</td>\n",
       "      <td>0</td>\n",
       "      <td>0</td>\n",
       "      <td>1</td>\n",
       "      <td>0</td>\n",
       "      <td>0</td>\n",
       "      <td>0</td>\n",
       "      <td>0</td>\n",
       "      <td>1</td>\n",
       "    </tr>\n",
       "  </tbody>\n",
       "</table>\n",
       "<p>5976479 rows × 67 columns</p>\n",
       "</div>"
      ],
      "text/plain": [
       "         user_id  book_id  rating  goodreads_book_id  best_book_id   work_id  \\\n",
       "0              1      258       5               1232          1232   3209783   \n",
       "1             11      258       3               1232          1232   3209783   \n",
       "2            143      258       4               1232          1232   3209783   \n",
       "3            242      258       5               1232          1232   3209783   \n",
       "4            325      258       4               1232          1232   3209783   \n",
       "...          ...      ...     ...                ...           ...       ...   \n",
       "5976474    36773     9548       5           30839185      30839185  51437887   \n",
       "5976475    50673     9548       4           30839185      30839185  51437887   \n",
       "5976476    45213     9548       3           30839185      30839185  51437887   \n",
       "5976477    12872     9548       4           30839185      30839185  51437887   \n",
       "5976478    46353     9548       5           30839185      30839185  51437887   \n",
       "\n",
       "         books_count       isbn        isbn13  \\\n",
       "0                279  143034901  9.780143e+12   \n",
       "1                279  143034901  9.780143e+12   \n",
       "2                279  143034901  9.780143e+12   \n",
       "3                279  143034901  9.780143e+12   \n",
       "4                279  143034901  9.780143e+12   \n",
       "...              ...        ...           ...   \n",
       "5976474            4                      NaN   \n",
       "5976475            4                      NaN   \n",
       "5976476            4                      NaN   \n",
       "5976477            4                      NaN   \n",
       "5976478            4                      NaN   \n",
       "\n",
       "                                 authors  ...  Romance Science  \\\n",
       "0        Carlos Ruiz Zafón, Lucia Graves  ...        1       0   \n",
       "1        Carlos Ruiz Zafón, Lucia Graves  ...        1       0   \n",
       "2        Carlos Ruiz Zafón, Lucia Graves  ...        1       0   \n",
       "3        Carlos Ruiz Zafón, Lucia Graves  ...        1       0   \n",
       "4        Carlos Ruiz Zafón, Lucia Graves  ...        1       0   \n",
       "...                                  ...  ...      ...     ...   \n",
       "5976474                        L.J. Shen  ...        1       0   \n",
       "5976475                        L.J. Shen  ...        1       0   \n",
       "5976476                        L.J. Shen  ...        1       0   \n",
       "5976477                        L.J. Shen  ...        1       0   \n",
       "5976478                        L.J. Shen  ...        1       0   \n",
       "\n",
       "        Science Fiction  Self Help  Suspense  Spirituality  Sports  Thriller  \\\n",
       "0                     0          0         1             0       0         1   \n",
       "1                     0          0         1             0       0         1   \n",
       "2                     0          0         1             0       0         1   \n",
       "3                     0          0         1             0       0         1   \n",
       "4                     0          0         1             0       0         1   \n",
       "...                 ...        ...       ...           ...     ...       ...   \n",
       "5976474               0          0         1             0       0         0   \n",
       "5976475               0          0         1             0       0         0   \n",
       "5976476               0          0         1             0       0         0   \n",
       "5976477               0          0         1             0       0         0   \n",
       "5976478               0          0         1             0       0         0   \n",
       "\n",
       "         Travel  Young Adult  \n",
       "0             0            0  \n",
       "1             0            0  \n",
       "2             0            0  \n",
       "3             0            0  \n",
       "4             0            0  \n",
       "...         ...          ...  \n",
       "5976474       0            1  \n",
       "5976475       0            1  \n",
       "5976476       0            1  \n",
       "5976477       0            1  \n",
       "5976478       0            1  \n",
       "\n",
       "[5976479 rows x 67 columns]"
      ]
     },
     "execution_count": 42,
     "metadata": {},
     "output_type": "execute_result"
    }
   ],
   "source": [
    "book_complete_data"
   ]
  },
  {
   "cell_type": "code",
   "execution_count": 44,
   "id": "excited-dylan",
   "metadata": {},
   "outputs": [],
   "source": [
    "#book_complete_data.to_csv('save/book_complete.csv', index=False)"
   ]
  },
  {
   "cell_type": "markdown",
   "id": "lovely-worth",
   "metadata": {},
   "source": [
    "### Handling strings and missing data"
   ]
  },
  {
   "cell_type": "code",
   "execution_count": 45,
   "id": "humanitarian-reunion",
   "metadata": {},
   "outputs": [],
   "source": [
    "from fastai.tabular.all import *"
   ]
  },
  {
   "cell_type": "code",
   "execution_count": 46,
   "id": "vital-fifty",
   "metadata": {},
   "outputs": [],
   "source": [
    "procs = [Categorify, FillMissing]"
   ]
  },
  {
   "cell_type": "code",
   "execution_count": 47,
   "id": "novel-institute",
   "metadata": {},
   "outputs": [],
   "source": [
    "dep_var = 'rating'"
   ]
  },
  {
   "cell_type": "code",
   "execution_count": 48,
   "id": "immune-magazine",
   "metadata": {},
   "outputs": [],
   "source": [
    "continuous, categorical = cont_cat_split(book_complete_data, 2, dep_var=dep_var)"
   ]
  },
  {
   "cell_type": "code",
   "execution_count": 49,
   "id": "reliable-aging",
   "metadata": {},
   "outputs": [
    {
     "data": {
      "text/plain": [
       "['user_id',\n",
       " 'book_id',\n",
       " 'goodreads_book_id',\n",
       " 'best_book_id',\n",
       " 'work_id',\n",
       " 'books_count',\n",
       " 'isbn13',\n",
       " 'original_publication_year',\n",
       " 'average_rating',\n",
       " 'ratings_count',\n",
       " 'work_ratings_count',\n",
       " 'work_text_reviews_count',\n",
       " 'ratings_1',\n",
       " 'ratings_2',\n",
       " 'ratings_3',\n",
       " 'ratings_4',\n",
       " 'ratings_5',\n",
       " 'volume_number']"
      ]
     },
     "execution_count": 49,
     "metadata": {},
     "output_type": "execute_result"
    }
   ],
   "source": [
    "continuous"
   ]
  },
  {
   "cell_type": "code",
   "execution_count": 50,
   "id": "precious-dutch",
   "metadata": {},
   "outputs": [
    {
     "data": {
      "text/plain": [
       "['isbn',\n",
       " 'authors',\n",
       " 'original_title',\n",
       " 'language_code',\n",
       " 'image_url',\n",
       " 'small_image_url',\n",
       " 'title',\n",
       " 'series',\n",
       " 'Art',\n",
       " 'Biography',\n",
       " 'Business',\n",
       " 'Chick Lit',\n",
       " \"Children's\",\n",
       " 'Christian',\n",
       " 'Classics',\n",
       " 'Comics',\n",
       " 'Contemporary',\n",
       " 'Cookbooks',\n",
       " 'Crime',\n",
       " 'Ebooks',\n",
       " 'Fantasy',\n",
       " 'Fiction',\n",
       " 'Gay and Lesbian',\n",
       " 'Graphic Novels',\n",
       " 'Historical Fiction',\n",
       " 'History',\n",
       " 'Horror',\n",
       " 'Humor and Comedy',\n",
       " 'Manga',\n",
       " 'Memoir',\n",
       " 'Music',\n",
       " 'Mystery',\n",
       " 'Nonfiction',\n",
       " 'Paranormal',\n",
       " 'Philosophy',\n",
       " 'Poetry',\n",
       " 'Psychology',\n",
       " 'Religion',\n",
       " 'Romance',\n",
       " 'Science',\n",
       " 'Science Fiction',\n",
       " 'Self Help',\n",
       " 'Suspense',\n",
       " 'Spirituality',\n",
       " 'Sports',\n",
       " 'Thriller',\n",
       " 'Travel',\n",
       " 'Young Adult']"
      ]
     },
     "execution_count": 50,
     "metadata": {},
     "output_type": "execute_result"
    }
   ],
   "source": [
    "categorical"
   ]
  },
  {
   "cell_type": "code",
   "execution_count": 51,
   "id": "charitable-haven",
   "metadata": {},
   "outputs": [],
   "source": [
    "msk = np.random.rand(len(book_complete_data)) < 0.3 # Only 10% for training for now (just to try out stuff)\n",
    "train_idx = np.where(msk)[0]\n",
    "valid_idx = np.where(~msk)[0]\n",
    "splits = (list(train_idx), list(valid_idx))"
   ]
  },
  {
   "cell_type": "code",
   "execution_count": 52,
   "id": "driving-twins",
   "metadata": {},
   "outputs": [],
   "source": [
    "book_tab = TabularPandas(book_complete_data, procs, categorical, continuous, y_names=dep_var, splits=splits)"
   ]
  },
  {
   "cell_type": "code",
   "execution_count": 53,
   "id": "visible-chancellor",
   "metadata": {},
   "outputs": [
    {
     "data": {
      "text/plain": [
       "(1793801, 4182678)"
      ]
     },
     "execution_count": 53,
     "metadata": {},
     "output_type": "execute_result"
    }
   ],
   "source": [
    "len(book_tab.train), len(book_tab.valid)"
   ]
  },
  {
   "cell_type": "code",
   "execution_count": 54,
   "id": "impaired-cradle",
   "metadata": {},
   "outputs": [
    {
     "data": {
      "text/html": [
       "<table border=\"1\" class=\"dataframe\">\n",
       "  <thead>\n",
       "    <tr style=\"text-align: right;\">\n",
       "      <th></th>\n",
       "      <th>isbn</th>\n",
       "      <th>authors</th>\n",
       "      <th>original_title</th>\n",
       "      <th>language_code</th>\n",
       "      <th>image_url</th>\n",
       "      <th>small_image_url</th>\n",
       "      <th>title</th>\n",
       "      <th>series</th>\n",
       "      <th>Art</th>\n",
       "      <th>Biography</th>\n",
       "      <th>Business</th>\n",
       "      <th>Chick Lit</th>\n",
       "      <th>Children's</th>\n",
       "      <th>Christian</th>\n",
       "      <th>Classics</th>\n",
       "      <th>Comics</th>\n",
       "      <th>Contemporary</th>\n",
       "      <th>Cookbooks</th>\n",
       "      <th>Crime</th>\n",
       "      <th>Ebooks</th>\n",
       "      <th>Fantasy</th>\n",
       "      <th>Fiction</th>\n",
       "      <th>Gay and Lesbian</th>\n",
       "      <th>Graphic Novels</th>\n",
       "      <th>Historical Fiction</th>\n",
       "      <th>History</th>\n",
       "      <th>Horror</th>\n",
       "      <th>Humor and Comedy</th>\n",
       "      <th>Manga</th>\n",
       "      <th>Memoir</th>\n",
       "      <th>Music</th>\n",
       "      <th>Mystery</th>\n",
       "      <th>Nonfiction</th>\n",
       "      <th>Paranormal</th>\n",
       "      <th>Philosophy</th>\n",
       "      <th>Poetry</th>\n",
       "      <th>Psychology</th>\n",
       "      <th>Religion</th>\n",
       "      <th>Romance</th>\n",
       "      <th>Science</th>\n",
       "      <th>Science Fiction</th>\n",
       "      <th>Self Help</th>\n",
       "      <th>Suspense</th>\n",
       "      <th>Spirituality</th>\n",
       "      <th>Sports</th>\n",
       "      <th>Thriller</th>\n",
       "      <th>Travel</th>\n",
       "      <th>Young Adult</th>\n",
       "      <th>isbn13_na</th>\n",
       "      <th>original_publication_year_na</th>\n",
       "      <th>user_id</th>\n",
       "      <th>book_id</th>\n",
       "      <th>goodreads_book_id</th>\n",
       "      <th>best_book_id</th>\n",
       "      <th>work_id</th>\n",
       "      <th>books_count</th>\n",
       "      <th>isbn13</th>\n",
       "      <th>original_publication_year</th>\n",
       "      <th>average_rating</th>\n",
       "      <th>ratings_count</th>\n",
       "      <th>work_ratings_count</th>\n",
       "      <th>work_text_reviews_count</th>\n",
       "      <th>ratings_1</th>\n",
       "      <th>ratings_2</th>\n",
       "      <th>ratings_3</th>\n",
       "      <th>ratings_4</th>\n",
       "      <th>ratings_5</th>\n",
       "      <th>volume_number</th>\n",
       "      <th>rating</th>\n",
       "    </tr>\n",
       "  </thead>\n",
       "  <tbody>\n",
       "    <tr>\n",
       "      <th>1</th>\n",
       "      <td>143034901</td>\n",
       "      <td>Carlos Ruiz Zafón, Lucia Graves</td>\n",
       "      <td>La sombra del viento</td>\n",
       "      <td>eng</td>\n",
       "      <td>https://images.gr-assets.com/books/1344545047m/1232.jpg</td>\n",
       "      <td>https://images.gr-assets.com/books/1344545047s/1232.jpg</td>\n",
       "      <td>The Shadow of the Wind (The Cemetery of Forgotten Books,  #1)</td>\n",
       "      <td>#na#</td>\n",
       "      <td>0</td>\n",
       "      <td>0</td>\n",
       "      <td>0</td>\n",
       "      <td>0</td>\n",
       "      <td>0</td>\n",
       "      <td>0</td>\n",
       "      <td>1</td>\n",
       "      <td>0</td>\n",
       "      <td>1</td>\n",
       "      <td>0</td>\n",
       "      <td>1</td>\n",
       "      <td>1</td>\n",
       "      <td>1</td>\n",
       "      <td>1</td>\n",
       "      <td>0</td>\n",
       "      <td>0</td>\n",
       "      <td>1</td>\n",
       "      <td>1</td>\n",
       "      <td>0</td>\n",
       "      <td>0</td>\n",
       "      <td>0</td>\n",
       "      <td>0</td>\n",
       "      <td>0</td>\n",
       "      <td>1</td>\n",
       "      <td>0</td>\n",
       "      <td>0</td>\n",
       "      <td>0</td>\n",
       "      <td>0</td>\n",
       "      <td>0</td>\n",
       "      <td>0</td>\n",
       "      <td>1</td>\n",
       "      <td>0</td>\n",
       "      <td>0</td>\n",
       "      <td>0</td>\n",
       "      <td>1</td>\n",
       "      <td>0</td>\n",
       "      <td>0</td>\n",
       "      <td>1</td>\n",
       "      <td>0</td>\n",
       "      <td>0</td>\n",
       "      <td>False</td>\n",
       "      <td>False</td>\n",
       "      <td>11</td>\n",
       "      <td>258</td>\n",
       "      <td>1232</td>\n",
       "      <td>1232</td>\n",
       "      <td>3209783</td>\n",
       "      <td>279</td>\n",
       "      <td>9.780143e+12</td>\n",
       "      <td>2001.0</td>\n",
       "      <td>4.24</td>\n",
       "      <td>263685</td>\n",
       "      <td>317554</td>\n",
       "      <td>24652</td>\n",
       "      <td>4789</td>\n",
       "      <td>11769</td>\n",
       "      <td>42214</td>\n",
       "      <td>101612</td>\n",
       "      <td>157170</td>\n",
       "      <td>1</td>\n",
       "      <td>3</td>\n",
       "    </tr>\n",
       "    <tr>\n",
       "      <th>2</th>\n",
       "      <td>143034901</td>\n",
       "      <td>Carlos Ruiz Zafón, Lucia Graves</td>\n",
       "      <td>La sombra del viento</td>\n",
       "      <td>eng</td>\n",
       "      <td>https://images.gr-assets.com/books/1344545047m/1232.jpg</td>\n",
       "      <td>https://images.gr-assets.com/books/1344545047s/1232.jpg</td>\n",
       "      <td>The Shadow of the Wind (The Cemetery of Forgotten Books,  #1)</td>\n",
       "      <td>#na#</td>\n",
       "      <td>0</td>\n",
       "      <td>0</td>\n",
       "      <td>0</td>\n",
       "      <td>0</td>\n",
       "      <td>0</td>\n",
       "      <td>0</td>\n",
       "      <td>1</td>\n",
       "      <td>0</td>\n",
       "      <td>1</td>\n",
       "      <td>0</td>\n",
       "      <td>1</td>\n",
       "      <td>1</td>\n",
       "      <td>1</td>\n",
       "      <td>1</td>\n",
       "      <td>0</td>\n",
       "      <td>0</td>\n",
       "      <td>1</td>\n",
       "      <td>1</td>\n",
       "      <td>0</td>\n",
       "      <td>0</td>\n",
       "      <td>0</td>\n",
       "      <td>0</td>\n",
       "      <td>0</td>\n",
       "      <td>1</td>\n",
       "      <td>0</td>\n",
       "      <td>0</td>\n",
       "      <td>0</td>\n",
       "      <td>0</td>\n",
       "      <td>0</td>\n",
       "      <td>0</td>\n",
       "      <td>1</td>\n",
       "      <td>0</td>\n",
       "      <td>0</td>\n",
       "      <td>0</td>\n",
       "      <td>1</td>\n",
       "      <td>0</td>\n",
       "      <td>0</td>\n",
       "      <td>1</td>\n",
       "      <td>0</td>\n",
       "      <td>0</td>\n",
       "      <td>False</td>\n",
       "      <td>False</td>\n",
       "      <td>143</td>\n",
       "      <td>258</td>\n",
       "      <td>1232</td>\n",
       "      <td>1232</td>\n",
       "      <td>3209783</td>\n",
       "      <td>279</td>\n",
       "      <td>9.780143e+12</td>\n",
       "      <td>2001.0</td>\n",
       "      <td>4.24</td>\n",
       "      <td>263685</td>\n",
       "      <td>317554</td>\n",
       "      <td>24652</td>\n",
       "      <td>4789</td>\n",
       "      <td>11769</td>\n",
       "      <td>42214</td>\n",
       "      <td>101612</td>\n",
       "      <td>157170</td>\n",
       "      <td>1</td>\n",
       "      <td>4</td>\n",
       "    </tr>\n",
       "    <tr>\n",
       "      <th>7</th>\n",
       "      <td>143034901</td>\n",
       "      <td>Carlos Ruiz Zafón, Lucia Graves</td>\n",
       "      <td>La sombra del viento</td>\n",
       "      <td>eng</td>\n",
       "      <td>https://images.gr-assets.com/books/1344545047m/1232.jpg</td>\n",
       "      <td>https://images.gr-assets.com/books/1344545047s/1232.jpg</td>\n",
       "      <td>The Shadow of the Wind (The Cemetery of Forgotten Books,  #1)</td>\n",
       "      <td>#na#</td>\n",
       "      <td>0</td>\n",
       "      <td>0</td>\n",
       "      <td>0</td>\n",
       "      <td>0</td>\n",
       "      <td>0</td>\n",
       "      <td>0</td>\n",
       "      <td>1</td>\n",
       "      <td>0</td>\n",
       "      <td>1</td>\n",
       "      <td>0</td>\n",
       "      <td>1</td>\n",
       "      <td>1</td>\n",
       "      <td>1</td>\n",
       "      <td>1</td>\n",
       "      <td>0</td>\n",
       "      <td>0</td>\n",
       "      <td>1</td>\n",
       "      <td>1</td>\n",
       "      <td>0</td>\n",
       "      <td>0</td>\n",
       "      <td>0</td>\n",
       "      <td>0</td>\n",
       "      <td>0</td>\n",
       "      <td>1</td>\n",
       "      <td>0</td>\n",
       "      <td>0</td>\n",
       "      <td>0</td>\n",
       "      <td>0</td>\n",
       "      <td>0</td>\n",
       "      <td>0</td>\n",
       "      <td>1</td>\n",
       "      <td>0</td>\n",
       "      <td>0</td>\n",
       "      <td>0</td>\n",
       "      <td>1</td>\n",
       "      <td>0</td>\n",
       "      <td>0</td>\n",
       "      <td>1</td>\n",
       "      <td>0</td>\n",
       "      <td>0</td>\n",
       "      <td>False</td>\n",
       "      <td>False</td>\n",
       "      <td>396</td>\n",
       "      <td>258</td>\n",
       "      <td>1232</td>\n",
       "      <td>1232</td>\n",
       "      <td>3209783</td>\n",
       "      <td>279</td>\n",
       "      <td>9.780143e+12</td>\n",
       "      <td>2001.0</td>\n",
       "      <td>4.24</td>\n",
       "      <td>263685</td>\n",
       "      <td>317554</td>\n",
       "      <td>24652</td>\n",
       "      <td>4789</td>\n",
       "      <td>11769</td>\n",
       "      <td>42214</td>\n",
       "      <td>101612</td>\n",
       "      <td>157170</td>\n",
       "      <td>1</td>\n",
       "      <td>3</td>\n",
       "    </tr>\n",
       "  </tbody>\n",
       "</table>"
      ],
      "text/plain": [
       "<IPython.core.display.HTML object>"
      ]
     },
     "metadata": {},
     "output_type": "display_data"
    }
   ],
   "source": [
    "book_tab.show(3)"
   ]
  },
  {
   "cell_type": "code",
   "execution_count": 55,
   "id": "flexible-address",
   "metadata": {},
   "outputs": [
    {
     "data": {
      "text/html": [
       "<div>\n",
       "<style scoped>\n",
       "    .dataframe tbody tr th:only-of-type {\n",
       "        vertical-align: middle;\n",
       "    }\n",
       "\n",
       "    .dataframe tbody tr th {\n",
       "        vertical-align: top;\n",
       "    }\n",
       "\n",
       "    .dataframe thead th {\n",
       "        text-align: right;\n",
       "    }\n",
       "</style>\n",
       "<table border=\"1\" class=\"dataframe\">\n",
       "  <thead>\n",
       "    <tr style=\"text-align: right;\">\n",
       "      <th></th>\n",
       "      <th>user_id</th>\n",
       "      <th>book_id</th>\n",
       "      <th>rating</th>\n",
       "      <th>goodreads_book_id</th>\n",
       "      <th>best_book_id</th>\n",
       "      <th>work_id</th>\n",
       "      <th>books_count</th>\n",
       "      <th>isbn</th>\n",
       "      <th>isbn13</th>\n",
       "      <th>authors</th>\n",
       "      <th>...</th>\n",
       "      <th>Science Fiction</th>\n",
       "      <th>Self Help</th>\n",
       "      <th>Suspense</th>\n",
       "      <th>Spirituality</th>\n",
       "      <th>Sports</th>\n",
       "      <th>Thriller</th>\n",
       "      <th>Travel</th>\n",
       "      <th>Young Adult</th>\n",
       "      <th>isbn13_na</th>\n",
       "      <th>original_publication_year_na</th>\n",
       "    </tr>\n",
       "  </thead>\n",
       "  <tbody>\n",
       "    <tr>\n",
       "      <th>1</th>\n",
       "      <td>11</td>\n",
       "      <td>258</td>\n",
       "      <td>3</td>\n",
       "      <td>1232</td>\n",
       "      <td>1232</td>\n",
       "      <td>3209783</td>\n",
       "      <td>279</td>\n",
       "      <td>1640</td>\n",
       "      <td>9.780143e+12</td>\n",
       "      <td>642</td>\n",
       "      <td>...</td>\n",
       "      <td>1</td>\n",
       "      <td>1</td>\n",
       "      <td>2</td>\n",
       "      <td>1</td>\n",
       "      <td>1</td>\n",
       "      <td>2</td>\n",
       "      <td>1</td>\n",
       "      <td>1</td>\n",
       "      <td>1</td>\n",
       "      <td>1</td>\n",
       "    </tr>\n",
       "    <tr>\n",
       "      <th>2</th>\n",
       "      <td>143</td>\n",
       "      <td>258</td>\n",
       "      <td>4</td>\n",
       "      <td>1232</td>\n",
       "      <td>1232</td>\n",
       "      <td>3209783</td>\n",
       "      <td>279</td>\n",
       "      <td>1640</td>\n",
       "      <td>9.780143e+12</td>\n",
       "      <td>642</td>\n",
       "      <td>...</td>\n",
       "      <td>1</td>\n",
       "      <td>1</td>\n",
       "      <td>2</td>\n",
       "      <td>1</td>\n",
       "      <td>1</td>\n",
       "      <td>2</td>\n",
       "      <td>1</td>\n",
       "      <td>1</td>\n",
       "      <td>1</td>\n",
       "      <td>1</td>\n",
       "    </tr>\n",
       "    <tr>\n",
       "      <th>7</th>\n",
       "      <td>396</td>\n",
       "      <td>258</td>\n",
       "      <td>3</td>\n",
       "      <td>1232</td>\n",
       "      <td>1232</td>\n",
       "      <td>3209783</td>\n",
       "      <td>279</td>\n",
       "      <td>1640</td>\n",
       "      <td>9.780143e+12</td>\n",
       "      <td>642</td>\n",
       "      <td>...</td>\n",
       "      <td>1</td>\n",
       "      <td>1</td>\n",
       "      <td>2</td>\n",
       "      <td>1</td>\n",
       "      <td>1</td>\n",
       "      <td>2</td>\n",
       "      <td>1</td>\n",
       "      <td>1</td>\n",
       "      <td>1</td>\n",
       "      <td>1</td>\n",
       "    </tr>\n",
       "  </tbody>\n",
       "</table>\n",
       "<p>3 rows × 69 columns</p>\n",
       "</div>"
      ],
      "text/plain": [
       "   user_id  book_id  rating  goodreads_book_id  best_book_id  work_id  \\\n",
       "1       11      258       3               1232          1232  3209783   \n",
       "2      143      258       4               1232          1232  3209783   \n",
       "7      396      258       3               1232          1232  3209783   \n",
       "\n",
       "   books_count  isbn        isbn13  authors  ...  Science Fiction  Self Help  \\\n",
       "1          279  1640  9.780143e+12      642  ...                1          1   \n",
       "2          279  1640  9.780143e+12      642  ...                1          1   \n",
       "7          279  1640  9.780143e+12      642  ...                1          1   \n",
       "\n",
       "   Suspense  Spirituality  Sports  Thriller  Travel  Young Adult  isbn13_na  \\\n",
       "1         2             1       1         2       1            1          1   \n",
       "2         2             1       1         2       1            1          1   \n",
       "7         2             1       1         2       1            1          1   \n",
       "\n",
       "   original_publication_year_na  \n",
       "1                             1  \n",
       "2                             1  \n",
       "7                             1  \n",
       "\n",
       "[3 rows x 69 columns]"
      ]
     },
     "execution_count": 55,
     "metadata": {},
     "output_type": "execute_result"
    }
   ],
   "source": [
    "book_tab.items.head(3)"
   ]
  },
  {
   "cell_type": "markdown",
   "id": "gothic-juvenile",
   "metadata": {},
   "source": [
    "Under the hood, everything is numerical"
   ]
  },
  {
   "cell_type": "code",
   "execution_count": 56,
   "id": "coated-illustration",
   "metadata": {},
   "outputs": [],
   "source": [
    "save_path = Path()/'save/book_tab_30.pkl'"
   ]
  },
  {
   "cell_type": "code",
   "execution_count": 57,
   "id": "plain-merit",
   "metadata": {},
   "outputs": [],
   "source": [
    "#save_pickle(save_path, book_tab)"
   ]
  },
  {
   "cell_type": "markdown",
   "id": "needed-connecticut",
   "metadata": {},
   "source": [
    "### Creating the Random Forest"
   ]
  },
  {
   "cell_type": "code",
   "execution_count": 17,
   "id": "architectural-pursuit",
   "metadata": {},
   "outputs": [],
   "source": [
    "#book_tab = load_pickle(save_path)"
   ]
  },
  {
   "cell_type": "code",
   "execution_count": 58,
   "id": "viral-trauma",
   "metadata": {},
   "outputs": [],
   "source": [
    "from sklearn.ensemble import RandomForestRegressor"
   ]
  },
  {
   "cell_type": "code",
   "execution_count": 59,
   "id": "willing-elite",
   "metadata": {},
   "outputs": [],
   "source": [
    "def rf(xs, y, n_estimators=40, max_samples=100_000,\n",
    "       max_features=0.5, min_samples_leaf=15, **kwargs):\n",
    "    return RandomForestRegressor(n_jobs=-1, n_estimators=n_estimators,\n",
    "        max_samples=max_samples, max_features=max_features,\n",
    "        min_samples_leaf=min_samples_leaf, oob_score=True, random_state=42).fit(xs, y)"
   ]
  },
  {
   "cell_type": "code",
   "execution_count": 69,
   "id": "abstract-orientation",
   "metadata": {},
   "outputs": [],
   "source": [
    "xs, y = book_tab.train.xs, book_tab.train.y\n",
    "valid_xs, valid_y = book_tab.valid.xs, book_tab.valid.y"
   ]
  },
  {
   "cell_type": "code",
   "execution_count": 61,
   "id": "sensitive-assets",
   "metadata": {},
   "outputs": [],
   "source": [
    "m = rf(xs, y)"
   ]
  },
  {
   "cell_type": "code",
   "execution_count": 62,
   "id": "confused-shopping",
   "metadata": {},
   "outputs": [],
   "source": [
    "from sklearn.metrics import mean_squared_error as mse"
   ]
  },
  {
   "cell_type": "code",
   "execution_count": 63,
   "id": "excessive-bacteria",
   "metadata": {},
   "outputs": [],
   "source": [
    "def m_mse(model, xs, y): return mse(y, m.predict(xs))"
   ]
  },
  {
   "cell_type": "code",
   "execution_count": 64,
   "id": "unauthorized-organizer",
   "metadata": {},
   "outputs": [
    {
     "data": {
      "text/plain": [
       "(0.8904609668885247, 0.9080940281529053)"
      ]
     },
     "execution_count": 64,
     "metadata": {},
     "output_type": "execute_result"
    }
   ],
   "source": [
    "m_mse(m, xs, y), m_mse(m, valid_xs, valid_y)"
   ]
  },
  {
   "cell_type": "markdown",
   "id": "minimal-monitor",
   "metadata": {},
   "source": [
    "Not bad. Let's take a look at the most important variables."
   ]
  },
  {
   "cell_type": "code",
   "execution_count": 65,
   "id": "swedish-remedy",
   "metadata": {},
   "outputs": [],
   "source": [
    "def rf_feat_importance(m, df):\n",
    "    return pd.DataFrame({'cols':df.columns, 'imp':m.feature_importances_}\n",
    "                       ).sort_values('imp', ascending=False)"
   ]
  },
  {
   "cell_type": "code",
   "execution_count": 66,
   "id": "experienced-consultation",
   "metadata": {},
   "outputs": [
    {
     "data": {
      "text/html": [
       "<div>\n",
       "<style scoped>\n",
       "    .dataframe tbody tr th:only-of-type {\n",
       "        vertical-align: middle;\n",
       "    }\n",
       "\n",
       "    .dataframe tbody tr th {\n",
       "        vertical-align: top;\n",
       "    }\n",
       "\n",
       "    .dataframe thead th {\n",
       "        text-align: right;\n",
       "    }\n",
       "</style>\n",
       "<table border=\"1\" class=\"dataframe\">\n",
       "  <thead>\n",
       "    <tr style=\"text-align: right;\">\n",
       "      <th></th>\n",
       "      <th>cols</th>\n",
       "      <th>imp</th>\n",
       "    </tr>\n",
       "  </thead>\n",
       "  <tbody>\n",
       "    <tr>\n",
       "      <th>58</th>\n",
       "      <td>average_rating</td>\n",
       "      <td>0.282995</td>\n",
       "    </tr>\n",
       "    <tr>\n",
       "      <th>50</th>\n",
       "      <td>user_id</td>\n",
       "      <td>0.216364</td>\n",
       "    </tr>\n",
       "    <tr>\n",
       "      <th>66</th>\n",
       "      <td>ratings_5</td>\n",
       "      <td>0.027622</td>\n",
       "    </tr>\n",
       "    <tr>\n",
       "      <th>62</th>\n",
       "      <td>ratings_1</td>\n",
       "      <td>0.027621</td>\n",
       "    </tr>\n",
       "    <tr>\n",
       "      <th>1</th>\n",
       "      <td>authors</td>\n",
       "      <td>0.026849</td>\n",
       "    </tr>\n",
       "    <tr>\n",
       "      <th>0</th>\n",
       "      <td>isbn</td>\n",
       "      <td>0.025865</td>\n",
       "    </tr>\n",
       "    <tr>\n",
       "      <th>54</th>\n",
       "      <td>work_id</td>\n",
       "      <td>0.024120</td>\n",
       "    </tr>\n",
       "    <tr>\n",
       "      <th>55</th>\n",
       "      <td>books_count</td>\n",
       "      <td>0.023867</td>\n",
       "    </tr>\n",
       "    <tr>\n",
       "      <th>63</th>\n",
       "      <td>ratings_2</td>\n",
       "      <td>0.023570</td>\n",
       "    </tr>\n",
       "    <tr>\n",
       "      <th>6</th>\n",
       "      <td>title</td>\n",
       "      <td>0.023527</td>\n",
       "    </tr>\n",
       "    <tr>\n",
       "      <th>61</th>\n",
       "      <td>work_text_reviews_count</td>\n",
       "      <td>0.023491</td>\n",
       "    </tr>\n",
       "    <tr>\n",
       "      <th>2</th>\n",
       "      <td>original_title</td>\n",
       "      <td>0.023110</td>\n",
       "    </tr>\n",
       "    <tr>\n",
       "      <th>56</th>\n",
       "      <td>isbn13</td>\n",
       "      <td>0.021214</td>\n",
       "    </tr>\n",
       "    <tr>\n",
       "      <th>53</th>\n",
       "      <td>best_book_id</td>\n",
       "      <td>0.018918</td>\n",
       "    </tr>\n",
       "    <tr>\n",
       "      <th>52</th>\n",
       "      <td>goodreads_book_id</td>\n",
       "      <td>0.018262</td>\n",
       "    </tr>\n",
       "    <tr>\n",
       "      <th>57</th>\n",
       "      <td>original_publication_year</td>\n",
       "      <td>0.017727</td>\n",
       "    </tr>\n",
       "    <tr>\n",
       "      <th>64</th>\n",
       "      <td>ratings_3</td>\n",
       "      <td>0.016998</td>\n",
       "    </tr>\n",
       "    <tr>\n",
       "      <th>65</th>\n",
       "      <td>ratings_4</td>\n",
       "      <td>0.016759</td>\n",
       "    </tr>\n",
       "    <tr>\n",
       "      <th>51</th>\n",
       "      <td>book_id</td>\n",
       "      <td>0.015798</td>\n",
       "    </tr>\n",
       "    <tr>\n",
       "      <th>5</th>\n",
       "      <td>small_image_url</td>\n",
       "      <td>0.015789</td>\n",
       "    </tr>\n",
       "  </tbody>\n",
       "</table>\n",
       "</div>"
      ],
      "text/plain": [
       "                         cols       imp\n",
       "58             average_rating  0.282995\n",
       "50                    user_id  0.216364\n",
       "66                  ratings_5  0.027622\n",
       "62                  ratings_1  0.027621\n",
       "1                     authors  0.026849\n",
       "0                        isbn  0.025865\n",
       "54                    work_id  0.024120\n",
       "55                books_count  0.023867\n",
       "63                  ratings_2  0.023570\n",
       "6                       title  0.023527\n",
       "61    work_text_reviews_count  0.023491\n",
       "2              original_title  0.023110\n",
       "56                     isbn13  0.021214\n",
       "53               best_book_id  0.018918\n",
       "52          goodreads_book_id  0.018262\n",
       "57  original_publication_year  0.017727\n",
       "64                  ratings_3  0.016998\n",
       "65                  ratings_4  0.016759\n",
       "51                    book_id  0.015798\n",
       "5             small_image_url  0.015789"
      ]
     },
     "execution_count": 66,
     "metadata": {},
     "output_type": "execute_result"
    }
   ],
   "source": [
    "rf_feat_importance(m, xs)[:20]"
   ]
  },
  {
   "cell_type": "markdown",
   "id": "continental-recall",
   "metadata": {},
   "source": [
    "We have a bunch of id columns that mean around the same thing. Let's only keep the book_id, see how it goes."
   ]
  },
  {
   "cell_type": "code",
   "execution_count": 70,
   "id": "catholic-kitchen",
   "metadata": {},
   "outputs": [
    {
     "data": {
      "text/plain": [
       "(10000, 10000, 10000, 9301, 9738)"
      ]
     },
     "execution_count": 70,
     "metadata": {},
     "output_type": "execute_result"
    }
   ],
   "source": [
    "len(book_data.work_id.unique()), len(book_data.goodreads_book_id.unique()), len(book_data.best_book_id.unique()), len(book_data.isbn.unique()), len(book_data.isbn13.unique()) + book_data.isbn13.isna().sum() - 1"
   ]
  },
  {
   "cell_type": "markdown",
   "id": "armed-consciousness",
   "metadata": {},
   "source": [
    "I don't know why isbn and isbn13 are not entirely unique but I will still remove them."
   ]
  },
  {
   "cell_type": "code",
   "execution_count": 71,
   "id": "consecutive-walter",
   "metadata": {},
   "outputs": [],
   "source": [
    "to_drop = ['work_id', 'goodreads_book_id', 'best_book_id', 'isbn', 'isbn13', 'isbn13_na']"
   ]
  },
  {
   "cell_type": "code",
   "execution_count": 72,
   "id": "addressed-monster",
   "metadata": {},
   "outputs": [
    {
     "data": {
      "text/plain": [
       "(0.8906743824072378, 0.9078537185480658)"
      ]
     },
     "execution_count": 72,
     "metadata": {},
     "output_type": "execute_result"
    }
   ],
   "source": [
    "m = rf(xs.drop(to_drop, axis=1), y)\n",
    "m_mse(m, xs.drop(to_drop, axis=1), y), m_mse(m, valid_xs.drop(to_drop, axis=1), valid_y)"
   ]
  },
  {
   "cell_type": "code",
   "execution_count": 73,
   "id": "colonial-attitude",
   "metadata": {},
   "outputs": [],
   "source": [
    "xs = xs.drop(to_drop, axis=1)\n",
    "valid_xs = valid_xs.drop(to_drop, axis=1)"
   ]
  },
  {
   "cell_type": "markdown",
   "id": "played-cooling",
   "metadata": {},
   "source": [
    "Around the same (slightly better) and our model is simpler to use at inference time."
   ]
  },
  {
   "cell_type": "markdown",
   "id": "christian-alfred",
   "metadata": {},
   "source": [
    "**We already have a better model than our baseline**"
   ]
  },
  {
   "cell_type": "markdown",
   "id": "solved-confusion",
   "metadata": {},
   "source": [
    "### Keeping the important features"
   ]
  },
  {
   "cell_type": "code",
   "execution_count": 74,
   "id": "generous-scroll",
   "metadata": {},
   "outputs": [],
   "source": [
    "imp = rf_feat_importance(m, xs)"
   ]
  },
  {
   "cell_type": "code",
   "execution_count": 75,
   "id": "grateful-journalism",
   "metadata": {},
   "outputs": [
    {
     "data": {
      "image/png": "[encoded data removed]",
      "text/plain": [
       "<Figure size 864x1080 with 1 Axes>"
      ]
     },
     "metadata": {
      "needs_background": "light"
     },
     "output_type": "display_data"
    }
   ],
   "source": [
    "def plot_fi(fi):\n",
    "    return fi.plot('cols', 'imp', 'barh', figsize=(12,15), legend=False)\n",
    "\n",
    "plot_fi(imp);"
   ]
  },
  {
   "cell_type": "markdown",
   "id": "activated-source",
   "metadata": {},
   "source": [
    "average_rating and user_id are by far the most important variables."
   ]
  },
  {
   "cell_type": "code",
   "execution_count": 76,
   "id": "opposite-theorem",
   "metadata": {},
   "outputs": [
    {
     "data": {
      "text/html": [
       "<div>\n",
       "<style scoped>\n",
       "    .dataframe tbody tr th:only-of-type {\n",
       "        vertical-align: middle;\n",
       "    }\n",
       "\n",
       "    .dataframe tbody tr th {\n",
       "        vertical-align: top;\n",
       "    }\n",
       "\n",
       "    .dataframe thead th {\n",
       "        text-align: right;\n",
       "    }\n",
       "</style>\n",
       "<table border=\"1\" class=\"dataframe\">\n",
       "  <thead>\n",
       "    <tr style=\"text-align: right;\">\n",
       "      <th></th>\n",
       "      <th>cols</th>\n",
       "      <th>imp</th>\n",
       "    </tr>\n",
       "  </thead>\n",
       "  <tbody>\n",
       "    <tr>\n",
       "      <th>52</th>\n",
       "      <td>average_rating</td>\n",
       "      <td>0.287547</td>\n",
       "    </tr>\n",
       "    <tr>\n",
       "      <th>48</th>\n",
       "      <td>user_id</td>\n",
       "      <td>0.222574</td>\n",
       "    </tr>\n",
       "    <tr>\n",
       "      <th>56</th>\n",
       "      <td>ratings_1</td>\n",
       "      <td>0.033768</td>\n",
       "    </tr>\n",
       "    <tr>\n",
       "      <th>60</th>\n",
       "      <td>ratings_5</td>\n",
       "      <td>0.033252</td>\n",
       "    </tr>\n",
       "    <tr>\n",
       "      <th>0</th>\n",
       "      <td>authors</td>\n",
       "      <td>0.032383</td>\n",
       "    </tr>\n",
       "    <tr>\n",
       "      <th>55</th>\n",
       "      <td>work_text_reviews_count</td>\n",
       "      <td>0.030245</td>\n",
       "    </tr>\n",
       "    <tr>\n",
       "      <th>5</th>\n",
       "      <td>title</td>\n",
       "      <td>0.029640</td>\n",
       "    </tr>\n",
       "    <tr>\n",
       "      <th>50</th>\n",
       "      <td>books_count</td>\n",
       "      <td>0.028960</td>\n",
       "    </tr>\n",
       "    <tr>\n",
       "      <th>1</th>\n",
       "      <td>original_title</td>\n",
       "      <td>0.028562</td>\n",
       "    </tr>\n",
       "    <tr>\n",
       "      <th>57</th>\n",
       "      <td>ratings_2</td>\n",
       "      <td>0.027948</td>\n",
       "    </tr>\n",
       "    <tr>\n",
       "      <th>51</th>\n",
       "      <td>original_publication_year</td>\n",
       "      <td>0.025527</td>\n",
       "    </tr>\n",
       "    <tr>\n",
       "      <th>59</th>\n",
       "      <td>ratings_4</td>\n",
       "      <td>0.021250</td>\n",
       "    </tr>\n",
       "    <tr>\n",
       "      <th>49</th>\n",
       "      <td>book_id</td>\n",
       "      <td>0.019994</td>\n",
       "    </tr>\n",
       "    <tr>\n",
       "      <th>58</th>\n",
       "      <td>ratings_3</td>\n",
       "      <td>0.019914</td>\n",
       "    </tr>\n",
       "    <tr>\n",
       "      <th>4</th>\n",
       "      <td>small_image_url</td>\n",
       "      <td>0.019604</td>\n",
       "    </tr>\n",
       "    <tr>\n",
       "      <th>3</th>\n",
       "      <td>image_url</td>\n",
       "      <td>0.019177</td>\n",
       "    </tr>\n",
       "    <tr>\n",
       "      <th>53</th>\n",
       "      <td>ratings_count</td>\n",
       "      <td>0.018118</td>\n",
       "    </tr>\n",
       "    <tr>\n",
       "      <th>54</th>\n",
       "      <td>work_ratings_count</td>\n",
       "      <td>0.016003</td>\n",
       "    </tr>\n",
       "    <tr>\n",
       "      <th>6</th>\n",
       "      <td>series</td>\n",
       "      <td>0.013486</td>\n",
       "    </tr>\n",
       "    <tr>\n",
       "      <th>2</th>\n",
       "      <td>language_code</td>\n",
       "      <td>0.005689</td>\n",
       "    </tr>\n",
       "    <tr>\n",
       "      <th>61</th>\n",
       "      <td>volume_number</td>\n",
       "      <td>0.004163</td>\n",
       "    </tr>\n",
       "    <tr>\n",
       "      <th>37</th>\n",
       "      <td>Romance</td>\n",
       "      <td>0.004110</td>\n",
       "    </tr>\n",
       "    <tr>\n",
       "      <th>46</th>\n",
       "      <td>Young Adult</td>\n",
       "      <td>0.003611</td>\n",
       "    </tr>\n",
       "    <tr>\n",
       "      <th>15</th>\n",
       "      <td>Contemporary</td>\n",
       "      <td>0.003521</td>\n",
       "    </tr>\n",
       "    <tr>\n",
       "      <th>11</th>\n",
       "      <td>Children's</td>\n",
       "      <td>0.003413</td>\n",
       "    </tr>\n",
       "    <tr>\n",
       "      <th>19</th>\n",
       "      <td>Fantasy</td>\n",
       "      <td>0.003200</td>\n",
       "    </tr>\n",
       "    <tr>\n",
       "      <th>23</th>\n",
       "      <td>Historical Fiction</td>\n",
       "      <td>0.003191</td>\n",
       "    </tr>\n",
       "    <tr>\n",
       "      <th>30</th>\n",
       "      <td>Mystery</td>\n",
       "      <td>0.003130</td>\n",
       "    </tr>\n",
       "    <tr>\n",
       "      <th>13</th>\n",
       "      <td>Classics</td>\n",
       "      <td>0.003067</td>\n",
       "    </tr>\n",
       "    <tr>\n",
       "      <th>10</th>\n",
       "      <td>Chick Lit</td>\n",
       "      <td>0.002881</td>\n",
       "    </tr>\n",
       "    <tr>\n",
       "      <th>18</th>\n",
       "      <td>Ebooks</td>\n",
       "      <td>0.002857</td>\n",
       "    </tr>\n",
       "    <tr>\n",
       "      <th>24</th>\n",
       "      <td>History</td>\n",
       "      <td>0.002538</td>\n",
       "    </tr>\n",
       "    <tr>\n",
       "      <th>39</th>\n",
       "      <td>Science Fiction</td>\n",
       "      <td>0.002352</td>\n",
       "    </tr>\n",
       "    <tr>\n",
       "      <th>41</th>\n",
       "      <td>Suspense</td>\n",
       "      <td>0.002292</td>\n",
       "    </tr>\n",
       "    <tr>\n",
       "      <th>32</th>\n",
       "      <td>Paranormal</td>\n",
       "      <td>0.002215</td>\n",
       "    </tr>\n",
       "    <tr>\n",
       "      <th>44</th>\n",
       "      <td>Thriller</td>\n",
       "      <td>0.001899</td>\n",
       "    </tr>\n",
       "    <tr>\n",
       "      <th>25</th>\n",
       "      <td>Horror</td>\n",
       "      <td>0.001717</td>\n",
       "    </tr>\n",
       "    <tr>\n",
       "      <th>17</th>\n",
       "      <td>Crime</td>\n",
       "      <td>0.001646</td>\n",
       "    </tr>\n",
       "    <tr>\n",
       "      <th>38</th>\n",
       "      <td>Science</td>\n",
       "      <td>0.001406</td>\n",
       "    </tr>\n",
       "    <tr>\n",
       "      <th>31</th>\n",
       "      <td>Nonfiction</td>\n",
       "      <td>0.001372</td>\n",
       "    </tr>\n",
       "    <tr>\n",
       "      <th>33</th>\n",
       "      <td>Philosophy</td>\n",
       "      <td>0.001306</td>\n",
       "    </tr>\n",
       "    <tr>\n",
       "      <th>36</th>\n",
       "      <td>Religion</td>\n",
       "      <td>0.001080</td>\n",
       "    </tr>\n",
       "    <tr>\n",
       "      <th>28</th>\n",
       "      <td>Memoir</td>\n",
       "      <td>0.000904</td>\n",
       "    </tr>\n",
       "    <tr>\n",
       "      <th>35</th>\n",
       "      <td>Psychology</td>\n",
       "      <td>0.000884</td>\n",
       "    </tr>\n",
       "    <tr>\n",
       "      <th>42</th>\n",
       "      <td>Spirituality</td>\n",
       "      <td>0.000828</td>\n",
       "    </tr>\n",
       "    <tr>\n",
       "      <th>40</th>\n",
       "      <td>Self Help</td>\n",
       "      <td>0.000813</td>\n",
       "    </tr>\n",
       "    <tr>\n",
       "      <th>8</th>\n",
       "      <td>Biography</td>\n",
       "      <td>0.000812</td>\n",
       "    </tr>\n",
       "    <tr>\n",
       "      <th>7</th>\n",
       "      <td>Art</td>\n",
       "      <td>0.000738</td>\n",
       "    </tr>\n",
       "    <tr>\n",
       "      <th>45</th>\n",
       "      <td>Travel</td>\n",
       "      <td>0.000674</td>\n",
       "    </tr>\n",
       "    <tr>\n",
       "      <th>20</th>\n",
       "      <td>Fiction</td>\n",
       "      <td>0.000640</td>\n",
       "    </tr>\n",
       "  </tbody>\n",
       "</table>\n",
       "</div>"
      ],
      "text/plain": [
       "                         cols       imp\n",
       "52             average_rating  0.287547\n",
       "48                    user_id  0.222574\n",
       "56                  ratings_1  0.033768\n",
       "60                  ratings_5  0.033252\n",
       "0                     authors  0.032383\n",
       "55    work_text_reviews_count  0.030245\n",
       "5                       title  0.029640\n",
       "50                books_count  0.028960\n",
       "1              original_title  0.028562\n",
       "57                  ratings_2  0.027948\n",
       "51  original_publication_year  0.025527\n",
       "59                  ratings_4  0.021250\n",
       "49                    book_id  0.019994\n",
       "58                  ratings_3  0.019914\n",
       "4             small_image_url  0.019604\n",
       "3                   image_url  0.019177\n",
       "53              ratings_count  0.018118\n",
       "54         work_ratings_count  0.016003\n",
       "6                      series  0.013486\n",
       "2               language_code  0.005689\n",
       "61              volume_number  0.004163\n",
       "37                    Romance  0.004110\n",
       "46                Young Adult  0.003611\n",
       "15               Contemporary  0.003521\n",
       "11                 Children's  0.003413\n",
       "19                    Fantasy  0.003200\n",
       "23         Historical Fiction  0.003191\n",
       "30                    Mystery  0.003130\n",
       "13                   Classics  0.003067\n",
       "10                  Chick Lit  0.002881\n",
       "18                     Ebooks  0.002857\n",
       "24                    History  0.002538\n",
       "39            Science Fiction  0.002352\n",
       "41                   Suspense  0.002292\n",
       "32                 Paranormal  0.002215\n",
       "44                   Thriller  0.001899\n",
       "25                     Horror  0.001717\n",
       "17                      Crime  0.001646\n",
       "38                    Science  0.001406\n",
       "31                 Nonfiction  0.001372\n",
       "33                 Philosophy  0.001306\n",
       "36                   Religion  0.001080\n",
       "28                     Memoir  0.000904\n",
       "35                 Psychology  0.000884\n",
       "42               Spirituality  0.000828\n",
       "40                  Self Help  0.000813\n",
       "8                   Biography  0.000812\n",
       "7                         Art  0.000738\n",
       "45                     Travel  0.000674\n",
       "20                    Fiction  0.000640"
      ]
     },
     "execution_count": 76,
     "metadata": {},
     "output_type": "execute_result"
    }
   ],
   "source": [
    "imp.head(50)"
   ]
  },
  {
   "cell_type": "code",
   "execution_count": 77,
   "id": "certified-bangkok",
   "metadata": {},
   "outputs": [
    {
     "data": {
      "text/plain": [
       "62"
      ]
     },
     "execution_count": 77,
     "metadata": {},
     "output_type": "execute_result"
    }
   ],
   "source": [
    "len(xs.columns)"
   ]
  },
  {
   "cell_type": "markdown",
   "id": "naughty-copying",
   "metadata": {},
   "source": [
    "We have 62 features for now, let's see if we can reduce this."
   ]
  },
  {
   "cell_type": "code",
   "execution_count": 78,
   "id": "cosmetic-transaction",
   "metadata": {},
   "outputs": [
    {
     "name": "stdout",
     "output_type": "stream",
     "text": [
      "CPU times: user 1h 14min 22s, sys: 1min 34s, total: 1h 15min 56s\n",
      "Wall time: 15min 45s\n"
     ]
    }
   ],
   "source": [
    "%%time\n",
    "\n",
    "nb_cols = np.arange(1, len(xs.columns) + 1, step = 1)\n",
    "scores = []\n",
    "\n",
    "for nb_col in nb_cols:\n",
    "    to_keep = imp[:nb_col].cols\n",
    "    xs_imp = xs[to_keep]\n",
    "    valid_xs_imp = valid_xs[to_keep]\n",
    "    m = rf(xs_imp, y)\n",
    "    scores.append(m_mse(m, valid_xs_imp, valid_y))"
   ]
  },
  {
   "cell_type": "code",
   "execution_count": 79,
   "id": "standing-mexico",
   "metadata": {},
   "outputs": [],
   "source": [
    "order = np.argsort(scores)"
   ]
  },
  {
   "cell_type": "code",
   "execution_count": 80,
   "id": "successful-thing",
   "metadata": {},
   "outputs": [
    {
     "data": {
      "text/plain": [
       "array([0.90780452, 0.90781669, 0.90783528, 0.90784939, 0.9078566 ,\n",
       "       0.90785986, 0.90786029, 0.90786423, 0.90786572, 0.90786953,\n",
       "       0.90787108, 0.90787585, 0.90787656, 0.90787799, 0.90788315,\n",
       "       0.90788416, 0.90788572, 0.90789172, 0.90789243, 0.90789576,\n",
       "       0.90789733, 0.90790007, 0.9079068 , 0.90790979, 0.90791306,\n",
       "       0.90791906, 0.90792532, 0.90792664, 0.90792954, 0.90793078,\n",
       "       0.90793546, 0.90793973, 0.90794124, 0.90794617, 0.90795503,\n",
       "       0.90795557, 0.90796756, 0.90798908, 0.9079936 , 0.90799557,\n",
       "       0.90799917, 0.90800853, 0.908017  , 0.90802287, 0.90803781,\n",
       "       0.90805085, 0.9080546 , 0.9080585 , 0.90806061, 0.9080714 ,\n",
       "       0.90808538, 0.90809869, 0.90811683, 0.90813718, 0.9081766 ,\n",
       "       0.90820083, 0.9082034 , 0.90824175, 0.9084233 , 0.90845251,\n",
       "       0.912181  , 0.91303331])"
      ]
     },
     "execution_count": 80,
     "metadata": {},
     "output_type": "execute_result"
    }
   ],
   "source": [
    "np.array(scores)[order]"
   ]
  },
  {
   "cell_type": "code",
   "execution_count": 81,
   "id": "likely-infection",
   "metadata": {},
   "outputs": [
    {
     "data": {
      "text/plain": [
       "array([13, 39, 55, 41, 59, 57, 40, 11,  5, 62, 33, 46, 45, 61, 47, 56, 52,\n",
       "       51, 53, 44, 54, 60, 30, 43,  6, 42, 29, 27, 48, 58, 37, 38, 34, 35,\n",
       "       32, 14, 25, 36, 31, 23,  7,  8, 22, 50, 12, 49,  9, 28, 15, 26, 24,\n",
       "       20, 19, 21, 10, 17, 16, 18,  3,  4,  2,  1])"
      ]
     },
     "execution_count": 81,
     "metadata": {},
     "output_type": "execute_result"
    }
   ],
   "source": [
    "np.array(nb_cols)[order]"
   ]
  },
  {
   "cell_type": "markdown",
   "id": "linear-diploma",
   "metadata": {},
   "source": [
    "Wow ! The best only uses the 13 most important features.\n",
    "There are also models using 11 and 5 features that are very good!\n",
    "\n",
    "I'll save the 13 feature model and keep 33 features as a good tradeoff between model simplicity, performance and data for further analysis."
   ]
  },
  {
   "cell_type": "code",
   "execution_count": 83,
   "id": "electrical-samoa",
   "metadata": {},
   "outputs": [],
   "source": [
    "to_keep = imp[:13].cols\n",
    "xs_imp = xs[to_keep]\n",
    "valid_xs_imp = valid_xs[to_keep]"
   ]
  },
  {
   "cell_type": "code",
   "execution_count": 84,
   "id": "civic-nelson",
   "metadata": {},
   "outputs": [
    {
     "data": {
      "text/plain": [
       "(0.8912491038125148, 0.9078045196799123)"
      ]
     },
     "execution_count": 84,
     "metadata": {},
     "output_type": "execute_result"
    }
   ],
   "source": [
    "m = rf(xs_imp, y)\n",
    "m_mse(m, xs_imp, y), m_mse(m, valid_xs_imp, valid_y)"
   ]
  },
  {
   "cell_type": "code",
   "execution_count": 85,
   "id": "rapid-opening",
   "metadata": {},
   "outputs": [],
   "source": [
    "save_pickle('save/rf_13_features', m)"
   ]
  },
  {
   "cell_type": "code",
   "execution_count": 86,
   "id": "strategic-underground",
   "metadata": {},
   "outputs": [
    {
     "data": {
      "image/png": "[encoded data removed]",
      "text/plain": [
       "<Figure size 864x1080 with 1 Axes>"
      ]
     },
     "metadata": {
      "needs_background": "light"
     },
     "output_type": "display_data"
    }
   ],
   "source": [
    "plot_fi(rf_feat_importance(m, xs_imp));"
   ]
  },
  {
   "cell_type": "markdown",
   "id": "interracial-sunglasses",
   "metadata": {},
   "source": [
    "User_id and average_rating are by far the most important features. Which makes sense since if you know how a user rates and how a book is rated in general, you can get a good idea what the rating of this user for this book will look like."
   ]
  },
  {
   "cell_type": "code",
   "execution_count": 87,
   "id": "structured-watts",
   "metadata": {},
   "outputs": [],
   "source": [
    "#xs_imp.columns.to_series().to_csv('save/13_features.csv', index=False, header=False)"
   ]
  },
  {
   "cell_type": "code",
   "execution_count": 88,
   "id": "judicial-jordan",
   "metadata": {},
   "outputs": [],
   "source": [
    "to_keep = imp[:33].cols\n",
    "xs_imp = xs[to_keep]\n",
    "valid_xs_imp = valid_xs[to_keep]"
   ]
  },
  {
   "cell_type": "code",
   "execution_count": 89,
   "id": "alternate-manchester",
   "metadata": {},
   "outputs": [
    {
     "data": {
      "text/plain": [
       "(0.890756008250006, 0.9078710829450982)"
      ]
     },
     "execution_count": 89,
     "metadata": {},
     "output_type": "execute_result"
    }
   ],
   "source": [
    "m = rf(xs_imp, y)\n",
    "m_mse(m, xs_imp, y), m_mse(m, valid_xs_imp, valid_y)"
   ]
  },
  {
   "cell_type": "code",
   "execution_count": 90,
   "id": "small-precipitation",
   "metadata": {},
   "outputs": [],
   "source": [
    "#save_pickle('save/rf_33_features', m)"
   ]
  },
  {
   "cell_type": "code",
   "execution_count": 91,
   "id": "joined-recruitment",
   "metadata": {},
   "outputs": [
    {
     "data": {
      "image/png": "[encoded data removed]",
      "text/plain": [
       "<Figure size 864x1080 with 1 Axes>"
      ]
     },
     "metadata": {
      "needs_background": "light"
     },
     "output_type": "display_data"
    }
   ],
   "source": [
    "plot_fi(rf_feat_importance(m, xs_imp));"
   ]
  },
  {
   "cell_type": "code",
   "execution_count": 92,
   "id": "american-behalf",
   "metadata": {},
   "outputs": [],
   "source": [
    "#xs_imp.columns.to_series().to_csv('save/33_features.csv', index=False, header=False)"
   ]
  },
  {
   "cell_type": "code",
   "execution_count": 14,
   "id": "competent-peoples",
   "metadata": {},
   "outputs": [],
   "source": [
    "#keep = pd.read_csv('save/33_features.csv', header=None)[0].values\n",
    "#xs_imp = xs[keep]\n",
    "#valid_xs_imp = valid_xs[keep]"
   ]
  },
  {
   "cell_type": "code",
   "execution_count": 93,
   "id": "egyptian-prompt",
   "metadata": {},
   "outputs": [
    {
     "data": {
      "text/plain": [
       "(62, 33)"
      ]
     },
     "execution_count": 93,
     "metadata": {},
     "output_type": "execute_result"
    }
   ],
   "source": [
    "len(xs.columns), len(xs_imp.columns)"
   ]
  },
  {
   "cell_type": "markdown",
   "id": "surgical-dynamics",
   "metadata": {},
   "source": [
    "By keeping 33 features, we removed lots of genres. I thought that some less popular genres were underreprenseted considering the fact I use 30% of the data for training and baggings of only 40 trees with 100 000 bootstrapped samples.\n",
    "\n",
    "To check if I didn't remove anything too crazy, I retrained u sing the validation set (70% of the data) and with bootstraps of its size."
   ]
  },
  {
   "cell_type": "code",
   "execution_count": 94,
   "id": "boolean-employer",
   "metadata": {},
   "outputs": [
    {
     "data": {
      "text/plain": [
       "(0.933551373720652, 0.8034857996306192)"
      ]
     },
     "execution_count": 94,
     "metadata": {},
     "output_type": "execute_result"
    }
   ],
   "source": [
    "m = rf(valid_xs_imp, valid_y, max_samples=None)\n",
    "m_mse(m, xs_imp, y), m_mse(m, valid_xs_imp, valid_y)"
   ]
  },
  {
   "cell_type": "code",
   "execution_count": 13,
   "id": "listed-sterling",
   "metadata": {},
   "outputs": [
    {
     "data": {
      "text/plain": [
       "(0.9335167604001013, 0.802423349738707)"
      ]
     },
     "execution_count": 13,
     "metadata": {},
     "output_type": "execute_result"
    }
   ],
   "source": [
    "m = rf(valid_xs, valid_y, max_samples=None)\n",
    "m_mse(m, xs, y), m_mse(m, valid_xs, valid_y)"
   ]
  },
  {
   "cell_type": "markdown",
   "id": "foster-honor",
   "metadata": {},
   "source": [
    "Remember now the validation set is our training set (so the \"validation\" MSE is on the left).\n",
    "We have very slightly worse MSE using only the important features, so we can keep them as is."
   ]
  },
  {
   "cell_type": "markdown",
   "id": "empirical-apple",
   "metadata": {},
   "source": [
    "We are left with a few very well-known genres and some meta information about the book."
   ]
  },
  {
   "cell_type": "markdown",
   "id": "descending-terrorist",
   "metadata": {},
   "source": [
    "### Similar columns"
   ]
  },
  {
   "cell_type": "code",
   "execution_count": 95,
   "id": "persistent-sister",
   "metadata": {},
   "outputs": [],
   "source": [
    "from scipy.cluster import hierarchy as hc"
   ]
  },
  {
   "cell_type": "code",
   "execution_count": 96,
   "id": "competent-humanity",
   "metadata": {},
   "outputs": [],
   "source": [
    "def cluster_columns(df, figsize=(15,15), font_size=12):\n",
    "    corr = np.round(scipy.stats.spearmanr(df).correlation, 4)\n",
    "    corr_condensed = hc.distance.squareform(1-corr)\n",
    "    z = hc.linkage(corr_condensed, method='average')\n",
    "    fig = plt.figure(figsize=figsize)\n",
    "    hc.dendrogram(z, labels=df.columns, orientation='left', leaf_font_size=font_size)\n",
    "    plt.show()"
   ]
  },
  {
   "cell_type": "code",
   "execution_count": 97,
   "id": "available-couple",
   "metadata": {},
   "outputs": [
    {
     "data": {
      "image/png": "[encoded data removed]",
      "text/plain": [
       "<Figure size 1080x1080 with 1 Axes>"
      ]
     },
     "metadata": {
      "needs_background": "light"
     },
     "output_type": "display_data"
    }
   ],
   "source": [
    "cluster_columns(xs_imp)"
   ]
  },
  {
   "cell_type": "markdown",
   "id": "aggregate-fault",
   "metadata": {},
   "source": [
    "Small_image_url and image_url, title and original title and all rating related features (except average_rating) are pretty similar in their behavior.\n",
    "Let's see what happens if we remove one of each pair."
   ]
  },
  {
   "cell_type": "code",
   "execution_count": 98,
   "id": "synthetic-master",
   "metadata": {},
   "outputs": [],
   "source": [
    "def get_oob(df):\n",
    "    m = RandomForestRegressor(n_estimators=40, min_samples_leaf=15,\n",
    "        max_samples=50000, max_features=0.5, n_jobs=-1, oob_score=True, random_state=42)\n",
    "    m.fit(df, y)\n",
    "    return m.oob_score_"
   ]
  },
  {
   "cell_type": "markdown",
   "id": "approved-omega",
   "metadata": {},
   "source": [
    "oob_score_ is the same as R² metric. 1 is good (perfect model, explains 100% of the variance in the dependent variable), 0 is bad (no variance explained at all)."
   ]
  },
  {
   "cell_type": "code",
   "execution_count": 99,
   "id": "wrong-courtesy",
   "metadata": {},
   "outputs": [
    {
     "data": {
      "text/plain": [
       "0.07621259552254656"
      ]
     },
     "execution_count": 99,
     "metadata": {},
     "output_type": "execute_result"
    }
   ],
   "source": [
    "get_oob(xs_imp)"
   ]
  },
  {
   "cell_type": "markdown",
   "id": "stone-cinema",
   "metadata": {},
   "source": [
    "Well that is not a great R² score. Meaning our model is either false or doesn't explain much of the variance in the dependent variable."
   ]
  },
  {
   "cell_type": "code",
   "execution_count": 100,
   "id": "addressed-species",
   "metadata": {},
   "outputs": [
    {
     "data": {
      "text/plain": [
       "{'small_image_url': 0.07596316414108473,\n",
       " 'image_url': 0.07596316414108473,\n",
       " 'title': 0.07605440638838246,\n",
       " 'original_title': 0.07599297536421135,\n",
       " 'ratings_5': 0.07592779539060146,\n",
       " 'ratings_1': 0.07584352215979195,\n",
       " 'ratings_2': 0.07607943655357552,\n",
       " 'ratings_4': 0.07595734887657091,\n",
       " 'ratings_3': 0.07583096579900672,\n",
       " 'work_ratings_count': 0.07580769980410496,\n",
       " 'ratings_count': 0.07595416180561154}"
      ]
     },
     "execution_count": 100,
     "metadata": {},
     "output_type": "execute_result"
    }
   ],
   "source": [
    "{c: get_oob(xs_imp.drop(c , axis=1)) for c in (\n",
    "    'small_image_url', 'image_url',\n",
    "    'title', 'original_title',\n",
    "    'ratings_5', 'ratings_1', 'ratings_2', 'ratings_4', 'ratings_3', 'work_ratings_count', 'ratings_count'\n",
    ")}"
   ]
  },
  {
   "cell_type": "markdown",
   "id": "lyric-sixth",
   "metadata": {},
   "source": [
    "Let's see what droping small_image_url, original_title, series and keeping one of each group (ratings >= 4, ratings <= 3, (work_)rating_counts) does to our R² and MSE."
   ]
  },
  {
   "cell_type": "code",
   "execution_count": 104,
   "id": "homeless-accreditation",
   "metadata": {},
   "outputs": [
    {
     "data": {
      "text/plain": [
       "0.07607965571890907"
      ]
     },
     "execution_count": 104,
     "metadata": {},
     "output_type": "execute_result"
    }
   ],
   "source": [
    "to_drop = ['small_image_url', 'original_title', 'ratings_count', 'ratings_4', 'ratings_2']\n",
    "get_oob(xs_imp.drop(to_drop, axis=1))"
   ]
  },
  {
   "cell_type": "code",
   "execution_count": 105,
   "id": "returning-scientist",
   "metadata": {},
   "outputs": [
    {
     "data": {
      "text/plain": [
       "(0.8906465782024182, 0.907720112601842)"
      ]
     },
     "execution_count": 105,
     "metadata": {},
     "output_type": "execute_result"
    }
   ],
   "source": [
    "m = rf(xs_imp.drop(to_drop, axis=1), y)\n",
    "m_mse(m, xs_imp.drop(to_drop, axis=1), y), m_mse(m, valid_xs_imp.drop(to_drop, axis=1), valid_y)"
   ]
  },
  {
   "cell_type": "markdown",
   "id": "perfect-photography",
   "metadata": {},
   "source": [
    "Our R² and MSE are around the same."
   ]
  },
  {
   "cell_type": "markdown",
   "id": "genuine-biology",
   "metadata": {},
   "source": [
    "Ebooks isn't a genre and shouldn't be here, so I'll drop it."
   ]
  },
  {
   "cell_type": "code",
   "execution_count": 106,
   "id": "medical-premises",
   "metadata": {},
   "outputs": [],
   "source": [
    "to_drop += ['Ebooks']"
   ]
  },
  {
   "cell_type": "code",
   "execution_count": 107,
   "id": "careful-harbor",
   "metadata": {},
   "outputs": [],
   "source": [
    "xs_final = xs_imp.drop(to_drop, axis=1)\n",
    "valid_xs_final = valid_xs_imp.drop(to_drop, axis=1)"
   ]
  },
  {
   "cell_type": "code",
   "execution_count": 108,
   "id": "ordinary-proof",
   "metadata": {},
   "outputs": [
    {
     "data": {
      "text/plain": [
       "(0.8908752644973963, 0.9077475391037773)"
      ]
     },
     "execution_count": 108,
     "metadata": {},
     "output_type": "execute_result"
    }
   ],
   "source": [
    "m = rf(xs_final, y)\n",
    "m_mse(m, xs_final, y), m_mse(m, valid_xs_final, valid_y)"
   ]
  },
  {
   "cell_type": "code",
   "execution_count": 109,
   "id": "historical-conclusion",
   "metadata": {},
   "outputs": [],
   "source": [
    "#save_pickle('save/rf_simple_0_907.pkl', m)"
   ]
  },
  {
   "cell_type": "code",
   "execution_count": 110,
   "id": "mediterranean-original",
   "metadata": {},
   "outputs": [],
   "source": [
    "#xs_final.columns.to_series().to_csv('save/final_features.csv', index=False, header=False)"
   ]
  },
  {
   "cell_type": "code",
   "execution_count": 10,
   "id": "centered-password",
   "metadata": {},
   "outputs": [],
   "source": [
    "#final_features = pd.read_csv('save/final_features.csv', header=None)[0].values"
   ]
  },
  {
   "cell_type": "markdown",
   "id": "filled-alcohol",
   "metadata": {},
   "source": [
    "Let's evaluate the model on the validation set with more trees and bigger samples see what we can get."
   ]
  },
  {
   "cell_type": "code",
   "execution_count": 111,
   "id": "present-hartford",
   "metadata": {},
   "outputs": [
    {
     "data": {
      "text/plain": [
       "(0.9313839629549998, 0.8017468293654721)"
      ]
     },
     "execution_count": 111,
     "metadata": {},
     "output_type": "execute_result"
    }
   ],
   "source": [
    "m = rf(valid_xs_final, valid_y, n_estimators=100, max_samples=None)\n",
    "m_mse(m, xs_final, y), m_mse(m, valid_xs_final, valid_y)"
   ]
  },
  {
   "cell_type": "markdown",
   "id": "velvet-behavior",
   "metadata": {},
   "source": [
    "Weirdly we have worse performance than our simpler model."
   ]
  },
  {
   "cell_type": "code",
   "execution_count": 112,
   "id": "charming-bronze",
   "metadata": {},
   "outputs": [
    {
     "data": {
      "image/png": "[encoded data removed]",
      "text/plain": [
       "<Figure size 864x1080 with 1 Axes>"
      ]
     },
     "metadata": {
      "needs_background": "light"
     },
     "output_type": "display_data"
    }
   ],
   "source": [
    "plot_fi(rf_feat_importance(m, xs_final));"
   ]
  },
  {
   "cell_type": "code",
   "execution_count": 113,
   "id": "collective-respondent",
   "metadata": {},
   "outputs": [],
   "source": [
    "#save_pickle('save/rf_complete_0_931.pkl', m)"
   ]
  },
  {
   "cell_type": "markdown",
   "id": "proof-singer",
   "metadata": {},
   "source": [
    "I think we are done removing redundant or irrelevant columns."
   ]
  },
  {
   "cell_type": "code",
   "execution_count": 114,
   "id": "radio-norway",
   "metadata": {},
   "outputs": [
    {
     "data": {
      "text/plain": [
       "(27, 69)"
      ]
     },
     "execution_count": 114,
     "metadata": {},
     "output_type": "execute_result"
    }
   ],
   "source": [
    "len(xs_final.columns), len(book_tab.all_col_names)"
   ]
  },
  {
   "cell_type": "markdown",
   "id": "reduced-fifth",
   "metadata": {},
   "source": [
    "# Further analysis"
   ]
  },
  {
   "cell_type": "code",
   "execution_count": 115,
   "id": "imported-drive",
   "metadata": {},
   "outputs": [
    {
     "data": {
      "text/plain": [
       "(6669, 10000)"
      ]
     },
     "execution_count": 115,
     "metadata": {},
     "output_type": "execute_result"
    }
   ],
   "source": [
    "len(book_data['image_url'].unique()), len(book_data)"
   ]
  },
  {
   "cell_type": "markdown",
   "id": "remarkable-greenhouse",
   "metadata": {},
   "source": [
    "At first view, not all images are unique."
   ]
  },
  {
   "cell_type": "code",
   "execution_count": 116,
   "id": "ranging-portugal",
   "metadata": {},
   "outputs": [
    {
     "data": {
      "text/plain": [
       "image_url\n",
       "https://images.gr-assets.com/books/1156897088m/350.jpg                                         1\n",
       "https://images.gr-assets.com/books/1159814395m/2095.jpg                                        1\n",
       "https://images.gr-assets.com/books/1163789140m/3478.jpg                                        1\n",
       "https://images.gr-assets.com/books/1165519096m/5367.jpg                                        1\n",
       "https://images.gr-assets.com/books/1166154337m/10365.jpg                                       1\n",
       "                                                                                            ... \n",
       "https://images.gr-assets.com/books/1502300279m/43886.jpg                                       1\n",
       "https://images.gr-assets.com/books/1502523710m/192510.jpg                                      1\n",
       "https://images.gr-assets.com/books/1503066414m/19501.jpg                                       1\n",
       "https://images.gr-assets.com/books/1503127212m/10889279.jpg                                    1\n",
       "https://s.gr-assets.com/assets/nophoto/book/111x148-bcc042a9c91a29c1d680899eff700a03.png    3332\n",
       "Length: 6669, dtype: int64"
      ]
     },
     "execution_count": 116,
     "metadata": {},
     "output_type": "execute_result"
    }
   ],
   "source": [
    "book_data.groupby('image_url').size()"
   ]
  },
  {
   "cell_type": "markdown",
   "id": "intense-blade",
   "metadata": {},
   "source": [
    "Let's see what that last image is\n",
    "![](https://s.gr-assets.com/assets/nophoto/book/111x148-bcc042a9c91a29c1d680899eff700a03.png)"
   ]
  },
  {
   "cell_type": "code",
   "execution_count": 117,
   "id": "floating-paint",
   "metadata": {},
   "outputs": [
    {
     "data": {
      "text/plain": [
       "10000"
      ]
     },
     "execution_count": 117,
     "metadata": {},
     "output_type": "execute_result"
    }
   ],
   "source": [
    "len(book_data['image_url'].unique()) + book_data.groupby('image_url').size().max() - 1"
   ]
  },
  {
   "cell_type": "markdown",
   "id": "three-nation",
   "metadata": {},
   "source": [
    "Seems like images are unique, except for missing images."
   ]
  },
  {
   "cell_type": "markdown",
   "id": "paperback-equality",
   "metadata": {},
   "source": [
    "image_url was part of the important features and it may encode something."
   ]
  },
  {
   "cell_type": "code",
   "execution_count": 118,
   "id": "divided-schedule",
   "metadata": {},
   "outputs": [],
   "source": [
    "m = load_pickle('save/rf_simple_0_907.pkl')"
   ]
  },
  {
   "cell_type": "markdown",
   "id": "young-fishing",
   "metadata": {},
   "source": [
    "Let's see a histogram of each image (encoded value) on the validation set."
   ]
  },
  {
   "cell_type": "code",
   "execution_count": 119,
   "id": "satisfied-pierre",
   "metadata": {},
   "outputs": [
    {
     "data": {
      "image/png": "[encoded data removed]",
      "text/plain": [
       "<Figure size 432x288 with 1 Axes>"
      ]
     },
     "metadata": {
      "needs_background": "light"
     },
     "output_type": "display_data"
    }
   ],
   "source": [
    "valid_xs_final['image_url'].hist();"
   ]
  },
  {
   "cell_type": "code",
   "execution_count": 121,
   "id": "integrated-psychiatry",
   "metadata": {},
   "outputs": [
    {
     "data": {
      "text/plain": [
       "6669"
      ]
     },
     "execution_count": 121,
     "metadata": {},
     "output_type": "execute_result"
    }
   ],
   "source": [
    "default_image = book_data.groupby('image_url').size().index[-1]\n",
    "default_image_encode = book_tab.classes['image_url'].o2i[default_image]\n",
    "default_image_encode"
   ]
  },
  {
   "cell_type": "markdown",
   "id": "lonely-agent",
   "metadata": {},
   "source": [
    "Our default_image is the most represented."
   ]
  },
  {
   "cell_type": "code",
   "execution_count": 122,
   "id": "cleared-prague",
   "metadata": {},
   "outputs": [
    {
     "data": {
      "text/plain": [
       "(3.8998185174592446, 3.9257470849723686)"
      ]
     },
     "execution_count": 122,
     "metadata": {},
     "output_type": "execute_result"
    }
   ],
   "source": [
    "default_mask = valid_xs_final['image_url'] == default_image_encode\n",
    "valid_y[default_mask].mean(), valid_y[~default_mask].mean()"
   ]
  },
  {
   "cell_type": "markdown",
   "id": "innocent-latitude",
   "metadata": {},
   "source": [
    "The mean of ratings with or without the default image doesn't seem that different.\n",
    "\n",
    "Let's plot the partial dependence of image_url (predict rating swith our model by fixing image_url to one value, getting the mean and so on for all image_url values)"
   ]
  },
  {
   "cell_type": "code",
   "execution_count": 123,
   "id": "future-decrease",
   "metadata": {},
   "outputs": [
    {
     "data": {
      "image/png": "[encoded data removed]",
      "text/plain": [
       "<Figure size 864x288 with 2 Axes>"
      ]
     },
     "metadata": {
      "needs_background": "light"
     },
     "output_type": "display_data"
    }
   ],
   "source": [
    "from sklearn.inspection import plot_partial_dependence\n",
    "\n",
    "fig,ax = plt.subplots(figsize=(12, 4))\n",
    "plot_partial_dependence(m, valid_xs_final, ['image_url'],\n",
    "                        grid_resolution=20, ax=ax);"
   ]
  },
  {
   "cell_type": "markdown",
   "id": "demonstrated-promise",
   "metadata": {},
   "source": [
    "Not sure we can conclude anything about the default image but small encoded values result in lower ratings. (Even though the whole thing is in a range of less than 0.01)"
   ]
  },
  {
   "cell_type": "markdown",
   "id": "incorporated-girlfriend",
   "metadata": {},
   "source": [
    "**Let's plot the partial dependence of each variable**"
   ]
  },
  {
   "cell_type": "code",
   "execution_count": 124,
   "id": "offshore-restriction",
   "metadata": {},
   "outputs": [
    {
     "data": {
      "image/png": "[encoded data removed]",
      "text/plain": [
       "<Figure size 864x288 with 2 Axes>"
      ]
     },
     "metadata": {
      "needs_background": "light"
     },
     "output_type": "display_data"
    }
   ],
   "source": [
    "fig,ax = plt.subplots(figsize=(12, 4))\n",
    "plot_partial_dependence(m, valid_xs_final, ['average_rating'],\n",
    "                        grid_resolution=20, ax=ax);"
   ]
  },
  {
   "cell_type": "markdown",
   "id": "hollow-frontier",
   "metadata": {},
   "source": [
    "Can't see much because average_rating makes the score vary so largly."
   ]
  },
  {
   "cell_type": "code",
   "execution_count": 125,
   "id": "obvious-valve",
   "metadata": {},
   "outputs": [
    {
     "data": {
      "image/png": "[encoded data removed]",
      "text/plain": [
       "<Figure size 1008x288 with 2 Axes>"
      ]
     },
     "metadata": {
      "needs_background": "light"
     },
     "output_type": "display_data"
    }
   ],
   "source": [
    "fig,ax = plt.subplots(figsize=(14, 4))\n",
    "plot_partial_dependence(m, valid_xs_final, ['user_id'],\n",
    "                        grid_resolution=20, ax=ax);"
   ]
  },
  {
   "cell_type": "code",
   "execution_count": 126,
   "id": "worst-illustration",
   "metadata": {},
   "outputs": [],
   "source": [
    "features = list(valid_xs_final.columns)\n",
    "features.remove('average_rating')\n",
    "features.remove('user_id')"
   ]
  },
  {
   "cell_type": "code",
   "execution_count": 133,
   "id": "coated-geography",
   "metadata": {},
   "outputs": [
    {
     "data": {
      "image/png": "[encoded data removed]",
      "text/plain": [
       "<Figure size 1440x2160 with 26 Axes>"
      ]
     },
     "metadata": {
      "needs_background": "light"
     },
     "output_type": "display_data"
    }
   ],
   "source": [
    "fig,ax = plt.subplots(figsize=(20, 30))\n",
    "plot_partial_dependence(m, valid_xs_final, features,\n",
    "                        grid_resolution=20, ax=ax);"
   ]
  },
  {
   "cell_type": "code",
   "execution_count": 128,
   "id": "spread-estonia",
   "metadata": {},
   "outputs": [
    {
     "data": {
      "text/plain": [
       "defaultdict(int, {'#na#': 0, 0: 1, 1: 2})"
      ]
     },
     "execution_count": 128,
     "metadata": {},
     "output_type": "execute_result"
    }
   ],
   "source": [
    "book_tab.classes['Chick Lit'].o2i"
   ]
  },
  {
   "cell_type": "code",
   "execution_count": 129,
   "id": "indian-package",
   "metadata": {},
   "outputs": [
    {
     "data": {
      "text/plain": [
       "'eng'"
      ]
     },
     "execution_count": 129,
     "metadata": {},
     "output_type": "execute_result"
    }
   ],
   "source": [
    "book_tab.classes['language_code'][8]"
   ]
  },
  {
   "cell_type": "markdown",
   "id": "induced-attachment",
   "metadata": {},
   "source": [
    "Expected facts:\n",
    "- positive linear-like relationship between average_rating and rating.\n",
    "- negative linear-like relationship between ratings_1 and rating.\n",
    "\n",
    "Interesting facts:\n",
    "- Ratings_5 seem to have a negative impact when there are few and a positive one when there are lots (none in between).\n",
    "- volume_number from 2 to 4 linearly decreases rating but more makes it go up a little again.\n",
    "- negative linear-like relationship between ratings_1 and rating.\n",
    "- Positive linear-like relationship between user_id and rating.\n",
    "- The more books, the lower the rating.\n",
    "- Negative linear-like relationship between book_id and rating.\n",
    "- Newer books are get worse rating.\n",
    "- Author seem to increase and then decrease.\n",
    "- ratings_count have an increase on ratings only after a certain threshold.\n",
    "- Genres: Chick Lit, Romance, Young adult, Contemporary, Mystery, Science Fiction decrease more or less the rating.\n",
    "- Genres: Children, History, Classics, Historical Fiction, Fantasy increase rating.\n",
    "- Books in english are better rated."
   ]
  },
  {
   "cell_type": "markdown",
   "id": "independent-demonstration",
   "metadata": {},
   "source": [
    "# What about new book?"
   ]
  },
  {
   "cell_type": "markdown",
   "id": "analyzed-heart",
   "metadata": {},
   "source": [
    "Some columns such as average_rating, ratings_1 etc. seem to be very important.\n",
    "Our model **won't generalize well** to new books (new books won't have many ratings etc.)\n",
    "\n",
    "We will build a new very simple model and general model without ratings, counts, ids or image_url indicator.\n",
    "\n",
    "This simple model will predict the average rating of the book using all genres indicators."
   ]
  },
  {
   "cell_type": "code",
   "execution_count": 134,
   "id": "attached-boulder",
   "metadata": {},
   "outputs": [
    {
     "data": {
      "text/plain": [
       "['authors',\n",
       " 'original_publication_year',\n",
       " 'language_code',\n",
       " 'average_rating',\n",
       " 'series',\n",
       " 'volume_number',\n",
       " 'Art',\n",
       " 'Biography',\n",
       " 'Business',\n",
       " 'Chick Lit',\n",
       " \"Children's\",\n",
       " 'Christian',\n",
       " 'Classics',\n",
       " 'Comics',\n",
       " 'Contemporary',\n",
       " 'Cookbooks',\n",
       " 'Crime',\n",
       " 'Fantasy',\n",
       " 'Fiction',\n",
       " 'Gay and Lesbian',\n",
       " 'Graphic Novels',\n",
       " 'Historical Fiction',\n",
       " 'History',\n",
       " 'Horror',\n",
       " 'Humor and Comedy',\n",
       " 'Manga',\n",
       " 'Memoir',\n",
       " 'Music',\n",
       " 'Mystery',\n",
       " 'Nonfiction',\n",
       " 'Paranormal',\n",
       " 'Philosophy',\n",
       " 'Poetry',\n",
       " 'Psychology',\n",
       " 'Religion',\n",
       " 'Romance',\n",
       " 'Science',\n",
       " 'Science Fiction',\n",
       " 'Self Help',\n",
       " 'Suspense',\n",
       " 'Spirituality',\n",
       " 'Sports',\n",
       " 'Thriller',\n",
       " 'Travel',\n",
       " 'Young Adult']"
      ]
     },
     "execution_count": 134,
     "metadata": {},
     "output_type": "execute_result"
    }
   ],
   "source": [
    "re_rating = re.compile('.*ratings.*')\n",
    "re_count = re.compile('.*count.*')\n",
    "re_id = re.compile('.*(id$|isbn)')\n",
    "re_image = re.compile('.*image_url$')\n",
    "re_title = re.compile('.*title$') # We remove title since we don't extract anything from it (they act like an id)\n",
    "indep_var = [v for v in book_with_genres.columns if not (re_rating.match(v) or re_count.match(v) or re_id.match(v) or re_image.match(v) or re_title.match(v))]\n",
    "indep_var.remove('Ebooks')\n",
    "indep_var"
   ]
  },
  {
   "cell_type": "code",
   "execution_count": 135,
   "id": "other-express",
   "metadata": {},
   "outputs": [],
   "source": [
    "procs = [Categorify, FillMissing]"
   ]
  },
  {
   "cell_type": "code",
   "execution_count": 136,
   "id": "collaborative-grass",
   "metadata": {},
   "outputs": [],
   "source": [
    "dep_var = 'average_rating'"
   ]
  },
  {
   "cell_type": "code",
   "execution_count": 137,
   "id": "rental-destiny",
   "metadata": {},
   "outputs": [],
   "source": [
    "continuous, categorical = cont_cat_split(book_with_genres[indep_var], 2, dep_var=dep_var)"
   ]
  },
  {
   "cell_type": "code",
   "execution_count": 138,
   "id": "another-basement",
   "metadata": {},
   "outputs": [
    {
     "data": {
      "text/plain": [
       "['original_publication_year', 'volume_number']"
      ]
     },
     "execution_count": 138,
     "metadata": {},
     "output_type": "execute_result"
    }
   ],
   "source": [
    "continuous"
   ]
  },
  {
   "cell_type": "code",
   "execution_count": 139,
   "id": "flying-infection",
   "metadata": {},
   "outputs": [
    {
     "data": {
      "text/plain": [
       "['authors',\n",
       " 'language_code',\n",
       " 'series',\n",
       " 'Art',\n",
       " 'Biography',\n",
       " 'Business',\n",
       " 'Chick Lit',\n",
       " \"Children's\",\n",
       " 'Christian',\n",
       " 'Classics',\n",
       " 'Comics',\n",
       " 'Contemporary',\n",
       " 'Cookbooks',\n",
       " 'Crime',\n",
       " 'Fantasy',\n",
       " 'Fiction',\n",
       " 'Gay and Lesbian',\n",
       " 'Graphic Novels',\n",
       " 'Historical Fiction',\n",
       " 'History',\n",
       " 'Horror',\n",
       " 'Humor and Comedy',\n",
       " 'Manga',\n",
       " 'Memoir',\n",
       " 'Music',\n",
       " 'Mystery',\n",
       " 'Nonfiction',\n",
       " 'Paranormal',\n",
       " 'Philosophy',\n",
       " 'Poetry',\n",
       " 'Psychology',\n",
       " 'Religion',\n",
       " 'Romance',\n",
       " 'Science',\n",
       " 'Science Fiction',\n",
       " 'Self Help',\n",
       " 'Suspense',\n",
       " 'Spirituality',\n",
       " 'Sports',\n",
       " 'Thriller',\n",
       " 'Travel',\n",
       " 'Young Adult']"
      ]
     },
     "execution_count": 139,
     "metadata": {},
     "output_type": "execute_result"
    }
   ],
   "source": [
    "categorical"
   ]
  },
  {
   "cell_type": "code",
   "execution_count": 140,
   "id": "daily-accent",
   "metadata": {},
   "outputs": [],
   "source": [
    "msk = np.random.rand(len(book_with_genres)) < 0.8\n",
    "train_idx = np.where(msk)[0]\n",
    "valid_idx = np.where(~msk)[0]\n",
    "splits = (list(train_idx), list(valid_idx))"
   ]
  },
  {
   "cell_type": "code",
   "execution_count": 141,
   "id": "young-interstate",
   "metadata": {},
   "outputs": [],
   "source": [
    "book_avg_tab = TabularPandas(book_with_genres[indep_var], procs, categorical, continuous, y_names=dep_var, splits=splits)"
   ]
  },
  {
   "cell_type": "code",
   "execution_count": 142,
   "id": "impressive-texture",
   "metadata": {},
   "outputs": [
    {
     "data": {
      "text/plain": [
       "(8027, 1973)"
      ]
     },
     "execution_count": 142,
     "metadata": {},
     "output_type": "execute_result"
    }
   ],
   "source": [
    "len(book_avg_tab.train), len(book_avg_tab.valid)"
   ]
  },
  {
   "cell_type": "code",
   "execution_count": 143,
   "id": "public-aircraft",
   "metadata": {},
   "outputs": [],
   "source": [
    "xs = book_avg_tab.train.xs\n",
    "valid_xs = book_avg_tab.valid.xs\n",
    "\n",
    "y = book_avg_tab.train.y\n",
    "valid_y = book_avg_tab.valid.y"
   ]
  },
  {
   "cell_type": "code",
   "execution_count": 144,
   "id": "authentic-lightweight",
   "metadata": {},
   "outputs": [],
   "source": [
    "rf = partial(rf, max_samples = 5000)"
   ]
  },
  {
   "cell_type": "code",
   "execution_count": 145,
   "id": "united-concord",
   "metadata": {},
   "outputs": [
    {
     "data": {
      "text/plain": [
       "(0.04010629758851852, 0.04878769551553803)"
      ]
     },
     "execution_count": 145,
     "metadata": {},
     "output_type": "execute_result"
    }
   ],
   "source": [
    "m = rf(xs, y)\n",
    "m_mse(m, xs, y), m_mse(m, valid_xs, valid_y)"
   ]
  },
  {
   "cell_type": "markdown",
   "id": "bacterial-article",
   "metadata": {},
   "source": [
    "Good MSE !"
   ]
  },
  {
   "cell_type": "markdown",
   "id": "liked-rebound",
   "metadata": {},
   "source": [
    "**Let's see if an image regressor would have any predictive power**"
   ]
  },
  {
   "cell_type": "code",
   "execution_count": 69,
   "id": "primary-experience",
   "metadata": {},
   "outputs": [],
   "source": [
    "from fastai.vision.all import *"
   ]
  },
  {
   "cell_type": "code",
   "execution_count": 70,
   "id": "renewable-services",
   "metadata": {},
   "outputs": [],
   "source": [
    "image_data = book_data[['image_url', 'average_rating']].copy()"
   ]
  },
  {
   "cell_type": "code",
   "execution_count": 71,
   "id": "fancy-rolling",
   "metadata": {},
   "outputs": [],
   "source": [
    "im_dir = Path()/'save/images'\n",
    "im_dir.mkdir(parents=True, exist_ok=True)"
   ]
  },
  {
   "cell_type": "code",
   "execution_count": 72,
   "id": "anticipated-building",
   "metadata": {},
   "outputs": [],
   "source": [
    "image_data['path'] = im_dir.as_posix() + '/' + book_data['title'] + '.jpg'"
   ]
  },
  {
   "cell_type": "code",
   "execution_count": 73,
   "id": "complete-works",
   "metadata": {
    "scrolled": true
   },
   "outputs": [
    {
     "data": {
      "text/html": [
       "<div>\n",
       "<style scoped>\n",
       "    .dataframe tbody tr th:only-of-type {\n",
       "        vertical-align: middle;\n",
       "    }\n",
       "\n",
       "    .dataframe tbody tr th {\n",
       "        vertical-align: top;\n",
       "    }\n",
       "\n",
       "    .dataframe thead th {\n",
       "        text-align: right;\n",
       "    }\n",
       "</style>\n",
       "<table border=\"1\" class=\"dataframe\">\n",
       "  <thead>\n",
       "    <tr style=\"text-align: right;\">\n",
       "      <th></th>\n",
       "      <th>image_url</th>\n",
       "      <th>average_rating</th>\n",
       "      <th>path</th>\n",
       "    </tr>\n",
       "  </thead>\n",
       "  <tbody>\n",
       "    <tr>\n",
       "      <th>0</th>\n",
       "      <td>https://images.gr-assets.com/books/1447303603m/2767052.jpg</td>\n",
       "      <td>4.34</td>\n",
       "      <td>save/images/The Hunger Games (The Hunger Games, #1).jpg</td>\n",
       "    </tr>\n",
       "    <tr>\n",
       "      <th>1</th>\n",
       "      <td>https://images.gr-assets.com/books/1474154022m/3.jpg</td>\n",
       "      <td>4.44</td>\n",
       "      <td>save/images/Harry Potter and the Sorcerer's Stone (Harry Potter, #1).jpg</td>\n",
       "    </tr>\n",
       "    <tr>\n",
       "      <th>2</th>\n",
       "      <td>https://images.gr-assets.com/books/1361039443m/41865.jpg</td>\n",
       "      <td>3.57</td>\n",
       "      <td>save/images/Twilight (Twilight, #1).jpg</td>\n",
       "    </tr>\n",
       "    <tr>\n",
       "      <th>3</th>\n",
       "      <td>https://images.gr-assets.com/books/1361975680m/2657.jpg</td>\n",
       "      <td>4.25</td>\n",
       "      <td>save/images/To Kill a Mockingbird.jpg</td>\n",
       "    </tr>\n",
       "    <tr>\n",
       "      <th>4</th>\n",
       "      <td>https://images.gr-assets.com/books/1490528560m/4671.jpg</td>\n",
       "      <td>3.89</td>\n",
       "      <td>save/images/The Great Gatsby.jpg</td>\n",
       "    </tr>\n",
       "    <tr>\n",
       "      <th>...</th>\n",
       "      <td>...</td>\n",
       "      <td>...</td>\n",
       "      <td>...</td>\n",
       "    </tr>\n",
       "    <tr>\n",
       "      <th>9995</th>\n",
       "      <td>https://images.gr-assets.com/books/1307445460m/7130616.jpg</td>\n",
       "      <td>4.09</td>\n",
       "      <td>save/images/Bayou Moon (The Edge, #2).jpg</td>\n",
       "    </tr>\n",
       "    <tr>\n",
       "      <th>9996</th>\n",
       "      <td>https://s.gr-assets.com/assets/nophoto/book/111x148-bcc042a9c91a29c1d680899eff700a03.png</td>\n",
       "      <td>4.25</td>\n",
       "      <td>save/images/Means of Ascent (The Years of Lyndon Johnson, #2).jpg</td>\n",
       "    </tr>\n",
       "    <tr>\n",
       "      <th>9997</th>\n",
       "      <td>https://images.gr-assets.com/books/1455373531m/77431.jpg</td>\n",
       "      <td>4.35</td>\n",
       "      <td>save/images/The Mauritius Command.jpg</td>\n",
       "    </tr>\n",
       "    <tr>\n",
       "      <th>9998</th>\n",
       "      <td>https://images.gr-assets.com/books/1279214118m/8565083.jpg</td>\n",
       "      <td>3.65</td>\n",
       "      <td>save/images/Cinderella Ate My Daughter: Dispatches from the Frontlines of the New Girlie-Girl Culture.jpg</td>\n",
       "    </tr>\n",
       "    <tr>\n",
       "      <th>9999</th>\n",
       "      <td>https://images.gr-assets.com/books/1403194704m/8914.jpg</td>\n",
       "      <td>4.00</td>\n",
       "      <td>save/images/The First World War.jpg</td>\n",
       "    </tr>\n",
       "  </tbody>\n",
       "</table>\n",
       "<p>10000 rows × 3 columns</p>\n",
       "</div>"
      ],
      "text/plain": [
       "                                                                                     image_url  \\\n",
       "0                                   https://images.gr-assets.com/books/1447303603m/2767052.jpg   \n",
       "1                                         https://images.gr-assets.com/books/1474154022m/3.jpg   \n",
       "2                                     https://images.gr-assets.com/books/1361039443m/41865.jpg   \n",
       "3                                      https://images.gr-assets.com/books/1361975680m/2657.jpg   \n",
       "4                                      https://images.gr-assets.com/books/1490528560m/4671.jpg   \n",
       "...                                                                                        ...   \n",
       "9995                                https://images.gr-assets.com/books/1307445460m/7130616.jpg   \n",
       "9996  https://s.gr-assets.com/assets/nophoto/book/111x148-bcc042a9c91a29c1d680899eff700a03.png   \n",
       "9997                                  https://images.gr-assets.com/books/1455373531m/77431.jpg   \n",
       "9998                                https://images.gr-assets.com/books/1279214118m/8565083.jpg   \n",
       "9999                                   https://images.gr-assets.com/books/1403194704m/8914.jpg   \n",
       "\n",
       "      average_rating  \\\n",
       "0               4.34   \n",
       "1               4.44   \n",
       "2               3.57   \n",
       "3               4.25   \n",
       "4               3.89   \n",
       "...              ...   \n",
       "9995            4.09   \n",
       "9996            4.25   \n",
       "9997            4.35   \n",
       "9998            3.65   \n",
       "9999            4.00   \n",
       "\n",
       "                                                                                                           path  \n",
       "0                                                       save/images/The Hunger Games (The Hunger Games, #1).jpg  \n",
       "1                                      save/images/Harry Potter and the Sorcerer's Stone (Harry Potter, #1).jpg  \n",
       "2                                                                       save/images/Twilight (Twilight, #1).jpg  \n",
       "3                                                                         save/images/To Kill a Mockingbird.jpg  \n",
       "4                                                                              save/images/The Great Gatsby.jpg  \n",
       "...                                                                                                         ...  \n",
       "9995                                                                  save/images/Bayou Moon (The Edge, #2).jpg  \n",
       "9996                                          save/images/Means of Ascent (The Years of Lyndon Johnson, #2).jpg  \n",
       "9997                                                                      save/images/The Mauritius Command.jpg  \n",
       "9998  save/images/Cinderella Ate My Daughter: Dispatches from the Frontlines of the New Girlie-Girl Culture.jpg  \n",
       "9999                                                                        save/images/The First World War.jpg  \n",
       "\n",
       "[10000 rows x 3 columns]"
      ]
     },
     "execution_count": 73,
     "metadata": {},
     "output_type": "execute_result"
    }
   ],
   "source": [
    "image_data"
   ]
  },
  {
   "cell_type": "code",
   "execution_count": 74,
   "id": "genetic-delay",
   "metadata": {},
   "outputs": [],
   "source": [
    "import urllib.request"
   ]
  },
  {
   "cell_type": "code",
   "execution_count": 75,
   "id": "ultimate-biology",
   "metadata": {},
   "outputs": [],
   "source": [
    "def download_images(urls, im_paths):\n",
    "    for url, im_path in zip(urls, im_paths):\n",
    "        try:\n",
    "            urllib.request.urlretrieve(url, filename=f\"{im_path}\")\n",
    "            filename += 1\n",
    "        except Exception as exc:\n",
    "            print(f\"Exception occued while downloading image from url {url}, path: {im_path} -- {str(exc)}\")"
   ]
  },
  {
   "cell_type": "code",
   "execution_count": 76,
   "id": "substantial-dinner",
   "metadata": {},
   "outputs": [],
   "source": [
    "#download_images(image_data.image_url, image_data.path)"
   ]
  },
  {
   "cell_type": "markdown",
   "id": "backed-breath",
   "metadata": {},
   "source": [
    "Some variables seem to indicate pretty much the same thing, such as ids, title and original_title, images etc.\n",
    "We will try to remove redundant features."
   ]
  },
  {
   "cell_type": "code",
   "execution_count": 77,
   "id": "entire-portsmouth",
   "metadata": {},
   "outputs": [],
   "source": [
    "def cluster_columns(df, figsize=(10,6), font_size=12):\n",
    "    corr = np.round(scipy.stats.spearmanr(df).correlation, 4)\n",
    "    corr_condensed = hc.distance.squareform(1-corr)\n",
    "    z = hc.linkage(corr_condensed, method='average')\n",
    "    fig = plt.figure(figsize=figsize)\n",
    "    hc.dendrogram(z, labels=df.columns, orientation='left', leaf_font_size=font_size)\n",
    "    plt.show()"
   ]
  }
 ],
 "metadata": {
  "kernelspec": {
   "display_name": "Python [conda env:fastai] *",
   "language": "python",
   "name": "conda-env-fastai-py"
  },
  "language_info": {
   "codemirror_mode": {
    "name": "ipython",
    "version": 3
   },
   "file_extension": ".py",
   "mimetype": "text/x-python",
   "name": "python",
   "nbconvert_exporter": "python",
   "pygments_lexer": "ipython3",
   "version": "3.8.8"
  }
 },
 "nbformat": 4,
 "nbformat_minor": 5
}

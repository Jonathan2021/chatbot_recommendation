{
 "cells": [
  {
   "cell_type": "markdown",
   "id": "superb-argentina",
   "metadata": {},
   "source": [
    "# Dataset"
   ]
  },
  {
   "cell_type": "markdown",
   "id": "attractive-coating",
   "metadata": {},
   "source": [
    "**goodbooks-10**: https://github.com/zygmuntz/goodbooks-10k"
   ]
  },
  {
   "cell_type": "markdown",
   "id": "numerous-friendly",
   "metadata": {},
   "source": [
    "# Getting the data"
   ]
  },
  {
   "cell_type": "code",
   "execution_count": 1,
   "id": "heavy-stick",
   "metadata": {},
   "outputs": [],
   "source": [
    "#!wget \"https://github.com/zygmuntz/goodbooks-10k/releases/download/v1.0/goodbooks-10k.zip\" -O goodbooks-10k.zip\n",
    "#!unzip goodbooks-10k.zip\n",
    "#!rm goodbooks-10k.zip"
   ]
  },
  {
   "cell_type": "markdown",
   "id": "supported-dispute",
   "metadata": {},
   "source": [
    "## Store it into Pandas dataframe"
   ]
  },
  {
   "cell_type": "code",
   "execution_count": 20,
   "id": "alive-tobacco",
   "metadata": {},
   "outputs": [
    {
     "data": {
      "text/html": [
       "<style type='text/css'>\n",
       ".datatable table.frame { margin-bottom: 0; }\n",
       ".datatable table.frame thead { border-bottom: none; }\n",
       ".datatable table.frame tr.coltypes td {  color: #FFFFFF;  line-height: 6px;  padding: 0 0.5em;}\n",
       ".datatable .bool    { background: #DDDD99; }\n",
       ".datatable .object  { background: #565656; }\n",
       ".datatable .int     { background: #5D9E5D; }\n",
       ".datatable .float   { background: #4040CC; }\n",
       ".datatable .str     { background: #CC4040; }\n",
       ".datatable .row_index {  background: var(--jp-border-color3);  border-right: 1px solid var(--jp-border-color0);  color: var(--jp-ui-font-color3);  font-size: 9px;}\n",
       ".datatable .frame tr.coltypes .row_index {  background: var(--jp-border-color0);}\n",
       ".datatable th:nth-child(2) { padding-left: 12px; }\n",
       ".datatable .hellipsis {  color: var(--jp-cell-editor-border-color);}\n",
       ".datatable .vellipsis {  background: var(--jp-layout-color0);  color: var(--jp-cell-editor-border-color);}\n",
       ".datatable .na {  color: var(--jp-cell-editor-border-color);  font-size: 80%;}\n",
       ".datatable .footer { font-size: 9px; }\n",
       ".datatable .frame_dimensions {  background: var(--jp-border-color3);  border-top: 1px solid var(--jp-border-color0);  color: var(--jp-ui-font-color3);  display: inline-block;  opacity: 0.6;  padding: 1px 10px 1px 5px;}\n",
       "</style>\n"
      ],
      "text/plain": [
       "<IPython.core.display.HTML object>"
      ]
     },
     "metadata": {},
     "output_type": "display_data"
    }
   ],
   "source": [
    "import datatable as dt"
   ]
  },
  {
   "cell_type": "code",
   "execution_count": 21,
   "id": "alpine-victorian",
   "metadata": {},
   "outputs": [
    {
     "name": "stdout",
     "output_type": "stream",
     "text": [
      "CPU times: user 1.24 s, sys: 236 ms, total: 1.47 s\n",
      "Wall time: 2.3 s\n"
     ]
    }
   ],
   "source": [
    "%%time\n",
    "\n",
    "book_data = dt.fread(\"books.csv\").to_pandas()\n",
    "ratings_data = dt.fread(\"ratings.csv\").to_pandas()\n",
    "booktags_data = dt.fread(\"book_tags.csv\").to_pandas()\n",
    "tags_data= dt.fread(\"tags.csv\").to_pandas()\n",
    "toread_data = dt.fread(\"to_read.csv\").to_pandas()"
   ]
  },
  {
   "cell_type": "markdown",
   "id": "minor-journey",
   "metadata": {},
   "source": [
    "# Taking a peek"
   ]
  },
  {
   "cell_type": "code",
   "execution_count": 3,
   "id": "sixth-equilibrium",
   "metadata": {},
   "outputs": [
    {
     "data": {
      "text/html": [
       "<div>\n",
       "<style scoped>\n",
       "    .dataframe tbody tr th:only-of-type {\n",
       "        vertical-align: middle;\n",
       "    }\n",
       "\n",
       "    .dataframe tbody tr th {\n",
       "        vertical-align: top;\n",
       "    }\n",
       "\n",
       "    .dataframe thead th {\n",
       "        text-align: right;\n",
       "    }\n",
       "</style>\n",
       "<table border=\"1\" class=\"dataframe\">\n",
       "  <thead>\n",
       "    <tr style=\"text-align: right;\">\n",
       "      <th></th>\n",
       "      <th>book_id</th>\n",
       "      <th>goodreads_book_id</th>\n",
       "      <th>best_book_id</th>\n",
       "      <th>work_id</th>\n",
       "      <th>books_count</th>\n",
       "      <th>isbn</th>\n",
       "      <th>isbn13</th>\n",
       "      <th>authors</th>\n",
       "      <th>original_publication_year</th>\n",
       "      <th>original_title</th>\n",
       "      <th>...</th>\n",
       "      <th>ratings_count</th>\n",
       "      <th>work_ratings_count</th>\n",
       "      <th>work_text_reviews_count</th>\n",
       "      <th>ratings_1</th>\n",
       "      <th>ratings_2</th>\n",
       "      <th>ratings_3</th>\n",
       "      <th>ratings_4</th>\n",
       "      <th>ratings_5</th>\n",
       "      <th>image_url</th>\n",
       "      <th>small_image_url</th>\n",
       "    </tr>\n",
       "  </thead>\n",
       "  <tbody>\n",
       "    <tr>\n",
       "      <th>0</th>\n",
       "      <td>1</td>\n",
       "      <td>2767052</td>\n",
       "      <td>2767052</td>\n",
       "      <td>2792775</td>\n",
       "      <td>272</td>\n",
       "      <td>439023483</td>\n",
       "      <td>9.780439e+12</td>\n",
       "      <td>Suzanne Collins</td>\n",
       "      <td>2008.0</td>\n",
       "      <td>The Hunger Games</td>\n",
       "      <td>...</td>\n",
       "      <td>4780653</td>\n",
       "      <td>4942365</td>\n",
       "      <td>155254</td>\n",
       "      <td>66715</td>\n",
       "      <td>127936</td>\n",
       "      <td>560092</td>\n",
       "      <td>1481305</td>\n",
       "      <td>2706317</td>\n",
       "      <td>https://images.gr-assets.com/books/1447303603m...</td>\n",
       "      <td>https://images.gr-assets.com/books/1447303603s...</td>\n",
       "    </tr>\n",
       "    <tr>\n",
       "      <th>1</th>\n",
       "      <td>2</td>\n",
       "      <td>3</td>\n",
       "      <td>3</td>\n",
       "      <td>4640799</td>\n",
       "      <td>491</td>\n",
       "      <td>439554934</td>\n",
       "      <td>9.780440e+12</td>\n",
       "      <td>J.K. Rowling, Mary GrandPré</td>\n",
       "      <td>1997.0</td>\n",
       "      <td>Harry Potter and the Philosopher's Stone</td>\n",
       "      <td>...</td>\n",
       "      <td>4602479</td>\n",
       "      <td>4800065</td>\n",
       "      <td>75867</td>\n",
       "      <td>75504</td>\n",
       "      <td>101676</td>\n",
       "      <td>455024</td>\n",
       "      <td>1156318</td>\n",
       "      <td>3011543</td>\n",
       "      <td>https://images.gr-assets.com/books/1474154022m...</td>\n",
       "      <td>https://images.gr-assets.com/books/1474154022s...</td>\n",
       "    </tr>\n",
       "    <tr>\n",
       "      <th>2</th>\n",
       "      <td>3</td>\n",
       "      <td>41865</td>\n",
       "      <td>41865</td>\n",
       "      <td>3212258</td>\n",
       "      <td>226</td>\n",
       "      <td>316015849</td>\n",
       "      <td>9.780316e+12</td>\n",
       "      <td>Stephenie Meyer</td>\n",
       "      <td>2005.0</td>\n",
       "      <td>Twilight</td>\n",
       "      <td>...</td>\n",
       "      <td>3866839</td>\n",
       "      <td>3916824</td>\n",
       "      <td>95009</td>\n",
       "      <td>456191</td>\n",
       "      <td>436802</td>\n",
       "      <td>793319</td>\n",
       "      <td>875073</td>\n",
       "      <td>1355439</td>\n",
       "      <td>https://images.gr-assets.com/books/1361039443m...</td>\n",
       "      <td>https://images.gr-assets.com/books/1361039443s...</td>\n",
       "    </tr>\n",
       "    <tr>\n",
       "      <th>3</th>\n",
       "      <td>4</td>\n",
       "      <td>2657</td>\n",
       "      <td>2657</td>\n",
       "      <td>3275794</td>\n",
       "      <td>487</td>\n",
       "      <td>61120081</td>\n",
       "      <td>9.780061e+12</td>\n",
       "      <td>Harper Lee</td>\n",
       "      <td>1960.0</td>\n",
       "      <td>To Kill a Mockingbird</td>\n",
       "      <td>...</td>\n",
       "      <td>3198671</td>\n",
       "      <td>3340896</td>\n",
       "      <td>72586</td>\n",
       "      <td>60427</td>\n",
       "      <td>117415</td>\n",
       "      <td>446835</td>\n",
       "      <td>1001952</td>\n",
       "      <td>1714267</td>\n",
       "      <td>https://images.gr-assets.com/books/1361975680m...</td>\n",
       "      <td>https://images.gr-assets.com/books/1361975680s...</td>\n",
       "    </tr>\n",
       "    <tr>\n",
       "      <th>4</th>\n",
       "      <td>5</td>\n",
       "      <td>4671</td>\n",
       "      <td>4671</td>\n",
       "      <td>245494</td>\n",
       "      <td>1356</td>\n",
       "      <td>743273567</td>\n",
       "      <td>9.780743e+12</td>\n",
       "      <td>F. Scott Fitzgerald</td>\n",
       "      <td>1925.0</td>\n",
       "      <td>The Great Gatsby</td>\n",
       "      <td>...</td>\n",
       "      <td>2683664</td>\n",
       "      <td>2773745</td>\n",
       "      <td>51992</td>\n",
       "      <td>86236</td>\n",
       "      <td>197621</td>\n",
       "      <td>606158</td>\n",
       "      <td>936012</td>\n",
       "      <td>947718</td>\n",
       "      <td>https://images.gr-assets.com/books/1490528560m...</td>\n",
       "      <td>https://images.gr-assets.com/books/1490528560s...</td>\n",
       "    </tr>\n",
       "  </tbody>\n",
       "</table>\n",
       "<p>5 rows × 23 columns</p>\n",
       "</div>"
      ],
      "text/plain": [
       "   book_id  goodreads_book_id  best_book_id  work_id  books_count       isbn  \\\n",
       "0        1            2767052       2767052  2792775          272  439023483   \n",
       "1        2                  3             3  4640799          491  439554934   \n",
       "2        3              41865         41865  3212258          226  316015849   \n",
       "3        4               2657          2657  3275794          487   61120081   \n",
       "4        5               4671          4671   245494         1356  743273567   \n",
       "\n",
       "         isbn13                      authors  original_publication_year  \\\n",
       "0  9.780439e+12              Suzanne Collins                     2008.0   \n",
       "1  9.780440e+12  J.K. Rowling, Mary GrandPré                     1997.0   \n",
       "2  9.780316e+12              Stephenie Meyer                     2005.0   \n",
       "3  9.780061e+12                   Harper Lee                     1960.0   \n",
       "4  9.780743e+12          F. Scott Fitzgerald                     1925.0   \n",
       "\n",
       "                             original_title  ... ratings_count  \\\n",
       "0                          The Hunger Games  ...       4780653   \n",
       "1  Harry Potter and the Philosopher's Stone  ...       4602479   \n",
       "2                                  Twilight  ...       3866839   \n",
       "3                     To Kill a Mockingbird  ...       3198671   \n",
       "4                          The Great Gatsby  ...       2683664   \n",
       "\n",
       "  work_ratings_count  work_text_reviews_count  ratings_1  ratings_2  \\\n",
       "0            4942365                   155254      66715     127936   \n",
       "1            4800065                    75867      75504     101676   \n",
       "2            3916824                    95009     456191     436802   \n",
       "3            3340896                    72586      60427     117415   \n",
       "4            2773745                    51992      86236     197621   \n",
       "\n",
       "   ratings_3  ratings_4  ratings_5  \\\n",
       "0     560092    1481305    2706317   \n",
       "1     455024    1156318    3011543   \n",
       "2     793319     875073    1355439   \n",
       "3     446835    1001952    1714267   \n",
       "4     606158     936012     947718   \n",
       "\n",
       "                                           image_url  \\\n",
       "0  https://images.gr-assets.com/books/1447303603m...   \n",
       "1  https://images.gr-assets.com/books/1474154022m...   \n",
       "2  https://images.gr-assets.com/books/1361039443m...   \n",
       "3  https://images.gr-assets.com/books/1361975680m...   \n",
       "4  https://images.gr-assets.com/books/1490528560m...   \n",
       "\n",
       "                                     small_image_url  \n",
       "0  https://images.gr-assets.com/books/1447303603s...  \n",
       "1  https://images.gr-assets.com/books/1474154022s...  \n",
       "2  https://images.gr-assets.com/books/1361039443s...  \n",
       "3  https://images.gr-assets.com/books/1361975680s...  \n",
       "4  https://images.gr-assets.com/books/1490528560s...  \n",
       "\n",
       "[5 rows x 23 columns]"
      ]
     },
     "execution_count": 3,
     "metadata": {},
     "output_type": "execute_result"
    }
   ],
   "source": [
    "book_data.head()"
   ]
  },
  {
   "cell_type": "code",
   "execution_count": 4,
   "id": "million-carol",
   "metadata": {},
   "outputs": [
    {
     "data": {
      "text/plain": [
       "Index(['book_id', 'goodreads_book_id', 'best_book_id', 'work_id',\n",
       "       'books_count', 'isbn', 'isbn13', 'authors', 'original_publication_year',\n",
       "       'original_title', 'title', 'language_code', 'average_rating',\n",
       "       'ratings_count', 'work_ratings_count', 'work_text_reviews_count',\n",
       "       'ratings_1', 'ratings_2', 'ratings_3', 'ratings_4', 'ratings_5',\n",
       "       'image_url', 'small_image_url'],\n",
       "      dtype='object')"
      ]
     },
     "execution_count": 4,
     "metadata": {},
     "output_type": "execute_result"
    }
   ],
   "source": [
    "book_data.columns"
   ]
  },
  {
   "cell_type": "code",
   "execution_count": 5,
   "id": "theoretical-tension",
   "metadata": {},
   "outputs": [
    {
     "data": {
      "text/plain": [
       "(10000, 23)"
      ]
     },
     "execution_count": 5,
     "metadata": {},
     "output_type": "execute_result"
    }
   ],
   "source": [
    "book_data.shape"
   ]
  },
  {
   "cell_type": "markdown",
   "id": "conditional-smell",
   "metadata": {},
   "source": [
    "**Meta data about the 10k books**\n",
    "We have a bunch of ids, author / title / publication year, rating info, images."
   ]
  },
  {
   "cell_type": "code",
   "execution_count": 6,
   "id": "stuffed-mongolia",
   "metadata": {},
   "outputs": [
    {
     "data": {
      "text/html": [
       "<div>\n",
       "<style scoped>\n",
       "    .dataframe tbody tr th:only-of-type {\n",
       "        vertical-align: middle;\n",
       "    }\n",
       "\n",
       "    .dataframe tbody tr th {\n",
       "        vertical-align: top;\n",
       "    }\n",
       "\n",
       "    .dataframe thead th {\n",
       "        text-align: right;\n",
       "    }\n",
       "</style>\n",
       "<table border=\"1\" class=\"dataframe\">\n",
       "  <thead>\n",
       "    <tr style=\"text-align: right;\">\n",
       "      <th></th>\n",
       "      <th>user_id</th>\n",
       "      <th>book_id</th>\n",
       "      <th>rating</th>\n",
       "    </tr>\n",
       "  </thead>\n",
       "  <tbody>\n",
       "    <tr>\n",
       "      <th>0</th>\n",
       "      <td>1</td>\n",
       "      <td>258</td>\n",
       "      <td>5</td>\n",
       "    </tr>\n",
       "    <tr>\n",
       "      <th>1</th>\n",
       "      <td>2</td>\n",
       "      <td>4081</td>\n",
       "      <td>4</td>\n",
       "    </tr>\n",
       "    <tr>\n",
       "      <th>2</th>\n",
       "      <td>2</td>\n",
       "      <td>260</td>\n",
       "      <td>5</td>\n",
       "    </tr>\n",
       "    <tr>\n",
       "      <th>3</th>\n",
       "      <td>2</td>\n",
       "      <td>9296</td>\n",
       "      <td>5</td>\n",
       "    </tr>\n",
       "    <tr>\n",
       "      <th>4</th>\n",
       "      <td>2</td>\n",
       "      <td>2318</td>\n",
       "      <td>3</td>\n",
       "    </tr>\n",
       "  </tbody>\n",
       "</table>\n",
       "</div>"
      ],
      "text/plain": [
       "   user_id  book_id  rating\n",
       "0        1      258       5\n",
       "1        2     4081       4\n",
       "2        2      260       5\n",
       "3        2     9296       5\n",
       "4        2     2318       3"
      ]
     },
     "execution_count": 6,
     "metadata": {},
     "output_type": "execute_result"
    }
   ],
   "source": [
    "ratings_data.head()"
   ]
  },
  {
   "cell_type": "code",
   "execution_count": 7,
   "id": "social-extent",
   "metadata": {},
   "outputs": [
    {
     "data": {
      "text/plain": [
       "array([5, 4, 3, 2, 1], dtype=int32)"
      ]
     },
     "execution_count": 7,
     "metadata": {},
     "output_type": "execute_result"
    }
   ],
   "source": [
    "ratings_data.rating.unique()"
   ]
  },
  {
   "cell_type": "code",
   "execution_count": 8,
   "id": "fiscal-option",
   "metadata": {},
   "outputs": [
    {
     "data": {
      "text/plain": [
       "0"
      ]
     },
     "execution_count": 8,
     "metadata": {},
     "output_type": "execute_result"
    }
   ],
   "source": [
    "ratings_data.duplicated().sum()"
   ]
  },
  {
   "cell_type": "code",
   "execution_count": 9,
   "id": "critical-bubble",
   "metadata": {},
   "outputs": [
    {
     "data": {
      "text/plain": [
       "(5976479, 3)"
      ]
     },
     "execution_count": 9,
     "metadata": {},
     "output_type": "execute_result"
    }
   ],
   "source": [
    "ratings_data.shape"
   ]
  },
  {
   "cell_type": "markdown",
   "id": "annoying-chamber",
   "metadata": {},
   "source": [
    "Classic user / item / rating table. Only integers. No rating of 0. Nearly 6M entries."
   ]
  },
  {
   "cell_type": "code",
   "execution_count": 10,
   "id": "raised-miller",
   "metadata": {},
   "outputs": [
    {
     "data": {
      "text/html": [
       "<div>\n",
       "<style scoped>\n",
       "    .dataframe tbody tr th:only-of-type {\n",
       "        vertical-align: middle;\n",
       "    }\n",
       "\n",
       "    .dataframe tbody tr th {\n",
       "        vertical-align: top;\n",
       "    }\n",
       "\n",
       "    .dataframe thead th {\n",
       "        text-align: right;\n",
       "    }\n",
       "</style>\n",
       "<table border=\"1\" class=\"dataframe\">\n",
       "  <thead>\n",
       "    <tr style=\"text-align: right;\">\n",
       "      <th></th>\n",
       "      <th>tag_id</th>\n",
       "      <th>tag_name</th>\n",
       "    </tr>\n",
       "  </thead>\n",
       "  <tbody>\n",
       "    <tr>\n",
       "      <th>0</th>\n",
       "      <td>0</td>\n",
       "      <td>-</td>\n",
       "    </tr>\n",
       "    <tr>\n",
       "      <th>1</th>\n",
       "      <td>1</td>\n",
       "      <td>--1-</td>\n",
       "    </tr>\n",
       "    <tr>\n",
       "      <th>2</th>\n",
       "      <td>2</td>\n",
       "      <td>--10-</td>\n",
       "    </tr>\n",
       "    <tr>\n",
       "      <th>3</th>\n",
       "      <td>3</td>\n",
       "      <td>--12-</td>\n",
       "    </tr>\n",
       "    <tr>\n",
       "      <th>4</th>\n",
       "      <td>4</td>\n",
       "      <td>--122-</td>\n",
       "    </tr>\n",
       "  </tbody>\n",
       "</table>\n",
       "</div>"
      ],
      "text/plain": [
       "   tag_id tag_name\n",
       "0       0        -\n",
       "1       1     --1-\n",
       "2       2    --10-\n",
       "3       3    --12-\n",
       "4       4   --122-"
      ]
     },
     "execution_count": 10,
     "metadata": {},
     "output_type": "execute_result"
    }
   ],
   "source": [
    "tags_data.head()"
   ]
  },
  {
   "cell_type": "code",
   "execution_count": 11,
   "id": "enabling-turtle",
   "metadata": {},
   "outputs": [
    {
     "data": {
      "text/plain": [
       "(34252, 2)"
      ]
     },
     "execution_count": 11,
     "metadata": {},
     "output_type": "execute_result"
    }
   ],
   "source": [
    "tags_data.shape"
   ]
  },
  {
   "cell_type": "markdown",
   "id": "peaceful-brake",
   "metadata": {},
   "source": [
    "Some tags, not to sure what this corresponds to yet."
   ]
  },
  {
   "cell_type": "code",
   "execution_count": 12,
   "id": "timely-crack",
   "metadata": {},
   "outputs": [
    {
     "data": {
      "text/html": [
       "<div>\n",
       "<style scoped>\n",
       "    .dataframe tbody tr th:only-of-type {\n",
       "        vertical-align: middle;\n",
       "    }\n",
       "\n",
       "    .dataframe tbody tr th {\n",
       "        vertical-align: top;\n",
       "    }\n",
       "\n",
       "    .dataframe thead th {\n",
       "        text-align: right;\n",
       "    }\n",
       "</style>\n",
       "<table border=\"1\" class=\"dataframe\">\n",
       "  <thead>\n",
       "    <tr style=\"text-align: right;\">\n",
       "      <th></th>\n",
       "      <th>goodreads_book_id</th>\n",
       "      <th>tag_id</th>\n",
       "      <th>count</th>\n",
       "    </tr>\n",
       "  </thead>\n",
       "  <tbody>\n",
       "    <tr>\n",
       "      <th>0</th>\n",
       "      <td>1</td>\n",
       "      <td>30574</td>\n",
       "      <td>167697</td>\n",
       "    </tr>\n",
       "    <tr>\n",
       "      <th>1</th>\n",
       "      <td>1</td>\n",
       "      <td>11305</td>\n",
       "      <td>37174</td>\n",
       "    </tr>\n",
       "    <tr>\n",
       "      <th>2</th>\n",
       "      <td>1</td>\n",
       "      <td>11557</td>\n",
       "      <td>34173</td>\n",
       "    </tr>\n",
       "    <tr>\n",
       "      <th>3</th>\n",
       "      <td>1</td>\n",
       "      <td>8717</td>\n",
       "      <td>12986</td>\n",
       "    </tr>\n",
       "    <tr>\n",
       "      <th>4</th>\n",
       "      <td>1</td>\n",
       "      <td>33114</td>\n",
       "      <td>12716</td>\n",
       "    </tr>\n",
       "  </tbody>\n",
       "</table>\n",
       "</div>"
      ],
      "text/plain": [
       "   goodreads_book_id  tag_id   count\n",
       "0                  1   30574  167697\n",
       "1                  1   11305   37174\n",
       "2                  1   11557   34173\n",
       "3                  1    8717   12986\n",
       "4                  1   33114   12716"
      ]
     },
     "execution_count": 12,
     "metadata": {},
     "output_type": "execute_result"
    }
   ],
   "source": [
    "booktags_data.head()"
   ]
  },
  {
   "cell_type": "code",
   "execution_count": 13,
   "id": "anticipated-arrest",
   "metadata": {},
   "outputs": [
    {
     "data": {
      "text/plain": [
       "(999912, 3)"
      ]
     },
     "execution_count": 13,
     "metadata": {},
     "output_type": "execute_result"
    }
   ],
   "source": [
    "booktags_data.shape"
   ]
  },
  {
   "cell_type": "markdown",
   "id": "attached-serum",
   "metadata": {},
   "source": [
    "The count of each tag for each book."
   ]
  },
  {
   "cell_type": "code",
   "execution_count": 14,
   "id": "listed-matter",
   "metadata": {},
   "outputs": [
    {
     "data": {
      "text/html": [
       "<div>\n",
       "<style scoped>\n",
       "    .dataframe tbody tr th:only-of-type {\n",
       "        vertical-align: middle;\n",
       "    }\n",
       "\n",
       "    .dataframe tbody tr th {\n",
       "        vertical-align: top;\n",
       "    }\n",
       "\n",
       "    .dataframe thead th {\n",
       "        text-align: right;\n",
       "    }\n",
       "</style>\n",
       "<table border=\"1\" class=\"dataframe\">\n",
       "  <thead>\n",
       "    <tr style=\"text-align: right;\">\n",
       "      <th></th>\n",
       "      <th>user_id</th>\n",
       "      <th>book_id</th>\n",
       "    </tr>\n",
       "  </thead>\n",
       "  <tbody>\n",
       "    <tr>\n",
       "      <th>0</th>\n",
       "      <td>9</td>\n",
       "      <td>8</td>\n",
       "    </tr>\n",
       "    <tr>\n",
       "      <th>1</th>\n",
       "      <td>15</td>\n",
       "      <td>398</td>\n",
       "    </tr>\n",
       "    <tr>\n",
       "      <th>2</th>\n",
       "      <td>15</td>\n",
       "      <td>275</td>\n",
       "    </tr>\n",
       "    <tr>\n",
       "      <th>3</th>\n",
       "      <td>37</td>\n",
       "      <td>7173</td>\n",
       "    </tr>\n",
       "    <tr>\n",
       "      <th>4</th>\n",
       "      <td>34</td>\n",
       "      <td>380</td>\n",
       "    </tr>\n",
       "  </tbody>\n",
       "</table>\n",
       "</div>"
      ],
      "text/plain": [
       "   user_id  book_id\n",
       "0        9        8\n",
       "1       15      398\n",
       "2       15      275\n",
       "3       37     7173\n",
       "4       34      380"
      ]
     },
     "execution_count": 14,
     "metadata": {},
     "output_type": "execute_result"
    }
   ],
   "source": [
    "toread_data.head()"
   ]
  },
  {
   "cell_type": "code",
   "execution_count": 15,
   "id": "radio-tanzania",
   "metadata": {},
   "outputs": [
    {
     "data": {
      "text/plain": [
       "(912705, 2)"
      ]
     },
     "execution_count": 15,
     "metadata": {},
     "output_type": "execute_result"
    }
   ],
   "source": [
    "toread_data.shape"
   ]
  },
  {
   "cell_type": "markdown",
   "id": "norman-bhutan",
   "metadata": {},
   "source": [
    "User / book where book is in the \"to read\" list of the user. (Not really useful recommending it)"
   ]
  },
  {
   "cell_type": "markdown",
   "id": "sexual-drain",
   "metadata": {},
   "source": [
    "#  Collaborative filtering baseline"
   ]
  },
  {
   "cell_type": "code",
   "execution_count": 38,
   "id": "mineral-reform",
   "metadata": {},
   "outputs": [],
   "source": [
    "from fastai.collab import *"
   ]
  },
  {
   "cell_type": "markdown",
   "id": "friendly-speaking",
   "metadata": {},
   "source": [
    "Creating dataloaders with 20% kept out for validation set. Batch size of 64."
   ]
  },
  {
   "cell_type": "code",
   "execution_count": 41,
   "id": "decreased-environment",
   "metadata": {},
   "outputs": [
    {
     "data": {
      "text/html": [
       "<table border=\"1\" class=\"dataframe\">\n",
       "  <thead>\n",
       "    <tr style=\"text-align: right;\">\n",
       "      <th></th>\n",
       "      <th>user_id</th>\n",
       "      <th>book_id</th>\n",
       "      <th>rating</th>\n",
       "    </tr>\n",
       "  </thead>\n",
       "  <tbody>\n",
       "    <tr>\n",
       "      <th>0</th>\n",
       "      <td>20894</td>\n",
       "      <td>31</td>\n",
       "      <td>5</td>\n",
       "    </tr>\n",
       "    <tr>\n",
       "      <th>1</th>\n",
       "      <td>37221</td>\n",
       "      <td>301</td>\n",
       "      <td>5</td>\n",
       "    </tr>\n",
       "    <tr>\n",
       "      <th>2</th>\n",
       "      <td>23464</td>\n",
       "      <td>5612</td>\n",
       "      <td>5</td>\n",
       "    </tr>\n",
       "    <tr>\n",
       "      <th>3</th>\n",
       "      <td>34093</td>\n",
       "      <td>186</td>\n",
       "      <td>5</td>\n",
       "    </tr>\n",
       "    <tr>\n",
       "      <th>4</th>\n",
       "      <td>50015</td>\n",
       "      <td>1457</td>\n",
       "      <td>5</td>\n",
       "    </tr>\n",
       "    <tr>\n",
       "      <th>5</th>\n",
       "      <td>38793</td>\n",
       "      <td>4448</td>\n",
       "      <td>5</td>\n",
       "    </tr>\n",
       "    <tr>\n",
       "      <th>6</th>\n",
       "      <td>44166</td>\n",
       "      <td>2578</td>\n",
       "      <td>3</td>\n",
       "    </tr>\n",
       "    <tr>\n",
       "      <th>7</th>\n",
       "      <td>13153</td>\n",
       "      <td>1714</td>\n",
       "      <td>4</td>\n",
       "    </tr>\n",
       "    <tr>\n",
       "      <th>8</th>\n",
       "      <td>3164</td>\n",
       "      <td>6601</td>\n",
       "      <td>3</td>\n",
       "    </tr>\n",
       "    <tr>\n",
       "      <th>9</th>\n",
       "      <td>4628</td>\n",
       "      <td>503</td>\n",
       "      <td>3</td>\n",
       "    </tr>\n",
       "  </tbody>\n",
       "</table>"
      ],
      "text/plain": [
       "<IPython.core.display.HTML object>"
      ]
     },
     "metadata": {},
     "output_type": "display_data"
    }
   ],
   "source": [
    "dls = CollabDataLoaders.from_df(ratings_data, user_name=\"user_id\", item_name=\"book_id\")\n",
    "dls.show_batch()"
   ]
  },
  {
   "cell_type": "markdown",
   "id": "painful-trading",
   "metadata": {},
   "source": [
    "Collaborative filtering with 50 latent factors for users and books."
   ]
  },
  {
   "cell_type": "code",
   "execution_count": 42,
   "id": "brave-clearance",
   "metadata": {},
   "outputs": [],
   "source": [
    "learn = collab_learner(dls, n_factors=50, y_range=(-0.5, 5.5))"
   ]
  },
  {
   "cell_type": "code",
   "execution_count": 43,
   "id": "junior-bulletin",
   "metadata": {},
   "outputs": [
    {
     "data": {
      "text/html": [],
      "text/plain": [
       "<IPython.core.display.HTML object>"
      ]
     },
     "metadata": {},
     "output_type": "display_data"
    },
    {
     "data": {
      "text/plain": [
       "SuggestedLRs(lr_min=0.2290867567062378, lr_steep=1.0964781722577754e-06)"
      ]
     },
     "execution_count": 43,
     "metadata": {},
     "output_type": "execute_result"
    },
    {
     "data": {
      "image/png": "[encoded data removed]",
      "text/plain": [
       "<Figure size 432x288 with 1 Axes>"
      ]
     },
     "metadata": {
      "needs_background": "light"
     },
     "output_type": "display_data"
    }
   ],
   "source": [
    "learn.lr_find()"
   ]
  },
  {
   "cell_type": "code",
   "execution_count": 44,
   "id": "viral-reasoning",
   "metadata": {},
   "outputs": [
    {
     "data": {
      "text/html": [
       "<table border=\"1\" class=\"dataframe\">\n",
       "  <thead>\n",
       "    <tr style=\"text-align: left;\">\n",
       "      <th>epoch</th>\n",
       "      <th>train_loss</th>\n",
       "      <th>valid_loss</th>\n",
       "      <th>time</th>\n",
       "    </tr>\n",
       "  </thead>\n",
       "  <tbody>\n",
       "    <tr>\n",
       "      <td>0</td>\n",
       "      <td>2.919586</td>\n",
       "      <td>2.970437</td>\n",
       "      <td>06:46</td>\n",
       "    </tr>\n",
       "    <tr>\n",
       "      <td>1</td>\n",
       "      <td>2.870926</td>\n",
       "      <td>2.860732</td>\n",
       "      <td>06:46</td>\n",
       "    </tr>\n",
       "    <tr>\n",
       "      <td>2</td>\n",
       "      <td>2.644171</td>\n",
       "      <td>2.666812</td>\n",
       "      <td>06:46</td>\n",
       "    </tr>\n",
       "    <tr>\n",
       "      <td>3</td>\n",
       "      <td>2.465414</td>\n",
       "      <td>2.456990</td>\n",
       "      <td>06:47</td>\n",
       "    </tr>\n",
       "    <tr>\n",
       "      <td>4</td>\n",
       "      <td>2.281298</td>\n",
       "      <td>2.276168</td>\n",
       "      <td>06:46</td>\n",
       "    </tr>\n",
       "    <tr>\n",
       "      <td>5</td>\n",
       "      <td>2.114491</td>\n",
       "      <td>2.117193</td>\n",
       "      <td>06:48</td>\n",
       "    </tr>\n",
       "    <tr>\n",
       "      <td>6</td>\n",
       "      <td>1.965708</td>\n",
       "      <td>1.978764</td>\n",
       "      <td>06:47</td>\n",
       "    </tr>\n",
       "    <tr>\n",
       "      <td>7</td>\n",
       "      <td>1.873374</td>\n",
       "      <td>1.865566</td>\n",
       "      <td>06:49</td>\n",
       "    </tr>\n",
       "    <tr>\n",
       "      <td>8</td>\n",
       "      <td>1.746938</td>\n",
       "      <td>1.779134</td>\n",
       "      <td>06:48</td>\n",
       "    </tr>\n",
       "    <tr>\n",
       "      <td>9</td>\n",
       "      <td>1.699808</td>\n",
       "      <td>1.716790</td>\n",
       "      <td>06:46</td>\n",
       "    </tr>\n",
       "    <tr>\n",
       "      <td>10</td>\n",
       "      <td>1.646807</td>\n",
       "      <td>1.674565</td>\n",
       "      <td>06:56</td>\n",
       "    </tr>\n",
       "    <tr>\n",
       "      <td>11</td>\n",
       "      <td>1.653880</td>\n",
       "      <td>1.648951</td>\n",
       "      <td>07:04</td>\n",
       "    </tr>\n",
       "    <tr>\n",
       "      <td>12</td>\n",
       "      <td>1.605196</td>\n",
       "      <td>1.635857</td>\n",
       "      <td>07:06</td>\n",
       "    </tr>\n",
       "    <tr>\n",
       "      <td>13</td>\n",
       "      <td>1.609903</td>\n",
       "      <td>1.631921</td>\n",
       "      <td>07:18</td>\n",
       "    </tr>\n",
       "    <tr>\n",
       "      <td>14</td>\n",
       "      <td>1.611745</td>\n",
       "      <td>1.630949</td>\n",
       "      <td>07:18</td>\n",
       "    </tr>\n",
       "  </tbody>\n",
       "</table>"
      ],
      "text/plain": [
       "<IPython.core.display.HTML object>"
      ]
     },
     "metadata": {},
     "output_type": "display_data"
    }
   ],
   "source": [
    "#learn.fit_one_cycle(15, 8e-6)"
   ]
  },
  {
   "cell_type": "code",
   "execution_count": 46,
   "id": "extended-thanks",
   "metadata": {},
   "outputs": [
    {
     "data": {
      "text/html": [],
      "text/plain": [
       "<IPython.core.display.HTML object>"
      ]
     },
     "metadata": {},
     "output_type": "display_data"
    },
    {
     "data": {
      "text/plain": [
       "EmbeddingDotBias (Input shape: 64)\n",
       "============================================================================\n",
       "Layer (type)         Output Shape         Param #    Trainable \n",
       "============================================================================\n",
       "                     64 x 50             \n",
       "Embedding                                 2671250    True      \n",
       "Embedding                                 500050     True      \n",
       "____________________________________________________________________________\n",
       "                     64 x 1              \n",
       "Embedding                                 53425      True      \n",
       "Embedding                                 10001      True      \n",
       "____________________________________________________________________________\n",
       "\n",
       "Total params: 3,234,726\n",
       "Total trainable params: 3,234,726\n",
       "Total non-trainable params: 0\n",
       "\n",
       "Optimizer used: <function Adam at 0x7ff331d04af0>\n",
       "Loss function: FlattenedLoss of MSELoss()\n",
       "\n",
       "Model unfrozen\n",
       "\n",
       "Callbacks:\n",
       "  - TrainEvalCallback\n",
       "  - Recorder\n",
       "  - ProgressCallback"
      ]
     },
     "execution_count": 46,
     "metadata": {},
     "output_type": "execute_result"
    }
   ],
   "source": [
    "learn.summary()"
   ]
  },
  {
   "cell_type": "code",
   "execution_count": 45,
   "id": "boring-chick",
   "metadata": {},
   "outputs": [],
   "source": [
    "#save_pickle(\"save/collab_baseline.pkl\", learn)"
   ]
  },
  {
   "cell_type": "markdown",
   "id": "internal-syntax",
   "metadata": {},
   "source": [
    "# Exploratory data analysis"
   ]
  },
  {
   "cell_type": "markdown",
   "id": "entitled-invasion",
   "metadata": {},
   "source": [
    "# Predicting average book rating using only book info"
   ]
  },
  {
   "cell_type": "markdown",
   "id": "forced-lodge",
   "metadata": {},
   "source": [
    "We are going to leverage random forest to help us in this task."
   ]
  },
  {
   "cell_type": "markdown",
   "id": "under-reply",
   "metadata": {},
   "source": [
    "## Feature engineering"
   ]
  },
  {
   "cell_type": "markdown",
   "id": "banned-movement",
   "metadata": {},
   "source": [
    "## Info in title"
   ]
  },
  {
   "cell_type": "code",
   "execution_count": 16,
   "id": "decreased-webcam",
   "metadata": {},
   "outputs": [],
   "source": [
    "import re\n",
    "import pandas as pd"
   ]
  },
  {
   "cell_type": "code",
   "execution_count": 17,
   "id": "correct-warehouse",
   "metadata": {},
   "outputs": [],
   "source": [
    "def extract_series(title):\n",
    "    matches = re.search(r'^(?P<Title>.+)\\s\\((?P<Series>.+), #(?P<Number>\\d)\\)$', title)\n",
    "    if matches is None:\n",
    "        series = None\n",
    "        number = 1\n",
    "    else:\n",
    "        title = matches.group('Title')\n",
    "        series = matches.group('Series')\n",
    "        number = matches.group('Number')\n",
    "    return title, series, number"
   ]
  },
  {
   "cell_type": "code",
   "execution_count": 18,
   "id": "statutory-constant",
   "metadata": {},
   "outputs": [],
   "source": [
    "title_data = book_data['title'].apply(extract_series).apply(pd.Series)\n",
    "title_data.columns = ['title', 'series', 'volume_number']"
   ]
  },
  {
   "cell_type": "code",
   "execution_count": 19,
   "id": "framed-gauge",
   "metadata": {},
   "outputs": [
    {
     "data": {
      "text/html": [
       "<div>\n",
       "<style scoped>\n",
       "    .dataframe tbody tr th:only-of-type {\n",
       "        vertical-align: middle;\n",
       "    }\n",
       "\n",
       "    .dataframe tbody tr th {\n",
       "        vertical-align: top;\n",
       "    }\n",
       "\n",
       "    .dataframe thead th {\n",
       "        text-align: right;\n",
       "    }\n",
       "</style>\n",
       "<table border=\"1\" class=\"dataframe\">\n",
       "  <thead>\n",
       "    <tr style=\"text-align: right;\">\n",
       "      <th></th>\n",
       "      <th>title</th>\n",
       "      <th>series</th>\n",
       "      <th>volume_number</th>\n",
       "    </tr>\n",
       "  </thead>\n",
       "  <tbody>\n",
       "    <tr>\n",
       "      <th>0</th>\n",
       "      <td>The Hunger Games</td>\n",
       "      <td>The Hunger Games</td>\n",
       "      <td>1</td>\n",
       "    </tr>\n",
       "    <tr>\n",
       "      <th>1</th>\n",
       "      <td>Harry Potter and the Sorcerer's Stone</td>\n",
       "      <td>Harry Potter</td>\n",
       "      <td>1</td>\n",
       "    </tr>\n",
       "    <tr>\n",
       "      <th>2</th>\n",
       "      <td>Twilight</td>\n",
       "      <td>Twilight</td>\n",
       "      <td>1</td>\n",
       "    </tr>\n",
       "    <tr>\n",
       "      <th>3</th>\n",
       "      <td>To Kill a Mockingbird</td>\n",
       "      <td>None</td>\n",
       "      <td>1</td>\n",
       "    </tr>\n",
       "    <tr>\n",
       "      <th>4</th>\n",
       "      <td>The Great Gatsby</td>\n",
       "      <td>None</td>\n",
       "      <td>1</td>\n",
       "    </tr>\n",
       "    <tr>\n",
       "      <th>...</th>\n",
       "      <td>...</td>\n",
       "      <td>...</td>\n",
       "      <td>...</td>\n",
       "    </tr>\n",
       "    <tr>\n",
       "      <th>9995</th>\n",
       "      <td>Bayou Moon</td>\n",
       "      <td>The Edge</td>\n",
       "      <td>2</td>\n",
       "    </tr>\n",
       "    <tr>\n",
       "      <th>9996</th>\n",
       "      <td>Means of Ascent</td>\n",
       "      <td>The Years of Lyndon Johnson</td>\n",
       "      <td>2</td>\n",
       "    </tr>\n",
       "    <tr>\n",
       "      <th>9997</th>\n",
       "      <td>The Mauritius Command</td>\n",
       "      <td>None</td>\n",
       "      <td>1</td>\n",
       "    </tr>\n",
       "    <tr>\n",
       "      <th>9998</th>\n",
       "      <td>Cinderella Ate My Daughter: Dispatches from th...</td>\n",
       "      <td>None</td>\n",
       "      <td>1</td>\n",
       "    </tr>\n",
       "    <tr>\n",
       "      <th>9999</th>\n",
       "      <td>The First World War</td>\n",
       "      <td>None</td>\n",
       "      <td>1</td>\n",
       "    </tr>\n",
       "  </tbody>\n",
       "</table>\n",
       "<p>10000 rows × 3 columns</p>\n",
       "</div>"
      ],
      "text/plain": [
       "                                                  title  \\\n",
       "0                                      The Hunger Games   \n",
       "1                 Harry Potter and the Sorcerer's Stone   \n",
       "2                                              Twilight   \n",
       "3                                 To Kill a Mockingbird   \n",
       "4                                      The Great Gatsby   \n",
       "...                                                 ...   \n",
       "9995                                         Bayou Moon   \n",
       "9996                                    Means of Ascent   \n",
       "9997                              The Mauritius Command   \n",
       "9998  Cinderella Ate My Daughter: Dispatches from th...   \n",
       "9999                                The First World War   \n",
       "\n",
       "                           series volume_number  \n",
       "0                The Hunger Games             1  \n",
       "1                    Harry Potter             1  \n",
       "2                        Twilight             1  \n",
       "3                            None             1  \n",
       "4                            None             1  \n",
       "...                           ...           ...  \n",
       "9995                     The Edge             2  \n",
       "9996  The Years of Lyndon Johnson             2  \n",
       "9997                         None             1  \n",
       "9998                         None             1  \n",
       "9999                         None             1  \n",
       "\n",
       "[10000 rows x 3 columns]"
      ]
     },
     "execution_count": 19,
     "metadata": {},
     "output_type": "execute_result"
    }
   ],
   "source": [
    "title_data"
   ]
  },
  {
   "cell_type": "code",
   "execution_count": 20,
   "id": "given-belief",
   "metadata": {},
   "outputs": [],
   "source": [
    "book_data = book_data.drop('title', axis=1)\n",
    "book_data = pd.concat([book_data, title_data], axis=1)"
   ]
  },
  {
   "cell_type": "code",
   "execution_count": 21,
   "id": "unnecessary-delay",
   "metadata": {},
   "outputs": [
    {
     "data": {
      "text/html": [
       "<div>\n",
       "<style scoped>\n",
       "    .dataframe tbody tr th:only-of-type {\n",
       "        vertical-align: middle;\n",
       "    }\n",
       "\n",
       "    .dataframe tbody tr th {\n",
       "        vertical-align: top;\n",
       "    }\n",
       "\n",
       "    .dataframe thead th {\n",
       "        text-align: right;\n",
       "    }\n",
       "</style>\n",
       "<table border=\"1\" class=\"dataframe\">\n",
       "  <thead>\n",
       "    <tr style=\"text-align: right;\">\n",
       "      <th></th>\n",
       "      <th>title</th>\n",
       "      <th>series</th>\n",
       "      <th>volume_number</th>\n",
       "    </tr>\n",
       "  </thead>\n",
       "  <tbody>\n",
       "    <tr>\n",
       "      <th>0</th>\n",
       "      <td>The Hunger Games</td>\n",
       "      <td>The Hunger Games</td>\n",
       "      <td>1</td>\n",
       "    </tr>\n",
       "    <tr>\n",
       "      <th>1</th>\n",
       "      <td>Harry Potter and the Sorcerer's Stone</td>\n",
       "      <td>Harry Potter</td>\n",
       "      <td>1</td>\n",
       "    </tr>\n",
       "    <tr>\n",
       "      <th>2</th>\n",
       "      <td>Twilight</td>\n",
       "      <td>Twilight</td>\n",
       "      <td>1</td>\n",
       "    </tr>\n",
       "  </tbody>\n",
       "</table>\n",
       "</div>"
      ],
      "text/plain": [
       "                                   title            series volume_number\n",
       "0                       The Hunger Games  The Hunger Games             1\n",
       "1  Harry Potter and the Sorcerer's Stone      Harry Potter             1\n",
       "2                               Twilight          Twilight             1"
      ]
     },
     "execution_count": 21,
     "metadata": {},
     "output_type": "execute_result"
    }
   ],
   "source": [
    "book_data.iloc[:3,-3:]"
   ]
  },
  {
   "cell_type": "markdown",
   "id": "optical-contemporary",
   "metadata": {},
   "source": [
    "## Leveraging tags"
   ]
  },
  {
   "cell_type": "code",
   "execution_count": 22,
   "id": "quality-hampshire",
   "metadata": {},
   "outputs": [],
   "source": [
    "import numpy as np"
   ]
  },
  {
   "cell_type": "code",
   "execution_count": 23,
   "id": "graduate-gregory",
   "metadata": {},
   "outputs": [
    {
     "data": {
      "text/plain": [
       "(34252, 34252)"
      ]
     },
     "execution_count": 23,
     "metadata": {},
     "output_type": "execute_result"
    }
   ],
   "source": [
    "nb_tags, _ = len(tags_data.tag_id.unique()), tags_data.tag_id.max() + 1 # +1 since first id is 0\n",
    "nb_tags, _"
   ]
  },
  {
   "cell_type": "markdown",
   "id": "rocky-necklace",
   "metadata": {},
   "source": [
    "Don't think there is any hole."
   ]
  },
  {
   "cell_type": "code",
   "execution_count": 24,
   "id": "velvet-local",
   "metadata": {},
   "outputs": [
    {
     "data": {
      "text/html": [
       "<div>\n",
       "<style scoped>\n",
       "    .dataframe tbody tr th:only-of-type {\n",
       "        vertical-align: middle;\n",
       "    }\n",
       "\n",
       "    .dataframe tbody tr th {\n",
       "        vertical-align: top;\n",
       "    }\n",
       "\n",
       "    .dataframe thead th {\n",
       "        text-align: right;\n",
       "    }\n",
       "</style>\n",
       "<table border=\"1\" class=\"dataframe\">\n",
       "  <thead>\n",
       "    <tr style=\"text-align: right;\">\n",
       "      <th></th>\n",
       "      <th>tag_id</th>\n",
       "      <th>tag_name</th>\n",
       "    </tr>\n",
       "  </thead>\n",
       "  <tbody>\n",
       "    <tr>\n",
       "      <th>0</th>\n",
       "      <td>0</td>\n",
       "      <td>-</td>\n",
       "    </tr>\n",
       "    <tr>\n",
       "      <th>1</th>\n",
       "      <td>1</td>\n",
       "      <td>--1-</td>\n",
       "    </tr>\n",
       "    <tr>\n",
       "      <th>2</th>\n",
       "      <td>2</td>\n",
       "      <td>--10-</td>\n",
       "    </tr>\n",
       "    <tr>\n",
       "      <th>3</th>\n",
       "      <td>3</td>\n",
       "      <td>--12-</td>\n",
       "    </tr>\n",
       "    <tr>\n",
       "      <th>4</th>\n",
       "      <td>4</td>\n",
       "      <td>--122-</td>\n",
       "    </tr>\n",
       "  </tbody>\n",
       "</table>\n",
       "</div>"
      ],
      "text/plain": [
       "   tag_id tag_name\n",
       "0       0        -\n",
       "1       1     --1-\n",
       "2       2    --10-\n",
       "3       3    --12-\n",
       "4       4   --122-"
      ]
     },
     "execution_count": 24,
     "metadata": {},
     "output_type": "execute_result"
    }
   ],
   "source": [
    "tags_data.head(5)"
   ]
  },
  {
   "cell_type": "code",
   "execution_count": 25,
   "id": "quiet-louis",
   "metadata": {},
   "outputs": [
    {
     "data": {
      "text/html": [
       "<div>\n",
       "<style scoped>\n",
       "    .dataframe tbody tr th:only-of-type {\n",
       "        vertical-align: middle;\n",
       "    }\n",
       "\n",
       "    .dataframe tbody tr th {\n",
       "        vertical-align: top;\n",
       "    }\n",
       "\n",
       "    .dataframe thead th {\n",
       "        text-align: right;\n",
       "    }\n",
       "</style>\n",
       "<table border=\"1\" class=\"dataframe\">\n",
       "  <thead>\n",
       "    <tr style=\"text-align: right;\">\n",
       "      <th></th>\n",
       "      <th>tag_id</th>\n",
       "      <th>tag_name</th>\n",
       "    </tr>\n",
       "  </thead>\n",
       "  <tbody>\n",
       "    <tr>\n",
       "      <th>34247</th>\n",
       "      <td>34247</td>\n",
       "      <td>Ｃhildrens</td>\n",
       "    </tr>\n",
       "    <tr>\n",
       "      <th>34248</th>\n",
       "      <td>34248</td>\n",
       "      <td>Ｆａｖｏｒｉｔｅｓ</td>\n",
       "    </tr>\n",
       "    <tr>\n",
       "      <th>34249</th>\n",
       "      <td>34249</td>\n",
       "      <td>Ｍａｎｇａ</td>\n",
       "    </tr>\n",
       "    <tr>\n",
       "      <th>34250</th>\n",
       "      <td>34250</td>\n",
       "      <td>ＳＥＲＩＥＳ</td>\n",
       "    </tr>\n",
       "    <tr>\n",
       "      <th>34251</th>\n",
       "      <td>34251</td>\n",
       "      <td>ｆａｖｏｕｒｉｔｅｓ</td>\n",
       "    </tr>\n",
       "  </tbody>\n",
       "</table>\n",
       "</div>"
      ],
      "text/plain": [
       "       tag_id    tag_name\n",
       "34247   34247   Ｃhildrens\n",
       "34248   34248   Ｆａｖｏｒｉｔｅｓ\n",
       "34249   34249       Ｍａｎｇａ\n",
       "34250   34250      ＳＥＲＩＥＳ\n",
       "34251   34251  ｆａｖｏｕｒｉｔｅｓ"
      ]
     },
     "execution_count": 25,
     "metadata": {},
     "output_type": "execute_result"
    }
   ],
   "source": [
    "tags_data.tail(5)"
   ]
  },
  {
   "cell_type": "markdown",
   "id": "martial-listing",
   "metadata": {},
   "source": [
    "**We are drowning in tags!**\n",
    "Users can create their own tags, which doesn't help. Instead we will use the tags provided by goodbooks genres, namely [these ones](https://www.goodreads.com/genres)"
   ]
  },
  {
   "cell_type": "code",
   "execution_count": 26,
   "id": "running-asbestos",
   "metadata": {},
   "outputs": [],
   "source": [
    "genres = [\"Art\", \"Biography\", \"Business\", \"Chick Lit\", \"Children's\", \"Christian\", \"Classics\", \"Comics\", \"Contemporary\", \"Cookbooks\", \"Crime\", \"Ebooks\", \"Fantasy\", \"Fiction\", \"Gay and Lesbian\", \"Graphic Novels\", \"Historical Fiction\", \"History\", \"Horror\", \"Humor and Comedy\", \"Manga\", \"Memoir\", \"Music\", \"Mystery\", \"Nonfiction\", \"Paranormal\", \"Philosophy\", \"Poetry\", \"Psychology\", \"Religion\", \"Romance\", \"Science\", \"Science Fiction\", \"Self Help\", \"Suspense\", \"Spirituality\", \"Sports\", \"Thriller\", \"Travel\", \"Young Adult\"]\n",
    "genres_tags = [genre.lower().replace(\" and \", \"-\").replace(\" \", \"-\").replace(\"'s\", \"\") for genre in genres]"
   ]
  },
  {
   "cell_type": "code",
   "execution_count": 27,
   "id": "pregnant-prediction",
   "metadata": {},
   "outputs": [
    {
     "data": {
      "text/plain": [
       "(40, 40)"
      ]
     },
     "execution_count": 27,
     "metadata": {},
     "output_type": "execute_result"
    }
   ],
   "source": [
    "len(genres), len(tags_data[tags_data['tag_name'].isin(genres_tags)])"
   ]
  },
  {
   "cell_type": "code",
   "execution_count": 28,
   "id": "alike-awareness",
   "metadata": {},
   "outputs": [],
   "source": [
    "nb_genres = len(genres)"
   ]
  },
  {
   "cell_type": "markdown",
   "id": "decimal-switch",
   "metadata": {},
   "source": [
    "We now have all the genres! Let's filter the tags and transform the count into True-False."
   ]
  },
  {
   "cell_type": "code",
   "execution_count": 29,
   "id": "defensive-passport",
   "metadata": {},
   "outputs": [],
   "source": [
    "genres_tag_ids = tags_data[tags_data['tag_name'].isin(genres_tags)].tag_id"
   ]
  },
  {
   "cell_type": "code",
   "execution_count": 30,
   "id": "demonstrated-difficulty",
   "metadata": {},
   "outputs": [],
   "source": [
    "bookgenres_data = booktags_data[booktags_data['tag_id'].isin(genres_tag_ids)]"
   ]
  },
  {
   "cell_type": "code",
   "execution_count": 31,
   "id": "nuclear-evening",
   "metadata": {},
   "outputs": [],
   "source": [
    "tag_genre_map = {tag: genres_tags.index(tags_data.loc[tag].tag_name) for tag in genres_tag_ids}"
   ]
  },
  {
   "cell_type": "code",
   "execution_count": 32,
   "id": "vocal-impression",
   "metadata": {},
   "outputs": [
    {
     "data": {
      "text/html": [
       "<div>\n",
       "<style scoped>\n",
       "    .dataframe tbody tr th:only-of-type {\n",
       "        vertical-align: middle;\n",
       "    }\n",
       "\n",
       "    .dataframe tbody tr th {\n",
       "        vertical-align: top;\n",
       "    }\n",
       "\n",
       "    .dataframe thead th {\n",
       "        text-align: right;\n",
       "    }\n",
       "</style>\n",
       "<table border=\"1\" class=\"dataframe\">\n",
       "  <thead>\n",
       "    <tr style=\"text-align: right;\">\n",
       "      <th></th>\n",
       "      <th>tag_id</th>\n",
       "      <th>count</th>\n",
       "    </tr>\n",
       "    <tr>\n",
       "      <th>goodreads_book_id</th>\n",
       "      <th></th>\n",
       "      <th></th>\n",
       "    </tr>\n",
       "  </thead>\n",
       "  <tbody>\n",
       "    <tr>\n",
       "      <th>1</th>\n",
       "      <td>[11305, 33114, 11743, 6857, 7457, 22973, 20939...</td>\n",
       "      <td>[37174, 12716, 9954, 1560, 958, 673, 465, 334,...</td>\n",
       "    </tr>\n",
       "  </tbody>\n",
       "</table>\n",
       "</div>"
      ],
      "text/plain": [
       "                                                              tag_id  \\\n",
       "goodreads_book_id                                                      \n",
       "1                  [11305, 33114, 11743, 6857, 7457, 22973, 20939...   \n",
       "\n",
       "                                                               count  \n",
       "goodreads_book_id                                                     \n",
       "1                  [37174, 12716, 9954, 1560, 958, 673, 465, 334,...  "
      ]
     },
     "execution_count": 32,
     "metadata": {},
     "output_type": "execute_result"
    }
   ],
   "source": [
    "grouped_genres_counts = bookgenres_data.groupby('goodreads_book_id').agg(lambda x: x.tolist())\n",
    "grouped_genres_counts.head(1)"
   ]
  },
  {
   "cell_type": "code",
   "execution_count": 33,
   "id": "knowing-constitution",
   "metadata": {},
   "outputs": [],
   "source": [
    "def one_hot_from_genre_count_list(tags):\n",
    "    one_hot = np.repeat(0, nb_genres)\n",
    "    genres = [tag_genre_map[tag] for tag in tags]\n",
    "    one_hot[genres] = 1\n",
    "    return pd.Series(one_hot)"
   ]
  },
  {
   "cell_type": "code",
   "execution_count": 34,
   "id": "instructional-importance",
   "metadata": {},
   "outputs": [],
   "source": [
    "one_hot = grouped_genres_counts.apply(lambda x: one_hot_from_genre_count_list(x['tag_id']), axis=1)\n",
    "one_hot.columns = genres"
   ]
  },
  {
   "cell_type": "code",
   "execution_count": 35,
   "id": "roman-nirvana",
   "metadata": {},
   "outputs": [
    {
     "data": {
      "text/html": [
       "<div>\n",
       "<style scoped>\n",
       "    .dataframe tbody tr th:only-of-type {\n",
       "        vertical-align: middle;\n",
       "    }\n",
       "\n",
       "    .dataframe tbody tr th {\n",
       "        vertical-align: top;\n",
       "    }\n",
       "\n",
       "    .dataframe thead th {\n",
       "        text-align: right;\n",
       "    }\n",
       "</style>\n",
       "<table border=\"1\" class=\"dataframe\">\n",
       "  <thead>\n",
       "    <tr style=\"text-align: right;\">\n",
       "      <th></th>\n",
       "      <th>Art</th>\n",
       "      <th>Biography</th>\n",
       "      <th>Business</th>\n",
       "      <th>Chick Lit</th>\n",
       "      <th>Children's</th>\n",
       "      <th>Christian</th>\n",
       "      <th>Classics</th>\n",
       "      <th>Comics</th>\n",
       "      <th>Contemporary</th>\n",
       "      <th>Cookbooks</th>\n",
       "      <th>...</th>\n",
       "      <th>Romance</th>\n",
       "      <th>Science</th>\n",
       "      <th>Science Fiction</th>\n",
       "      <th>Self Help</th>\n",
       "      <th>Suspense</th>\n",
       "      <th>Spirituality</th>\n",
       "      <th>Sports</th>\n",
       "      <th>Thriller</th>\n",
       "      <th>Travel</th>\n",
       "      <th>Young Adult</th>\n",
       "    </tr>\n",
       "    <tr>\n",
       "      <th>goodreads_book_id</th>\n",
       "      <th></th>\n",
       "      <th></th>\n",
       "      <th></th>\n",
       "      <th></th>\n",
       "      <th></th>\n",
       "      <th></th>\n",
       "      <th></th>\n",
       "      <th></th>\n",
       "      <th></th>\n",
       "      <th></th>\n",
       "      <th></th>\n",
       "      <th></th>\n",
       "      <th></th>\n",
       "      <th></th>\n",
       "      <th></th>\n",
       "      <th></th>\n",
       "      <th></th>\n",
       "      <th></th>\n",
       "      <th></th>\n",
       "      <th></th>\n",
       "      <th></th>\n",
       "    </tr>\n",
       "  </thead>\n",
       "  <tbody>\n",
       "    <tr>\n",
       "      <th>1</th>\n",
       "      <td>0</td>\n",
       "      <td>0</td>\n",
       "      <td>0</td>\n",
       "      <td>0</td>\n",
       "      <td>1</td>\n",
       "      <td>0</td>\n",
       "      <td>1</td>\n",
       "      <td>0</td>\n",
       "      <td>1</td>\n",
       "      <td>0</td>\n",
       "      <td>...</td>\n",
       "      <td>1</td>\n",
       "      <td>0</td>\n",
       "      <td>0</td>\n",
       "      <td>0</td>\n",
       "      <td>0</td>\n",
       "      <td>0</td>\n",
       "      <td>0</td>\n",
       "      <td>0</td>\n",
       "      <td>0</td>\n",
       "      <td>1</td>\n",
       "    </tr>\n",
       "    <tr>\n",
       "      <th>2</th>\n",
       "      <td>0</td>\n",
       "      <td>0</td>\n",
       "      <td>0</td>\n",
       "      <td>0</td>\n",
       "      <td>1</td>\n",
       "      <td>0</td>\n",
       "      <td>0</td>\n",
       "      <td>0</td>\n",
       "      <td>0</td>\n",
       "      <td>0</td>\n",
       "      <td>...</td>\n",
       "      <td>1</td>\n",
       "      <td>0</td>\n",
       "      <td>0</td>\n",
       "      <td>0</td>\n",
       "      <td>0</td>\n",
       "      <td>0</td>\n",
       "      <td>0</td>\n",
       "      <td>0</td>\n",
       "      <td>0</td>\n",
       "      <td>1</td>\n",
       "    </tr>\n",
       "    <tr>\n",
       "      <th>3</th>\n",
       "      <td>0</td>\n",
       "      <td>0</td>\n",
       "      <td>0</td>\n",
       "      <td>0</td>\n",
       "      <td>1</td>\n",
       "      <td>0</td>\n",
       "      <td>1</td>\n",
       "      <td>0</td>\n",
       "      <td>1</td>\n",
       "      <td>0</td>\n",
       "      <td>...</td>\n",
       "      <td>0</td>\n",
       "      <td>0</td>\n",
       "      <td>0</td>\n",
       "      <td>0</td>\n",
       "      <td>0</td>\n",
       "      <td>0</td>\n",
       "      <td>0</td>\n",
       "      <td>0</td>\n",
       "      <td>0</td>\n",
       "      <td>1</td>\n",
       "    </tr>\n",
       "    <tr>\n",
       "      <th>5</th>\n",
       "      <td>0</td>\n",
       "      <td>0</td>\n",
       "      <td>0</td>\n",
       "      <td>0</td>\n",
       "      <td>1</td>\n",
       "      <td>0</td>\n",
       "      <td>1</td>\n",
       "      <td>0</td>\n",
       "      <td>1</td>\n",
       "      <td>0</td>\n",
       "      <td>...</td>\n",
       "      <td>0</td>\n",
       "      <td>0</td>\n",
       "      <td>0</td>\n",
       "      <td>0</td>\n",
       "      <td>0</td>\n",
       "      <td>0</td>\n",
       "      <td>0</td>\n",
       "      <td>0</td>\n",
       "      <td>0</td>\n",
       "      <td>1</td>\n",
       "    </tr>\n",
       "    <tr>\n",
       "      <th>6</th>\n",
       "      <td>0</td>\n",
       "      <td>0</td>\n",
       "      <td>0</td>\n",
       "      <td>0</td>\n",
       "      <td>1</td>\n",
       "      <td>0</td>\n",
       "      <td>1</td>\n",
       "      <td>0</td>\n",
       "      <td>1</td>\n",
       "      <td>0</td>\n",
       "      <td>...</td>\n",
       "      <td>0</td>\n",
       "      <td>0</td>\n",
       "      <td>0</td>\n",
       "      <td>0</td>\n",
       "      <td>0</td>\n",
       "      <td>0</td>\n",
       "      <td>0</td>\n",
       "      <td>0</td>\n",
       "      <td>0</td>\n",
       "      <td>1</td>\n",
       "    </tr>\n",
       "    <tr>\n",
       "      <th>...</th>\n",
       "      <td>...</td>\n",
       "      <td>...</td>\n",
       "      <td>...</td>\n",
       "      <td>...</td>\n",
       "      <td>...</td>\n",
       "      <td>...</td>\n",
       "      <td>...</td>\n",
       "      <td>...</td>\n",
       "      <td>...</td>\n",
       "      <td>...</td>\n",
       "      <td>...</td>\n",
       "      <td>...</td>\n",
       "      <td>...</td>\n",
       "      <td>...</td>\n",
       "      <td>...</td>\n",
       "      <td>...</td>\n",
       "      <td>...</td>\n",
       "      <td>...</td>\n",
       "      <td>...</td>\n",
       "      <td>...</td>\n",
       "      <td>...</td>\n",
       "    </tr>\n",
       "    <tr>\n",
       "      <th>31538647</th>\n",
       "      <td>0</td>\n",
       "      <td>0</td>\n",
       "      <td>0</td>\n",
       "      <td>0</td>\n",
       "      <td>1</td>\n",
       "      <td>0</td>\n",
       "      <td>0</td>\n",
       "      <td>0</td>\n",
       "      <td>0</td>\n",
       "      <td>0</td>\n",
       "      <td>...</td>\n",
       "      <td>0</td>\n",
       "      <td>0</td>\n",
       "      <td>0</td>\n",
       "      <td>0</td>\n",
       "      <td>0</td>\n",
       "      <td>0</td>\n",
       "      <td>0</td>\n",
       "      <td>0</td>\n",
       "      <td>0</td>\n",
       "      <td>1</td>\n",
       "    </tr>\n",
       "    <tr>\n",
       "      <th>31845516</th>\n",
       "      <td>0</td>\n",
       "      <td>1</td>\n",
       "      <td>0</td>\n",
       "      <td>0</td>\n",
       "      <td>0</td>\n",
       "      <td>1</td>\n",
       "      <td>0</td>\n",
       "      <td>0</td>\n",
       "      <td>1</td>\n",
       "      <td>0</td>\n",
       "      <td>...</td>\n",
       "      <td>0</td>\n",
       "      <td>0</td>\n",
       "      <td>0</td>\n",
       "      <td>1</td>\n",
       "      <td>0</td>\n",
       "      <td>1</td>\n",
       "      <td>0</td>\n",
       "      <td>0</td>\n",
       "      <td>0</td>\n",
       "      <td>0</td>\n",
       "    </tr>\n",
       "    <tr>\n",
       "      <th>32075671</th>\n",
       "      <td>0</td>\n",
       "      <td>0</td>\n",
       "      <td>0</td>\n",
       "      <td>0</td>\n",
       "      <td>0</td>\n",
       "      <td>0</td>\n",
       "      <td>0</td>\n",
       "      <td>0</td>\n",
       "      <td>1</td>\n",
       "      <td>0</td>\n",
       "      <td>...</td>\n",
       "      <td>1</td>\n",
       "      <td>0</td>\n",
       "      <td>0</td>\n",
       "      <td>0</td>\n",
       "      <td>0</td>\n",
       "      <td>0</td>\n",
       "      <td>0</td>\n",
       "      <td>0</td>\n",
       "      <td>0</td>\n",
       "      <td>1</td>\n",
       "    </tr>\n",
       "    <tr>\n",
       "      <th>32848471</th>\n",
       "      <td>0</td>\n",
       "      <td>0</td>\n",
       "      <td>0</td>\n",
       "      <td>1</td>\n",
       "      <td>0</td>\n",
       "      <td>0</td>\n",
       "      <td>0</td>\n",
       "      <td>0</td>\n",
       "      <td>1</td>\n",
       "      <td>0</td>\n",
       "      <td>...</td>\n",
       "      <td>1</td>\n",
       "      <td>0</td>\n",
       "      <td>0</td>\n",
       "      <td>0</td>\n",
       "      <td>0</td>\n",
       "      <td>0</td>\n",
       "      <td>0</td>\n",
       "      <td>0</td>\n",
       "      <td>0</td>\n",
       "      <td>0</td>\n",
       "    </tr>\n",
       "    <tr>\n",
       "      <th>33288638</th>\n",
       "      <td>0</td>\n",
       "      <td>0</td>\n",
       "      <td>0</td>\n",
       "      <td>1</td>\n",
       "      <td>1</td>\n",
       "      <td>0</td>\n",
       "      <td>0</td>\n",
       "      <td>0</td>\n",
       "      <td>1</td>\n",
       "      <td>0</td>\n",
       "      <td>...</td>\n",
       "      <td>1</td>\n",
       "      <td>0</td>\n",
       "      <td>0</td>\n",
       "      <td>0</td>\n",
       "      <td>0</td>\n",
       "      <td>0</td>\n",
       "      <td>1</td>\n",
       "      <td>0</td>\n",
       "      <td>0</td>\n",
       "      <td>0</td>\n",
       "    </tr>\n",
       "  </tbody>\n",
       "</table>\n",
       "<p>10000 rows × 40 columns</p>\n",
       "</div>"
      ],
      "text/plain": [
       "                   Art  Biography  Business  Chick Lit  Children's  Christian  \\\n",
       "goodreads_book_id                                                               \n",
       "1                    0          0         0          0           1          0   \n",
       "2                    0          0         0          0           1          0   \n",
       "3                    0          0         0          0           1          0   \n",
       "5                    0          0         0          0           1          0   \n",
       "6                    0          0         0          0           1          0   \n",
       "...                ...        ...       ...        ...         ...        ...   \n",
       "31538647             0          0         0          0           1          0   \n",
       "31845516             0          1         0          0           0          1   \n",
       "32075671             0          0         0          0           0          0   \n",
       "32848471             0          0         0          1           0          0   \n",
       "33288638             0          0         0          1           1          0   \n",
       "\n",
       "                   Classics  Comics  Contemporary  Cookbooks  ...  Romance  \\\n",
       "goodreads_book_id                                             ...            \n",
       "1                         1       0             1          0  ...        1   \n",
       "2                         0       0             0          0  ...        1   \n",
       "3                         1       0             1          0  ...        0   \n",
       "5                         1       0             1          0  ...        0   \n",
       "6                         1       0             1          0  ...        0   \n",
       "...                     ...     ...           ...        ...  ...      ...   \n",
       "31538647                  0       0             0          0  ...        0   \n",
       "31845516                  0       0             1          0  ...        0   \n",
       "32075671                  0       0             1          0  ...        1   \n",
       "32848471                  0       0             1          0  ...        1   \n",
       "33288638                  0       0             1          0  ...        1   \n",
       "\n",
       "                   Science  Science Fiction  Self Help  Suspense  \\\n",
       "goodreads_book_id                                                  \n",
       "1                        0                0          0         0   \n",
       "2                        0                0          0         0   \n",
       "3                        0                0          0         0   \n",
       "5                        0                0          0         0   \n",
       "6                        0                0          0         0   \n",
       "...                    ...              ...        ...       ...   \n",
       "31538647                 0                0          0         0   \n",
       "31845516                 0                0          1         0   \n",
       "32075671                 0                0          0         0   \n",
       "32848471                 0                0          0         0   \n",
       "33288638                 0                0          0         0   \n",
       "\n",
       "                   Spirituality  Sports  Thriller  Travel  Young Adult  \n",
       "goodreads_book_id                                                       \n",
       "1                             0       0         0       0            1  \n",
       "2                             0       0         0       0            1  \n",
       "3                             0       0         0       0            1  \n",
       "5                             0       0         0       0            1  \n",
       "6                             0       0         0       0            1  \n",
       "...                         ...     ...       ...     ...          ...  \n",
       "31538647                      0       0         0       0            1  \n",
       "31845516                      1       0         0       0            0  \n",
       "32075671                      0       0         0       0            1  \n",
       "32848471                      0       0         0       0            0  \n",
       "33288638                      0       1         0       0            0  \n",
       "\n",
       "[10000 rows x 40 columns]"
      ]
     },
     "execution_count": 35,
     "metadata": {},
     "output_type": "execute_result"
    }
   ],
   "source": [
    "one_hot"
   ]
  },
  {
   "cell_type": "code",
   "execution_count": 36,
   "id": "destroyed-reason",
   "metadata": {},
   "outputs": [],
   "source": [
    "#one_hot.to_csv('save/genres_one_hot.csv')"
   ]
  },
  {
   "cell_type": "code",
   "execution_count": 37,
   "id": "funky-collective",
   "metadata": {},
   "outputs": [],
   "source": [
    "one_hot.reset_index(inplace=True)"
   ]
  },
  {
   "cell_type": "code",
   "execution_count": 38,
   "id": "distributed-canal",
   "metadata": {},
   "outputs": [],
   "source": [
    "book_with_genres = book_data.merge(one_hot)"
   ]
  },
  {
   "cell_type": "code",
   "execution_count": 39,
   "id": "athletic-organ",
   "metadata": {},
   "outputs": [
    {
     "data": {
      "text/html": [
       "<div>\n",
       "<style scoped>\n",
       "    .dataframe tbody tr th:only-of-type {\n",
       "        vertical-align: middle;\n",
       "    }\n",
       "\n",
       "    .dataframe tbody tr th {\n",
       "        vertical-align: top;\n",
       "    }\n",
       "\n",
       "    .dataframe thead th {\n",
       "        text-align: right;\n",
       "    }\n",
       "</style>\n",
       "<table border=\"1\" class=\"dataframe\">\n",
       "  <thead>\n",
       "    <tr style=\"text-align: right;\">\n",
       "      <th></th>\n",
       "      <th>book_id</th>\n",
       "      <th>goodreads_book_id</th>\n",
       "      <th>best_book_id</th>\n",
       "      <th>work_id</th>\n",
       "      <th>books_count</th>\n",
       "      <th>isbn</th>\n",
       "      <th>isbn13</th>\n",
       "      <th>authors</th>\n",
       "      <th>original_publication_year</th>\n",
       "      <th>original_title</th>\n",
       "      <th>...</th>\n",
       "      <th>Romance</th>\n",
       "      <th>Science</th>\n",
       "      <th>Science Fiction</th>\n",
       "      <th>Self Help</th>\n",
       "      <th>Suspense</th>\n",
       "      <th>Spirituality</th>\n",
       "      <th>Sports</th>\n",
       "      <th>Thriller</th>\n",
       "      <th>Travel</th>\n",
       "      <th>Young Adult</th>\n",
       "    </tr>\n",
       "  </thead>\n",
       "  <tbody>\n",
       "    <tr>\n",
       "      <th>0</th>\n",
       "      <td>1</td>\n",
       "      <td>2767052</td>\n",
       "      <td>2767052</td>\n",
       "      <td>2792775</td>\n",
       "      <td>272</td>\n",
       "      <td>439023483</td>\n",
       "      <td>9.780439e+12</td>\n",
       "      <td>Suzanne Collins</td>\n",
       "      <td>2008.0</td>\n",
       "      <td>The Hunger Games</td>\n",
       "      <td>...</td>\n",
       "      <td>1</td>\n",
       "      <td>0</td>\n",
       "      <td>1</td>\n",
       "      <td>0</td>\n",
       "      <td>1</td>\n",
       "      <td>0</td>\n",
       "      <td>0</td>\n",
       "      <td>1</td>\n",
       "      <td>0</td>\n",
       "      <td>1</td>\n",
       "    </tr>\n",
       "    <tr>\n",
       "      <th>1</th>\n",
       "      <td>2</td>\n",
       "      <td>3</td>\n",
       "      <td>3</td>\n",
       "      <td>4640799</td>\n",
       "      <td>491</td>\n",
       "      <td>439554934</td>\n",
       "      <td>9.780440e+12</td>\n",
       "      <td>J.K. Rowling, Mary GrandPré</td>\n",
       "      <td>1997.0</td>\n",
       "      <td>Harry Potter and the Philosopher's Stone</td>\n",
       "      <td>...</td>\n",
       "      <td>0</td>\n",
       "      <td>0</td>\n",
       "      <td>0</td>\n",
       "      <td>0</td>\n",
       "      <td>0</td>\n",
       "      <td>0</td>\n",
       "      <td>0</td>\n",
       "      <td>0</td>\n",
       "      <td>0</td>\n",
       "      <td>1</td>\n",
       "    </tr>\n",
       "    <tr>\n",
       "      <th>2</th>\n",
       "      <td>3</td>\n",
       "      <td>41865</td>\n",
       "      <td>41865</td>\n",
       "      <td>3212258</td>\n",
       "      <td>226</td>\n",
       "      <td>316015849</td>\n",
       "      <td>9.780316e+12</td>\n",
       "      <td>Stephenie Meyer</td>\n",
       "      <td>2005.0</td>\n",
       "      <td>Twilight</td>\n",
       "      <td>...</td>\n",
       "      <td>0</td>\n",
       "      <td>0</td>\n",
       "      <td>1</td>\n",
       "      <td>0</td>\n",
       "      <td>0</td>\n",
       "      <td>0</td>\n",
       "      <td>0</td>\n",
       "      <td>0</td>\n",
       "      <td>0</td>\n",
       "      <td>1</td>\n",
       "    </tr>\n",
       "    <tr>\n",
       "      <th>3</th>\n",
       "      <td>4</td>\n",
       "      <td>2657</td>\n",
       "      <td>2657</td>\n",
       "      <td>3275794</td>\n",
       "      <td>487</td>\n",
       "      <td>61120081</td>\n",
       "      <td>9.780061e+12</td>\n",
       "      <td>Harper Lee</td>\n",
       "      <td>1960.0</td>\n",
       "      <td>To Kill a Mockingbird</td>\n",
       "      <td>...</td>\n",
       "      <td>0</td>\n",
       "      <td>0</td>\n",
       "      <td>0</td>\n",
       "      <td>0</td>\n",
       "      <td>0</td>\n",
       "      <td>0</td>\n",
       "      <td>0</td>\n",
       "      <td>0</td>\n",
       "      <td>0</td>\n",
       "      <td>1</td>\n",
       "    </tr>\n",
       "    <tr>\n",
       "      <th>4</th>\n",
       "      <td>5</td>\n",
       "      <td>4671</td>\n",
       "      <td>4671</td>\n",
       "      <td>245494</td>\n",
       "      <td>1356</td>\n",
       "      <td>743273567</td>\n",
       "      <td>9.780743e+12</td>\n",
       "      <td>F. Scott Fitzgerald</td>\n",
       "      <td>1925.0</td>\n",
       "      <td>The Great Gatsby</td>\n",
       "      <td>...</td>\n",
       "      <td>1</td>\n",
       "      <td>0</td>\n",
       "      <td>0</td>\n",
       "      <td>0</td>\n",
       "      <td>0</td>\n",
       "      <td>0</td>\n",
       "      <td>0</td>\n",
       "      <td>0</td>\n",
       "      <td>0</td>\n",
       "      <td>1</td>\n",
       "    </tr>\n",
       "    <tr>\n",
       "      <th>...</th>\n",
       "      <td>...</td>\n",
       "      <td>...</td>\n",
       "      <td>...</td>\n",
       "      <td>...</td>\n",
       "      <td>...</td>\n",
       "      <td>...</td>\n",
       "      <td>...</td>\n",
       "      <td>...</td>\n",
       "      <td>...</td>\n",
       "      <td>...</td>\n",
       "      <td>...</td>\n",
       "      <td>...</td>\n",
       "      <td>...</td>\n",
       "      <td>...</td>\n",
       "      <td>...</td>\n",
       "      <td>...</td>\n",
       "      <td>...</td>\n",
       "      <td>...</td>\n",
       "      <td>...</td>\n",
       "      <td>...</td>\n",
       "      <td>...</td>\n",
       "    </tr>\n",
       "    <tr>\n",
       "      <th>9995</th>\n",
       "      <td>9996</td>\n",
       "      <td>7130616</td>\n",
       "      <td>7130616</td>\n",
       "      <td>7392860</td>\n",
       "      <td>19</td>\n",
       "      <td>441019455</td>\n",
       "      <td>9.780441e+12</td>\n",
       "      <td>Ilona Andrews</td>\n",
       "      <td>2010.0</td>\n",
       "      <td>Bayou Moon</td>\n",
       "      <td>...</td>\n",
       "      <td>1</td>\n",
       "      <td>0</td>\n",
       "      <td>0</td>\n",
       "      <td>0</td>\n",
       "      <td>0</td>\n",
       "      <td>0</td>\n",
       "      <td>0</td>\n",
       "      <td>0</td>\n",
       "      <td>0</td>\n",
       "      <td>0</td>\n",
       "    </tr>\n",
       "    <tr>\n",
       "      <th>9996</th>\n",
       "      <td>9997</td>\n",
       "      <td>208324</td>\n",
       "      <td>208324</td>\n",
       "      <td>1084709</td>\n",
       "      <td>19</td>\n",
       "      <td>067973371X</td>\n",
       "      <td>9.780680e+12</td>\n",
       "      <td>Robert A. Caro</td>\n",
       "      <td>1990.0</td>\n",
       "      <td>Means of Ascent</td>\n",
       "      <td>...</td>\n",
       "      <td>0</td>\n",
       "      <td>0</td>\n",
       "      <td>0</td>\n",
       "      <td>0</td>\n",
       "      <td>0</td>\n",
       "      <td>0</td>\n",
       "      <td>0</td>\n",
       "      <td>0</td>\n",
       "      <td>0</td>\n",
       "      <td>0</td>\n",
       "    </tr>\n",
       "    <tr>\n",
       "      <th>9997</th>\n",
       "      <td>9998</td>\n",
       "      <td>77431</td>\n",
       "      <td>77431</td>\n",
       "      <td>2393986</td>\n",
       "      <td>60</td>\n",
       "      <td>039330762X</td>\n",
       "      <td>9.780393e+12</td>\n",
       "      <td>Patrick O'Brian</td>\n",
       "      <td>1977.0</td>\n",
       "      <td>The Mauritius Command</td>\n",
       "      <td>...</td>\n",
       "      <td>0</td>\n",
       "      <td>0</td>\n",
       "      <td>0</td>\n",
       "      <td>0</td>\n",
       "      <td>0</td>\n",
       "      <td>0</td>\n",
       "      <td>0</td>\n",
       "      <td>0</td>\n",
       "      <td>0</td>\n",
       "      <td>0</td>\n",
       "    </tr>\n",
       "    <tr>\n",
       "      <th>9998</th>\n",
       "      <td>9999</td>\n",
       "      <td>8565083</td>\n",
       "      <td>8565083</td>\n",
       "      <td>13433613</td>\n",
       "      <td>7</td>\n",
       "      <td>61711527</td>\n",
       "      <td>9.780062e+12</td>\n",
       "      <td>Peggy Orenstein</td>\n",
       "      <td>2011.0</td>\n",
       "      <td>Cinderella Ate My Daughter: Dispatches from th...</td>\n",
       "      <td>...</td>\n",
       "      <td>0</td>\n",
       "      <td>0</td>\n",
       "      <td>0</td>\n",
       "      <td>0</td>\n",
       "      <td>0</td>\n",
       "      <td>0</td>\n",
       "      <td>0</td>\n",
       "      <td>0</td>\n",
       "      <td>0</td>\n",
       "      <td>0</td>\n",
       "    </tr>\n",
       "    <tr>\n",
       "      <th>9999</th>\n",
       "      <td>10000</td>\n",
       "      <td>8914</td>\n",
       "      <td>8914</td>\n",
       "      <td>11817</td>\n",
       "      <td>31</td>\n",
       "      <td>375700455</td>\n",
       "      <td>9.780376e+12</td>\n",
       "      <td>John Keegan</td>\n",
       "      <td>1998.0</td>\n",
       "      <td>The First World War</td>\n",
       "      <td>...</td>\n",
       "      <td>0</td>\n",
       "      <td>0</td>\n",
       "      <td>0</td>\n",
       "      <td>0</td>\n",
       "      <td>0</td>\n",
       "      <td>0</td>\n",
       "      <td>0</td>\n",
       "      <td>0</td>\n",
       "      <td>0</td>\n",
       "      <td>0</td>\n",
       "    </tr>\n",
       "  </tbody>\n",
       "</table>\n",
       "<p>10000 rows × 65 columns</p>\n",
       "</div>"
      ],
      "text/plain": [
       "      book_id  goodreads_book_id  best_book_id   work_id  books_count  \\\n",
       "0           1            2767052       2767052   2792775          272   \n",
       "1           2                  3             3   4640799          491   \n",
       "2           3              41865         41865   3212258          226   \n",
       "3           4               2657          2657   3275794          487   \n",
       "4           5               4671          4671    245494         1356   \n",
       "...       ...                ...           ...       ...          ...   \n",
       "9995     9996            7130616       7130616   7392860           19   \n",
       "9996     9997             208324        208324   1084709           19   \n",
       "9997     9998              77431         77431   2393986           60   \n",
       "9998     9999            8565083       8565083  13433613            7   \n",
       "9999    10000               8914          8914     11817           31   \n",
       "\n",
       "            isbn        isbn13                      authors  \\\n",
       "0      439023483  9.780439e+12              Suzanne Collins   \n",
       "1      439554934  9.780440e+12  J.K. Rowling, Mary GrandPré   \n",
       "2      316015849  9.780316e+12              Stephenie Meyer   \n",
       "3       61120081  9.780061e+12                   Harper Lee   \n",
       "4      743273567  9.780743e+12          F. Scott Fitzgerald   \n",
       "...          ...           ...                          ...   \n",
       "9995   441019455  9.780441e+12                Ilona Andrews   \n",
       "9996  067973371X  9.780680e+12               Robert A. Caro   \n",
       "9997  039330762X  9.780393e+12              Patrick O'Brian   \n",
       "9998    61711527  9.780062e+12              Peggy Orenstein   \n",
       "9999   375700455  9.780376e+12                  John Keegan   \n",
       "\n",
       "      original_publication_year  \\\n",
       "0                        2008.0   \n",
       "1                        1997.0   \n",
       "2                        2005.0   \n",
       "3                        1960.0   \n",
       "4                        1925.0   \n",
       "...                         ...   \n",
       "9995                     2010.0   \n",
       "9996                     1990.0   \n",
       "9997                     1977.0   \n",
       "9998                     2011.0   \n",
       "9999                     1998.0   \n",
       "\n",
       "                                         original_title  ... Romance  Science  \\\n",
       "0                                      The Hunger Games  ...       1        0   \n",
       "1              Harry Potter and the Philosopher's Stone  ...       0        0   \n",
       "2                                              Twilight  ...       0        0   \n",
       "3                                 To Kill a Mockingbird  ...       0        0   \n",
       "4                                      The Great Gatsby  ...       1        0   \n",
       "...                                                 ...  ...     ...      ...   \n",
       "9995                                         Bayou Moon  ...       1        0   \n",
       "9996                                    Means of Ascent  ...       0        0   \n",
       "9997                              The Mauritius Command  ...       0        0   \n",
       "9998  Cinderella Ate My Daughter: Dispatches from th...  ...       0        0   \n",
       "9999                                The First World War  ...       0        0   \n",
       "\n",
       "      Science Fiction  Self Help  Suspense  Spirituality  Sports  Thriller  \\\n",
       "0                   1          0         1             0       0         1   \n",
       "1                   0          0         0             0       0         0   \n",
       "2                   1          0         0             0       0         0   \n",
       "3                   0          0         0             0       0         0   \n",
       "4                   0          0         0             0       0         0   \n",
       "...               ...        ...       ...           ...     ...       ...   \n",
       "9995                0          0         0             0       0         0   \n",
       "9996                0          0         0             0       0         0   \n",
       "9997                0          0         0             0       0         0   \n",
       "9998                0          0         0             0       0         0   \n",
       "9999                0          0         0             0       0         0   \n",
       "\n",
       "      Travel  Young Adult  \n",
       "0          0            1  \n",
       "1          0            1  \n",
       "2          0            1  \n",
       "3          0            1  \n",
       "4          0            1  \n",
       "...      ...          ...  \n",
       "9995       0            0  \n",
       "9996       0            0  \n",
       "9997       0            0  \n",
       "9998       0            0  \n",
       "9999       0            0  \n",
       "\n",
       "[10000 rows x 65 columns]"
      ]
     },
     "execution_count": 39,
     "metadata": {},
     "output_type": "execute_result"
    }
   ],
   "source": [
    "book_with_genres"
   ]
  },
  {
   "cell_type": "code",
   "execution_count": 71,
   "id": "behavioral-proceeding",
   "metadata": {},
   "outputs": [],
   "source": [
    "#book_with_genres.to_csv('save/book_w_genres.csv', index=False)"
   ]
  },
  {
   "cell_type": "code",
   "execution_count": 40,
   "id": "stupid-tract",
   "metadata": {},
   "outputs": [],
   "source": [
    "book_complete_data = ratings_data.merge(book_with_genres)"
   ]
  },
  {
   "cell_type": "code",
   "execution_count": 41,
   "id": "alternative-noise",
   "metadata": {},
   "outputs": [
    {
     "data": {
      "text/html": [
       "<div>\n",
       "<style scoped>\n",
       "    .dataframe tbody tr th:only-of-type {\n",
       "        vertical-align: middle;\n",
       "    }\n",
       "\n",
       "    .dataframe tbody tr th {\n",
       "        vertical-align: top;\n",
       "    }\n",
       "\n",
       "    .dataframe thead th {\n",
       "        text-align: right;\n",
       "    }\n",
       "</style>\n",
       "<table border=\"1\" class=\"dataframe\">\n",
       "  <thead>\n",
       "    <tr style=\"text-align: right;\">\n",
       "      <th></th>\n",
       "      <th>user_id</th>\n",
       "      <th>book_id</th>\n",
       "      <th>rating</th>\n",
       "      <th>goodreads_book_id</th>\n",
       "      <th>best_book_id</th>\n",
       "      <th>work_id</th>\n",
       "      <th>books_count</th>\n",
       "      <th>isbn</th>\n",
       "      <th>isbn13</th>\n",
       "      <th>authors</th>\n",
       "      <th>...</th>\n",
       "      <th>Romance</th>\n",
       "      <th>Science</th>\n",
       "      <th>Science Fiction</th>\n",
       "      <th>Self Help</th>\n",
       "      <th>Suspense</th>\n",
       "      <th>Spirituality</th>\n",
       "      <th>Sports</th>\n",
       "      <th>Thriller</th>\n",
       "      <th>Travel</th>\n",
       "      <th>Young Adult</th>\n",
       "    </tr>\n",
       "  </thead>\n",
       "  <tbody>\n",
       "    <tr>\n",
       "      <th>0</th>\n",
       "      <td>1</td>\n",
       "      <td>258</td>\n",
       "      <td>5</td>\n",
       "      <td>1232</td>\n",
       "      <td>1232</td>\n",
       "      <td>3209783</td>\n",
       "      <td>279</td>\n",
       "      <td>143034901</td>\n",
       "      <td>9.780143e+12</td>\n",
       "      <td>Carlos Ruiz Zafón, Lucia Graves</td>\n",
       "      <td>...</td>\n",
       "      <td>1</td>\n",
       "      <td>0</td>\n",
       "      <td>0</td>\n",
       "      <td>0</td>\n",
       "      <td>1</td>\n",
       "      <td>0</td>\n",
       "      <td>0</td>\n",
       "      <td>1</td>\n",
       "      <td>0</td>\n",
       "      <td>0</td>\n",
       "    </tr>\n",
       "    <tr>\n",
       "      <th>1</th>\n",
       "      <td>11</td>\n",
       "      <td>258</td>\n",
       "      <td>3</td>\n",
       "      <td>1232</td>\n",
       "      <td>1232</td>\n",
       "      <td>3209783</td>\n",
       "      <td>279</td>\n",
       "      <td>143034901</td>\n",
       "      <td>9.780143e+12</td>\n",
       "      <td>Carlos Ruiz Zafón, Lucia Graves</td>\n",
       "      <td>...</td>\n",
       "      <td>1</td>\n",
       "      <td>0</td>\n",
       "      <td>0</td>\n",
       "      <td>0</td>\n",
       "      <td>1</td>\n",
       "      <td>0</td>\n",
       "      <td>0</td>\n",
       "      <td>1</td>\n",
       "      <td>0</td>\n",
       "      <td>0</td>\n",
       "    </tr>\n",
       "    <tr>\n",
       "      <th>2</th>\n",
       "      <td>143</td>\n",
       "      <td>258</td>\n",
       "      <td>4</td>\n",
       "      <td>1232</td>\n",
       "      <td>1232</td>\n",
       "      <td>3209783</td>\n",
       "      <td>279</td>\n",
       "      <td>143034901</td>\n",
       "      <td>9.780143e+12</td>\n",
       "      <td>Carlos Ruiz Zafón, Lucia Graves</td>\n",
       "      <td>...</td>\n",
       "      <td>1</td>\n",
       "      <td>0</td>\n",
       "      <td>0</td>\n",
       "      <td>0</td>\n",
       "      <td>1</td>\n",
       "      <td>0</td>\n",
       "      <td>0</td>\n",
       "      <td>1</td>\n",
       "      <td>0</td>\n",
       "      <td>0</td>\n",
       "    </tr>\n",
       "    <tr>\n",
       "      <th>3</th>\n",
       "      <td>242</td>\n",
       "      <td>258</td>\n",
       "      <td>5</td>\n",
       "      <td>1232</td>\n",
       "      <td>1232</td>\n",
       "      <td>3209783</td>\n",
       "      <td>279</td>\n",
       "      <td>143034901</td>\n",
       "      <td>9.780143e+12</td>\n",
       "      <td>Carlos Ruiz Zafón, Lucia Graves</td>\n",
       "      <td>...</td>\n",
       "      <td>1</td>\n",
       "      <td>0</td>\n",
       "      <td>0</td>\n",
       "      <td>0</td>\n",
       "      <td>1</td>\n",
       "      <td>0</td>\n",
       "      <td>0</td>\n",
       "      <td>1</td>\n",
       "      <td>0</td>\n",
       "      <td>0</td>\n",
       "    </tr>\n",
       "    <tr>\n",
       "      <th>4</th>\n",
       "      <td>325</td>\n",
       "      <td>258</td>\n",
       "      <td>4</td>\n",
       "      <td>1232</td>\n",
       "      <td>1232</td>\n",
       "      <td>3209783</td>\n",
       "      <td>279</td>\n",
       "      <td>143034901</td>\n",
       "      <td>9.780143e+12</td>\n",
       "      <td>Carlos Ruiz Zafón, Lucia Graves</td>\n",
       "      <td>...</td>\n",
       "      <td>1</td>\n",
       "      <td>0</td>\n",
       "      <td>0</td>\n",
       "      <td>0</td>\n",
       "      <td>1</td>\n",
       "      <td>0</td>\n",
       "      <td>0</td>\n",
       "      <td>1</td>\n",
       "      <td>0</td>\n",
       "      <td>0</td>\n",
       "    </tr>\n",
       "    <tr>\n",
       "      <th>...</th>\n",
       "      <td>...</td>\n",
       "      <td>...</td>\n",
       "      <td>...</td>\n",
       "      <td>...</td>\n",
       "      <td>...</td>\n",
       "      <td>...</td>\n",
       "      <td>...</td>\n",
       "      <td>...</td>\n",
       "      <td>...</td>\n",
       "      <td>...</td>\n",
       "      <td>...</td>\n",
       "      <td>...</td>\n",
       "      <td>...</td>\n",
       "      <td>...</td>\n",
       "      <td>...</td>\n",
       "      <td>...</td>\n",
       "      <td>...</td>\n",
       "      <td>...</td>\n",
       "      <td>...</td>\n",
       "      <td>...</td>\n",
       "      <td>...</td>\n",
       "    </tr>\n",
       "    <tr>\n",
       "      <th>5976474</th>\n",
       "      <td>36773</td>\n",
       "      <td>9548</td>\n",
       "      <td>5</td>\n",
       "      <td>30839185</td>\n",
       "      <td>30839185</td>\n",
       "      <td>51437887</td>\n",
       "      <td>4</td>\n",
       "      <td></td>\n",
       "      <td>NaN</td>\n",
       "      <td>L.J. Shen</td>\n",
       "      <td>...</td>\n",
       "      <td>1</td>\n",
       "      <td>0</td>\n",
       "      <td>0</td>\n",
       "      <td>0</td>\n",
       "      <td>1</td>\n",
       "      <td>0</td>\n",
       "      <td>0</td>\n",
       "      <td>0</td>\n",
       "      <td>0</td>\n",
       "      <td>1</td>\n",
       "    </tr>\n",
       "    <tr>\n",
       "      <th>5976475</th>\n",
       "      <td>50673</td>\n",
       "      <td>9548</td>\n",
       "      <td>4</td>\n",
       "      <td>30839185</td>\n",
       "      <td>30839185</td>\n",
       "      <td>51437887</td>\n",
       "      <td>4</td>\n",
       "      <td></td>\n",
       "      <td>NaN</td>\n",
       "      <td>L.J. Shen</td>\n",
       "      <td>...</td>\n",
       "      <td>1</td>\n",
       "      <td>0</td>\n",
       "      <td>0</td>\n",
       "      <td>0</td>\n",
       "      <td>1</td>\n",
       "      <td>0</td>\n",
       "      <td>0</td>\n",
       "      <td>0</td>\n",
       "      <td>0</td>\n",
       "      <td>1</td>\n",
       "    </tr>\n",
       "    <tr>\n",
       "      <th>5976476</th>\n",
       "      <td>45213</td>\n",
       "      <td>9548</td>\n",
       "      <td>3</td>\n",
       "      <td>30839185</td>\n",
       "      <td>30839185</td>\n",
       "      <td>51437887</td>\n",
       "      <td>4</td>\n",
       "      <td></td>\n",
       "      <td>NaN</td>\n",
       "      <td>L.J. Shen</td>\n",
       "      <td>...</td>\n",
       "      <td>1</td>\n",
       "      <td>0</td>\n",
       "      <td>0</td>\n",
       "      <td>0</td>\n",
       "      <td>1</td>\n",
       "      <td>0</td>\n",
       "      <td>0</td>\n",
       "      <td>0</td>\n",
       "      <td>0</td>\n",
       "      <td>1</td>\n",
       "    </tr>\n",
       "    <tr>\n",
       "      <th>5976477</th>\n",
       "      <td>12872</td>\n",
       "      <td>9548</td>\n",
       "      <td>4</td>\n",
       "      <td>30839185</td>\n",
       "      <td>30839185</td>\n",
       "      <td>51437887</td>\n",
       "      <td>4</td>\n",
       "      <td></td>\n",
       "      <td>NaN</td>\n",
       "      <td>L.J. Shen</td>\n",
       "      <td>...</td>\n",
       "      <td>1</td>\n",
       "      <td>0</td>\n",
       "      <td>0</td>\n",
       "      <td>0</td>\n",
       "      <td>1</td>\n",
       "      <td>0</td>\n",
       "      <td>0</td>\n",
       "      <td>0</td>\n",
       "      <td>0</td>\n",
       "      <td>1</td>\n",
       "    </tr>\n",
       "    <tr>\n",
       "      <th>5976478</th>\n",
       "      <td>46353</td>\n",
       "      <td>9548</td>\n",
       "      <td>5</td>\n",
       "      <td>30839185</td>\n",
       "      <td>30839185</td>\n",
       "      <td>51437887</td>\n",
       "      <td>4</td>\n",
       "      <td></td>\n",
       "      <td>NaN</td>\n",
       "      <td>L.J. Shen</td>\n",
       "      <td>...</td>\n",
       "      <td>1</td>\n",
       "      <td>0</td>\n",
       "      <td>0</td>\n",
       "      <td>0</td>\n",
       "      <td>1</td>\n",
       "      <td>0</td>\n",
       "      <td>0</td>\n",
       "      <td>0</td>\n",
       "      <td>0</td>\n",
       "      <td>1</td>\n",
       "    </tr>\n",
       "  </tbody>\n",
       "</table>\n",
       "<p>5976479 rows × 67 columns</p>\n",
       "</div>"
      ],
      "text/plain": [
       "         user_id  book_id  rating  goodreads_book_id  best_book_id   work_id  \\\n",
       "0              1      258       5               1232          1232   3209783   \n",
       "1             11      258       3               1232          1232   3209783   \n",
       "2            143      258       4               1232          1232   3209783   \n",
       "3            242      258       5               1232          1232   3209783   \n",
       "4            325      258       4               1232          1232   3209783   \n",
       "...          ...      ...     ...                ...           ...       ...   \n",
       "5976474    36773     9548       5           30839185      30839185  51437887   \n",
       "5976475    50673     9548       4           30839185      30839185  51437887   \n",
       "5976476    45213     9548       3           30839185      30839185  51437887   \n",
       "5976477    12872     9548       4           30839185      30839185  51437887   \n",
       "5976478    46353     9548       5           30839185      30839185  51437887   \n",
       "\n",
       "         books_count       isbn        isbn13  \\\n",
       "0                279  143034901  9.780143e+12   \n",
       "1                279  143034901  9.780143e+12   \n",
       "2                279  143034901  9.780143e+12   \n",
       "3                279  143034901  9.780143e+12   \n",
       "4                279  143034901  9.780143e+12   \n",
       "...              ...        ...           ...   \n",
       "5976474            4                      NaN   \n",
       "5976475            4                      NaN   \n",
       "5976476            4                      NaN   \n",
       "5976477            4                      NaN   \n",
       "5976478            4                      NaN   \n",
       "\n",
       "                                 authors  ...  Romance Science  \\\n",
       "0        Carlos Ruiz Zafón, Lucia Graves  ...        1       0   \n",
       "1        Carlos Ruiz Zafón, Lucia Graves  ...        1       0   \n",
       "2        Carlos Ruiz Zafón, Lucia Graves  ...        1       0   \n",
       "3        Carlos Ruiz Zafón, Lucia Graves  ...        1       0   \n",
       "4        Carlos Ruiz Zafón, Lucia Graves  ...        1       0   \n",
       "...                                  ...  ...      ...     ...   \n",
       "5976474                        L.J. Shen  ...        1       0   \n",
       "5976475                        L.J. Shen  ...        1       0   \n",
       "5976476                        L.J. Shen  ...        1       0   \n",
       "5976477                        L.J. Shen  ...        1       0   \n",
       "5976478                        L.J. Shen  ...        1       0   \n",
       "\n",
       "        Science Fiction  Self Help  Suspense  Spirituality  Sports  Thriller  \\\n",
       "0                     0          0         1             0       0         1   \n",
       "1                     0          0         1             0       0         1   \n",
       "2                     0          0         1             0       0         1   \n",
       "3                     0          0         1             0       0         1   \n",
       "4                     0          0         1             0       0         1   \n",
       "...                 ...        ...       ...           ...     ...       ...   \n",
       "5976474               0          0         1             0       0         0   \n",
       "5976475               0          0         1             0       0         0   \n",
       "5976476               0          0         1             0       0         0   \n",
       "5976477               0          0         1             0       0         0   \n",
       "5976478               0          0         1             0       0         0   \n",
       "\n",
       "         Travel  Young Adult  \n",
       "0             0            0  \n",
       "1             0            0  \n",
       "2             0            0  \n",
       "3             0            0  \n",
       "4             0            0  \n",
       "...         ...          ...  \n",
       "5976474       0            1  \n",
       "5976475       0            1  \n",
       "5976476       0            1  \n",
       "5976477       0            1  \n",
       "5976478       0            1  \n",
       "\n",
       "[5976479 rows x 67 columns]"
      ]
     },
     "execution_count": 41,
     "metadata": {},
     "output_type": "execute_result"
    }
   ],
   "source": [
    "book_complete_data"
   ]
  },
  {
   "cell_type": "code",
   "execution_count": 69,
   "id": "excited-dylan",
   "metadata": {},
   "outputs": [],
   "source": [
    "#book_complete_data.to_csv('save/book_complete.csv', index=False)"
   ]
  },
  {
   "cell_type": "markdown",
   "id": "lovely-worth",
   "metadata": {},
   "source": [
    "### Handling strings and missing data"
   ]
  },
  {
   "cell_type": "code",
   "execution_count": 1,
   "id": "humanitarian-reunion",
   "metadata": {},
   "outputs": [],
   "source": [
    "from fastai.tabular.all import *"
   ]
  },
  {
   "cell_type": "code",
   "execution_count": 43,
   "id": "vital-fifty",
   "metadata": {},
   "outputs": [],
   "source": [
    "procs = [Categorify, FillMissing]"
   ]
  },
  {
   "cell_type": "code",
   "execution_count": 44,
   "id": "novel-institute",
   "metadata": {},
   "outputs": [],
   "source": [
    "dep_var = 'rating'"
   ]
  },
  {
   "cell_type": "code",
   "execution_count": 45,
   "id": "immune-magazine",
   "metadata": {},
   "outputs": [],
   "source": [
    "continuous, categorical = cont_cat_split(book_complete_data, 2, dep_var=dep_var)"
   ]
  },
  {
   "cell_type": "code",
   "execution_count": 46,
   "id": "reliable-aging",
   "metadata": {},
   "outputs": [
    {
     "data": {
      "text/plain": [
       "['user_id',\n",
       " 'book_id',\n",
       " 'goodreads_book_id',\n",
       " 'best_book_id',\n",
       " 'work_id',\n",
       " 'books_count',\n",
       " 'isbn13',\n",
       " 'original_publication_year',\n",
       " 'average_rating',\n",
       " 'ratings_count',\n",
       " 'work_ratings_count',\n",
       " 'work_text_reviews_count',\n",
       " 'ratings_1',\n",
       " 'ratings_2',\n",
       " 'ratings_3',\n",
       " 'ratings_4',\n",
       " 'ratings_5']"
      ]
     },
     "execution_count": 46,
     "metadata": {},
     "output_type": "execute_result"
    }
   ],
   "source": [
    "continuous"
   ]
  },
  {
   "cell_type": "code",
   "execution_count": 47,
   "id": "precious-dutch",
   "metadata": {},
   "outputs": [
    {
     "data": {
      "text/plain": [
       "['isbn',\n",
       " 'authors',\n",
       " 'original_title',\n",
       " 'language_code',\n",
       " 'image_url',\n",
       " 'small_image_url',\n",
       " 'title',\n",
       " 'series',\n",
       " 'volume_number',\n",
       " 'Art',\n",
       " 'Biography',\n",
       " 'Business',\n",
       " 'Chick Lit',\n",
       " \"Children's\",\n",
       " 'Christian',\n",
       " 'Classics',\n",
       " 'Comics',\n",
       " 'Contemporary',\n",
       " 'Cookbooks',\n",
       " 'Crime',\n",
       " 'Ebooks',\n",
       " 'Fantasy',\n",
       " 'Fiction',\n",
       " 'Gay and Lesbian',\n",
       " 'Graphic Novels',\n",
       " 'Historical Fiction',\n",
       " 'History',\n",
       " 'Horror',\n",
       " 'Humor and Comedy',\n",
       " 'Manga',\n",
       " 'Memoir',\n",
       " 'Music',\n",
       " 'Mystery',\n",
       " 'Nonfiction',\n",
       " 'Paranormal',\n",
       " 'Philosophy',\n",
       " 'Poetry',\n",
       " 'Psychology',\n",
       " 'Religion',\n",
       " 'Romance',\n",
       " 'Science',\n",
       " 'Science Fiction',\n",
       " 'Self Help',\n",
       " 'Suspense',\n",
       " 'Spirituality',\n",
       " 'Sports',\n",
       " 'Thriller',\n",
       " 'Travel',\n",
       " 'Young Adult']"
      ]
     },
     "execution_count": 47,
     "metadata": {},
     "output_type": "execute_result"
    }
   ],
   "source": [
    "categorical"
   ]
  },
  {
   "cell_type": "code",
   "execution_count": 49,
   "id": "charitable-haven",
   "metadata": {},
   "outputs": [],
   "source": [
    "msk = np.random.rand(len(book_complete_data)) < 0.3 # Only 10% for training for now (just to try out stuff)\n",
    "train_idx = np.where(msk)[0]\n",
    "valid_idx = np.where(~msk)[0]\n",
    "splits = (list(train_idx), list(valid_idx))"
   ]
  },
  {
   "cell_type": "code",
   "execution_count": 50,
   "id": "driving-twins",
   "metadata": {},
   "outputs": [],
   "source": [
    "book_tab = TabularPandas(book_complete_data, procs, categorical, continuous, y_names=dep_var, splits=splits)"
   ]
  },
  {
   "cell_type": "code",
   "execution_count": 51,
   "id": "visible-chancellor",
   "metadata": {},
   "outputs": [
    {
     "data": {
      "text/plain": [
       "(598375, 5378104)"
      ]
     },
     "execution_count": 51,
     "metadata": {},
     "output_type": "execute_result"
    }
   ],
   "source": [
    "len(book_tab.train), len(book_tab.valid)"
   ]
  },
  {
   "cell_type": "code",
   "execution_count": 52,
   "id": "impaired-cradle",
   "metadata": {},
   "outputs": [
    {
     "data": {
      "text/html": [
       "<table border=\"1\" class=\"dataframe\">\n",
       "  <thead>\n",
       "    <tr style=\"text-align: right;\">\n",
       "      <th></th>\n",
       "      <th>isbn</th>\n",
       "      <th>authors</th>\n",
       "      <th>original_title</th>\n",
       "      <th>language_code</th>\n",
       "      <th>image_url</th>\n",
       "      <th>small_image_url</th>\n",
       "      <th>title</th>\n",
       "      <th>series</th>\n",
       "      <th>volume_number</th>\n",
       "      <th>Art</th>\n",
       "      <th>Biography</th>\n",
       "      <th>Business</th>\n",
       "      <th>Chick Lit</th>\n",
       "      <th>Children's</th>\n",
       "      <th>Christian</th>\n",
       "      <th>Classics</th>\n",
       "      <th>Comics</th>\n",
       "      <th>Contemporary</th>\n",
       "      <th>Cookbooks</th>\n",
       "      <th>Crime</th>\n",
       "      <th>Ebooks</th>\n",
       "      <th>Fantasy</th>\n",
       "      <th>Fiction</th>\n",
       "      <th>Gay and Lesbian</th>\n",
       "      <th>Graphic Novels</th>\n",
       "      <th>Historical Fiction</th>\n",
       "      <th>History</th>\n",
       "      <th>Horror</th>\n",
       "      <th>Humor and Comedy</th>\n",
       "      <th>Manga</th>\n",
       "      <th>Memoir</th>\n",
       "      <th>Music</th>\n",
       "      <th>Mystery</th>\n",
       "      <th>Nonfiction</th>\n",
       "      <th>Paranormal</th>\n",
       "      <th>Philosophy</th>\n",
       "      <th>Poetry</th>\n",
       "      <th>Psychology</th>\n",
       "      <th>Religion</th>\n",
       "      <th>Romance</th>\n",
       "      <th>Science</th>\n",
       "      <th>Science Fiction</th>\n",
       "      <th>Self Help</th>\n",
       "      <th>Suspense</th>\n",
       "      <th>Spirituality</th>\n",
       "      <th>Sports</th>\n",
       "      <th>Thriller</th>\n",
       "      <th>Travel</th>\n",
       "      <th>Young Adult</th>\n",
       "      <th>isbn13_na</th>\n",
       "      <th>original_publication_year_na</th>\n",
       "      <th>user_id</th>\n",
       "      <th>book_id</th>\n",
       "      <th>goodreads_book_id</th>\n",
       "      <th>best_book_id</th>\n",
       "      <th>work_id</th>\n",
       "      <th>books_count</th>\n",
       "      <th>isbn13</th>\n",
       "      <th>original_publication_year</th>\n",
       "      <th>average_rating</th>\n",
       "      <th>ratings_count</th>\n",
       "      <th>work_ratings_count</th>\n",
       "      <th>work_text_reviews_count</th>\n",
       "      <th>ratings_1</th>\n",
       "      <th>ratings_2</th>\n",
       "      <th>ratings_3</th>\n",
       "      <th>ratings_4</th>\n",
       "      <th>ratings_5</th>\n",
       "      <th>rating</th>\n",
       "    </tr>\n",
       "  </thead>\n",
       "  <tbody>\n",
       "    <tr>\n",
       "      <th>15</th>\n",
       "      <td>143034901</td>\n",
       "      <td>Carlos Ruiz Zafón, Lucia Graves</td>\n",
       "      <td>La sombra del viento</td>\n",
       "      <td>eng</td>\n",
       "      <td>https://images.gr-assets.com/books/1344545047m/1232.jpg</td>\n",
       "      <td>https://images.gr-assets.com/books/1344545047s/1232.jpg</td>\n",
       "      <td>The Shadow of the Wind (The Cemetery of Forgotten Books,  #1)</td>\n",
       "      <td>#na#</td>\n",
       "      <td>1</td>\n",
       "      <td>0</td>\n",
       "      <td>0</td>\n",
       "      <td>0</td>\n",
       "      <td>0</td>\n",
       "      <td>0</td>\n",
       "      <td>0</td>\n",
       "      <td>1</td>\n",
       "      <td>0</td>\n",
       "      <td>1</td>\n",
       "      <td>0</td>\n",
       "      <td>1</td>\n",
       "      <td>1</td>\n",
       "      <td>1</td>\n",
       "      <td>1</td>\n",
       "      <td>0</td>\n",
       "      <td>0</td>\n",
       "      <td>1</td>\n",
       "      <td>1</td>\n",
       "      <td>0</td>\n",
       "      <td>0</td>\n",
       "      <td>0</td>\n",
       "      <td>0</td>\n",
       "      <td>0</td>\n",
       "      <td>1</td>\n",
       "      <td>0</td>\n",
       "      <td>0</td>\n",
       "      <td>0</td>\n",
       "      <td>0</td>\n",
       "      <td>0</td>\n",
       "      <td>0</td>\n",
       "      <td>1</td>\n",
       "      <td>0</td>\n",
       "      <td>0</td>\n",
       "      <td>0</td>\n",
       "      <td>1</td>\n",
       "      <td>0</td>\n",
       "      <td>0</td>\n",
       "      <td>1</td>\n",
       "      <td>0</td>\n",
       "      <td>0</td>\n",
       "      <td>False</td>\n",
       "      <td>False</td>\n",
       "      <td>493</td>\n",
       "      <td>258</td>\n",
       "      <td>1232</td>\n",
       "      <td>1232</td>\n",
       "      <td>3209783</td>\n",
       "      <td>279</td>\n",
       "      <td>9.780143e+12</td>\n",
       "      <td>2001.0</td>\n",
       "      <td>4.24</td>\n",
       "      <td>263685</td>\n",
       "      <td>317554</td>\n",
       "      <td>24652</td>\n",
       "      <td>4789</td>\n",
       "      <td>11769</td>\n",
       "      <td>42214</td>\n",
       "      <td>101612</td>\n",
       "      <td>157170</td>\n",
       "      <td>1</td>\n",
       "    </tr>\n",
       "    <tr>\n",
       "      <th>17</th>\n",
       "      <td>143034901</td>\n",
       "      <td>Carlos Ruiz Zafón, Lucia Graves</td>\n",
       "      <td>La sombra del viento</td>\n",
       "      <td>eng</td>\n",
       "      <td>https://images.gr-assets.com/books/1344545047m/1232.jpg</td>\n",
       "      <td>https://images.gr-assets.com/books/1344545047s/1232.jpg</td>\n",
       "      <td>The Shadow of the Wind (The Cemetery of Forgotten Books,  #1)</td>\n",
       "      <td>#na#</td>\n",
       "      <td>1</td>\n",
       "      <td>0</td>\n",
       "      <td>0</td>\n",
       "      <td>0</td>\n",
       "      <td>0</td>\n",
       "      <td>0</td>\n",
       "      <td>0</td>\n",
       "      <td>1</td>\n",
       "      <td>0</td>\n",
       "      <td>1</td>\n",
       "      <td>0</td>\n",
       "      <td>1</td>\n",
       "      <td>1</td>\n",
       "      <td>1</td>\n",
       "      <td>1</td>\n",
       "      <td>0</td>\n",
       "      <td>0</td>\n",
       "      <td>1</td>\n",
       "      <td>1</td>\n",
       "      <td>0</td>\n",
       "      <td>0</td>\n",
       "      <td>0</td>\n",
       "      <td>0</td>\n",
       "      <td>0</td>\n",
       "      <td>1</td>\n",
       "      <td>0</td>\n",
       "      <td>0</td>\n",
       "      <td>0</td>\n",
       "      <td>0</td>\n",
       "      <td>0</td>\n",
       "      <td>0</td>\n",
       "      <td>1</td>\n",
       "      <td>0</td>\n",
       "      <td>0</td>\n",
       "      <td>0</td>\n",
       "      <td>1</td>\n",
       "      <td>0</td>\n",
       "      <td>0</td>\n",
       "      <td>1</td>\n",
       "      <td>0</td>\n",
       "      <td>0</td>\n",
       "      <td>False</td>\n",
       "      <td>False</td>\n",
       "      <td>1252</td>\n",
       "      <td>258</td>\n",
       "      <td>1232</td>\n",
       "      <td>1232</td>\n",
       "      <td>3209783</td>\n",
       "      <td>279</td>\n",
       "      <td>9.780143e+12</td>\n",
       "      <td>2001.0</td>\n",
       "      <td>4.24</td>\n",
       "      <td>263685</td>\n",
       "      <td>317554</td>\n",
       "      <td>24652</td>\n",
       "      <td>4789</td>\n",
       "      <td>11769</td>\n",
       "      <td>42214</td>\n",
       "      <td>101612</td>\n",
       "      <td>157170</td>\n",
       "      <td>5</td>\n",
       "    </tr>\n",
       "    <tr>\n",
       "      <th>28</th>\n",
       "      <td>143034901</td>\n",
       "      <td>Carlos Ruiz Zafón, Lucia Graves</td>\n",
       "      <td>La sombra del viento</td>\n",
       "      <td>eng</td>\n",
       "      <td>https://images.gr-assets.com/books/1344545047m/1232.jpg</td>\n",
       "      <td>https://images.gr-assets.com/books/1344545047s/1232.jpg</td>\n",
       "      <td>The Shadow of the Wind (The Cemetery of Forgotten Books,  #1)</td>\n",
       "      <td>#na#</td>\n",
       "      <td>1</td>\n",
       "      <td>0</td>\n",
       "      <td>0</td>\n",
       "      <td>0</td>\n",
       "      <td>0</td>\n",
       "      <td>0</td>\n",
       "      <td>0</td>\n",
       "      <td>1</td>\n",
       "      <td>0</td>\n",
       "      <td>1</td>\n",
       "      <td>0</td>\n",
       "      <td>1</td>\n",
       "      <td>1</td>\n",
       "      <td>1</td>\n",
       "      <td>1</td>\n",
       "      <td>0</td>\n",
       "      <td>0</td>\n",
       "      <td>1</td>\n",
       "      <td>1</td>\n",
       "      <td>0</td>\n",
       "      <td>0</td>\n",
       "      <td>0</td>\n",
       "      <td>0</td>\n",
       "      <td>0</td>\n",
       "      <td>1</td>\n",
       "      <td>0</td>\n",
       "      <td>0</td>\n",
       "      <td>0</td>\n",
       "      <td>0</td>\n",
       "      <td>0</td>\n",
       "      <td>0</td>\n",
       "      <td>1</td>\n",
       "      <td>0</td>\n",
       "      <td>0</td>\n",
       "      <td>0</td>\n",
       "      <td>1</td>\n",
       "      <td>0</td>\n",
       "      <td>0</td>\n",
       "      <td>1</td>\n",
       "      <td>0</td>\n",
       "      <td>0</td>\n",
       "      <td>False</td>\n",
       "      <td>False</td>\n",
       "      <td>1843</td>\n",
       "      <td>258</td>\n",
       "      <td>1232</td>\n",
       "      <td>1232</td>\n",
       "      <td>3209783</td>\n",
       "      <td>279</td>\n",
       "      <td>9.780143e+12</td>\n",
       "      <td>2001.0</td>\n",
       "      <td>4.24</td>\n",
       "      <td>263685</td>\n",
       "      <td>317554</td>\n",
       "      <td>24652</td>\n",
       "      <td>4789</td>\n",
       "      <td>11769</td>\n",
       "      <td>42214</td>\n",
       "      <td>101612</td>\n",
       "      <td>157170</td>\n",
       "      <td>5</td>\n",
       "    </tr>\n",
       "  </tbody>\n",
       "</table>"
      ],
      "text/plain": [
       "<IPython.core.display.HTML object>"
      ]
     },
     "metadata": {},
     "output_type": "display_data"
    }
   ],
   "source": [
    "book_tab.show(3)"
   ]
  },
  {
   "cell_type": "code",
   "execution_count": 53,
   "id": "flexible-address",
   "metadata": {},
   "outputs": [
    {
     "data": {
      "text/html": [
       "<div>\n",
       "<style scoped>\n",
       "    .dataframe tbody tr th:only-of-type {\n",
       "        vertical-align: middle;\n",
       "    }\n",
       "\n",
       "    .dataframe tbody tr th {\n",
       "        vertical-align: top;\n",
       "    }\n",
       "\n",
       "    .dataframe thead th {\n",
       "        text-align: right;\n",
       "    }\n",
       "</style>\n",
       "<table border=\"1\" class=\"dataframe\">\n",
       "  <thead>\n",
       "    <tr style=\"text-align: right;\">\n",
       "      <th></th>\n",
       "      <th>user_id</th>\n",
       "      <th>book_id</th>\n",
       "      <th>rating</th>\n",
       "      <th>goodreads_book_id</th>\n",
       "      <th>best_book_id</th>\n",
       "      <th>work_id</th>\n",
       "      <th>books_count</th>\n",
       "      <th>isbn</th>\n",
       "      <th>isbn13</th>\n",
       "      <th>authors</th>\n",
       "      <th>...</th>\n",
       "      <th>Science Fiction</th>\n",
       "      <th>Self Help</th>\n",
       "      <th>Suspense</th>\n",
       "      <th>Spirituality</th>\n",
       "      <th>Sports</th>\n",
       "      <th>Thriller</th>\n",
       "      <th>Travel</th>\n",
       "      <th>Young Adult</th>\n",
       "      <th>isbn13_na</th>\n",
       "      <th>original_publication_year_na</th>\n",
       "    </tr>\n",
       "  </thead>\n",
       "  <tbody>\n",
       "    <tr>\n",
       "      <th>15</th>\n",
       "      <td>493</td>\n",
       "      <td>258</td>\n",
       "      <td>1</td>\n",
       "      <td>1232</td>\n",
       "      <td>1232</td>\n",
       "      <td>3209783</td>\n",
       "      <td>279</td>\n",
       "      <td>1640</td>\n",
       "      <td>9.780143e+12</td>\n",
       "      <td>642</td>\n",
       "      <td>...</td>\n",
       "      <td>1</td>\n",
       "      <td>1</td>\n",
       "      <td>2</td>\n",
       "      <td>1</td>\n",
       "      <td>1</td>\n",
       "      <td>2</td>\n",
       "      <td>1</td>\n",
       "      <td>1</td>\n",
       "      <td>1</td>\n",
       "      <td>1</td>\n",
       "    </tr>\n",
       "    <tr>\n",
       "      <th>17</th>\n",
       "      <td>1252</td>\n",
       "      <td>258</td>\n",
       "      <td>5</td>\n",
       "      <td>1232</td>\n",
       "      <td>1232</td>\n",
       "      <td>3209783</td>\n",
       "      <td>279</td>\n",
       "      <td>1640</td>\n",
       "      <td>9.780143e+12</td>\n",
       "      <td>642</td>\n",
       "      <td>...</td>\n",
       "      <td>1</td>\n",
       "      <td>1</td>\n",
       "      <td>2</td>\n",
       "      <td>1</td>\n",
       "      <td>1</td>\n",
       "      <td>2</td>\n",
       "      <td>1</td>\n",
       "      <td>1</td>\n",
       "      <td>1</td>\n",
       "      <td>1</td>\n",
       "    </tr>\n",
       "    <tr>\n",
       "      <th>28</th>\n",
       "      <td>1843</td>\n",
       "      <td>258</td>\n",
       "      <td>5</td>\n",
       "      <td>1232</td>\n",
       "      <td>1232</td>\n",
       "      <td>3209783</td>\n",
       "      <td>279</td>\n",
       "      <td>1640</td>\n",
       "      <td>9.780143e+12</td>\n",
       "      <td>642</td>\n",
       "      <td>...</td>\n",
       "      <td>1</td>\n",
       "      <td>1</td>\n",
       "      <td>2</td>\n",
       "      <td>1</td>\n",
       "      <td>1</td>\n",
       "      <td>2</td>\n",
       "      <td>1</td>\n",
       "      <td>1</td>\n",
       "      <td>1</td>\n",
       "      <td>1</td>\n",
       "    </tr>\n",
       "  </tbody>\n",
       "</table>\n",
       "<p>3 rows × 69 columns</p>\n",
       "</div>"
      ],
      "text/plain": [
       "    user_id  book_id  rating  goodreads_book_id  best_book_id  work_id  \\\n",
       "15      493      258       1               1232          1232  3209783   \n",
       "17     1252      258       5               1232          1232  3209783   \n",
       "28     1843      258       5               1232          1232  3209783   \n",
       "\n",
       "    books_count  isbn        isbn13  authors  ...  Science Fiction  Self Help  \\\n",
       "15          279  1640  9.780143e+12      642  ...                1          1   \n",
       "17          279  1640  9.780143e+12      642  ...                1          1   \n",
       "28          279  1640  9.780143e+12      642  ...                1          1   \n",
       "\n",
       "    Suspense  Spirituality  Sports  Thriller  Travel  Young Adult  isbn13_na  \\\n",
       "15         2             1       1         2       1            1          1   \n",
       "17         2             1       1         2       1            1          1   \n",
       "28         2             1       1         2       1            1          1   \n",
       "\n",
       "    original_publication_year_na  \n",
       "15                             1  \n",
       "17                             1  \n",
       "28                             1  \n",
       "\n",
       "[3 rows x 69 columns]"
      ]
     },
     "execution_count": 53,
     "metadata": {},
     "output_type": "execute_result"
    }
   ],
   "source": [
    "book_tab.items.head(3)"
   ]
  },
  {
   "cell_type": "markdown",
   "id": "gothic-juvenile",
   "metadata": {},
   "source": [
    "Under the hood, everything is numerical"
   ]
  },
  {
   "cell_type": "code",
   "execution_count": 2,
   "id": "coated-illustration",
   "metadata": {},
   "outputs": [],
   "source": [
    "save_path = Path()/'save/book_tab_30.pkl'"
   ]
  },
  {
   "cell_type": "code",
   "execution_count": 55,
   "id": "plain-merit",
   "metadata": {},
   "outputs": [],
   "source": [
    "#save_pickle(save_path, book_tab)"
   ]
  },
  {
   "cell_type": "markdown",
   "id": "needed-connecticut",
   "metadata": {},
   "source": [
    "### Creating the Random Forest"
   ]
  },
  {
   "cell_type": "code",
   "execution_count": 3,
   "id": "architectural-pursuit",
   "metadata": {},
   "outputs": [],
   "source": [
    "#book_tab = load_pickle(save_path)"
   ]
  },
  {
   "cell_type": "code",
   "execution_count": 4,
   "id": "viral-trauma",
   "metadata": {},
   "outputs": [],
   "source": [
    "from sklearn.ensemble import RandomForestRegressor"
   ]
  },
  {
   "cell_type": "code",
   "execution_count": 5,
   "id": "willing-elite",
   "metadata": {},
   "outputs": [],
   "source": [
    "def rf(xs, y, n_estimators=40, max_samples=100_000,\n",
    "       max_features=0.5, min_samples_leaf=15, **kwargs):\n",
    "    return RandomForestRegressor(n_jobs=-1, n_estimators=n_estimators,\n",
    "        max_samples=max_samples, max_features=max_features,\n",
    "        min_samples_leaf=min_samples_leaf, oob_score=True, random_state=42).fit(xs, y)"
   ]
  },
  {
   "cell_type": "code",
   "execution_count": 6,
   "id": "abstract-orientation",
   "metadata": {},
   "outputs": [],
   "source": [
    "xs, y = book_tab.train.xs, book_tab.train.y\n",
    "valid_xs, valid_y = book_tab.valid.xs, book_tab.valid.y"
   ]
  },
  {
   "cell_type": "code",
   "execution_count": 8,
   "id": "sensitive-assets",
   "metadata": {},
   "outputs": [],
   "source": [
    "m = rf(xs, y)"
   ]
  },
  {
   "cell_type": "code",
   "execution_count": 7,
   "id": "confused-shopping",
   "metadata": {},
   "outputs": [],
   "source": [
    "from sklearn.metrics import mean_squared_error as mse"
   ]
  },
  {
   "cell_type": "code",
   "execution_count": 8,
   "id": "excessive-bacteria",
   "metadata": {},
   "outputs": [],
   "source": [
    "def m_mse(model, xs, y): return mse(y, m.predict(xs))"
   ]
  },
  {
   "cell_type": "code",
   "execution_count": 11,
   "id": "unauthorized-organizer",
   "metadata": {},
   "outputs": [
    {
     "data": {
      "text/plain": [
       "(0.891656186367123, 0.907484106430971)"
      ]
     },
     "execution_count": 11,
     "metadata": {},
     "output_type": "execute_result"
    }
   ],
   "source": [
    "m_mse(m, xs, y), m_mse(m, valid_xs, valid_y)"
   ]
  },
  {
   "cell_type": "markdown",
   "id": "minimal-monitor",
   "metadata": {},
   "source": [
    "Not bad. Let's take a look at the most important variables."
   ]
  },
  {
   "cell_type": "code",
   "execution_count": 52,
   "id": "swedish-remedy",
   "metadata": {},
   "outputs": [],
   "source": [
    "def rf_feat_importance(m, df):\n",
    "    return pd.DataFrame({'cols':df.columns, 'imp':m.feature_importances_}\n",
    "                       ).sort_values('imp', ascending=False)"
   ]
  },
  {
   "cell_type": "code",
   "execution_count": 13,
   "id": "experienced-consultation",
   "metadata": {},
   "outputs": [
    {
     "data": {
      "text/html": [
       "<div>\n",
       "<style scoped>\n",
       "    .dataframe tbody tr th:only-of-type {\n",
       "        vertical-align: middle;\n",
       "    }\n",
       "\n",
       "    .dataframe tbody tr th {\n",
       "        vertical-align: top;\n",
       "    }\n",
       "\n",
       "    .dataframe thead th {\n",
       "        text-align: right;\n",
       "    }\n",
       "</style>\n",
       "<table border=\"1\" class=\"dataframe\">\n",
       "  <thead>\n",
       "    <tr style=\"text-align: right;\">\n",
       "      <th></th>\n",
       "      <th>cols</th>\n",
       "      <th>imp</th>\n",
       "    </tr>\n",
       "  </thead>\n",
       "  <tbody>\n",
       "    <tr>\n",
       "      <th>59</th>\n",
       "      <td>average_rating</td>\n",
       "      <td>0.292464</td>\n",
       "    </tr>\n",
       "    <tr>\n",
       "      <th>51</th>\n",
       "      <td>user_id</td>\n",
       "      <td>0.216222</td>\n",
       "    </tr>\n",
       "    <tr>\n",
       "      <th>0</th>\n",
       "      <td>isbn</td>\n",
       "      <td>0.026474</td>\n",
       "    </tr>\n",
       "    <tr>\n",
       "      <th>1</th>\n",
       "      <td>authors</td>\n",
       "      <td>0.026304</td>\n",
       "    </tr>\n",
       "    <tr>\n",
       "      <th>63</th>\n",
       "      <td>ratings_1</td>\n",
       "      <td>0.024457</td>\n",
       "    </tr>\n",
       "    <tr>\n",
       "      <th>55</th>\n",
       "      <td>work_id</td>\n",
       "      <td>0.024266</td>\n",
       "    </tr>\n",
       "    <tr>\n",
       "      <th>6</th>\n",
       "      <td>title</td>\n",
       "      <td>0.024026</td>\n",
       "    </tr>\n",
       "    <tr>\n",
       "      <th>56</th>\n",
       "      <td>books_count</td>\n",
       "      <td>0.023156</td>\n",
       "    </tr>\n",
       "    <tr>\n",
       "      <th>62</th>\n",
       "      <td>work_text_reviews_count</td>\n",
       "      <td>0.023007</td>\n",
       "    </tr>\n",
       "    <tr>\n",
       "      <th>67</th>\n",
       "      <td>ratings_5</td>\n",
       "      <td>0.022867</td>\n",
       "    </tr>\n",
       "    <tr>\n",
       "      <th>2</th>\n",
       "      <td>original_title</td>\n",
       "      <td>0.022832</td>\n",
       "    </tr>\n",
       "    <tr>\n",
       "      <th>64</th>\n",
       "      <td>ratings_2</td>\n",
       "      <td>0.020657</td>\n",
       "    </tr>\n",
       "    <tr>\n",
       "      <th>57</th>\n",
       "      <td>isbn13</td>\n",
       "      <td>0.020379</td>\n",
       "    </tr>\n",
       "    <tr>\n",
       "      <th>54</th>\n",
       "      <td>best_book_id</td>\n",
       "      <td>0.020216</td>\n",
       "    </tr>\n",
       "    <tr>\n",
       "      <th>53</th>\n",
       "      <td>goodreads_book_id</td>\n",
       "      <td>0.019628</td>\n",
       "    </tr>\n",
       "    <tr>\n",
       "      <th>58</th>\n",
       "      <td>original_publication_year</td>\n",
       "      <td>0.017757</td>\n",
       "    </tr>\n",
       "    <tr>\n",
       "      <th>66</th>\n",
       "      <td>ratings_4</td>\n",
       "      <td>0.016366</td>\n",
       "    </tr>\n",
       "    <tr>\n",
       "      <th>52</th>\n",
       "      <td>book_id</td>\n",
       "      <td>0.015919</td>\n",
       "    </tr>\n",
       "    <tr>\n",
       "      <th>5</th>\n",
       "      <td>small_image_url</td>\n",
       "      <td>0.015760</td>\n",
       "    </tr>\n",
       "    <tr>\n",
       "      <th>65</th>\n",
       "      <td>ratings_3</td>\n",
       "      <td>0.015449</td>\n",
       "    </tr>\n",
       "  </tbody>\n",
       "</table>\n",
       "</div>"
      ],
      "text/plain": [
       "                         cols       imp\n",
       "59             average_rating  0.292464\n",
       "51                    user_id  0.216222\n",
       "0                        isbn  0.026474\n",
       "1                     authors  0.026304\n",
       "63                  ratings_1  0.024457\n",
       "55                    work_id  0.024266\n",
       "6                       title  0.024026\n",
       "56                books_count  0.023156\n",
       "62    work_text_reviews_count  0.023007\n",
       "67                  ratings_5  0.022867\n",
       "2              original_title  0.022832\n",
       "64                  ratings_2  0.020657\n",
       "57                     isbn13  0.020379\n",
       "54               best_book_id  0.020216\n",
       "53          goodreads_book_id  0.019628\n",
       "58  original_publication_year  0.017757\n",
       "66                  ratings_4  0.016366\n",
       "52                    book_id  0.015919\n",
       "5             small_image_url  0.015760\n",
       "65                  ratings_3  0.015449"
      ]
     },
     "execution_count": 13,
     "metadata": {},
     "output_type": "execute_result"
    }
   ],
   "source": [
    "rf_feat_importance(m, xs)[:20]"
   ]
  },
  {
   "cell_type": "markdown",
   "id": "weekly-pierre",
   "metadata": {},
   "source": [
    "Some columns such as average_rating, ratings_1 etc. seem to be very important.\n",
    "Not sure if this is considered data leakage but for our rating prediction, **this won't generalize well** (new books won't have many ratings etc.)\n",
    "Therefore we will remove them."
   ]
  },
  {
   "cell_type": "code",
   "execution_count": 9,
   "id": "romantic-match",
   "metadata": {},
   "outputs": [],
   "source": [
    "reg = re.compile('.*rating.*')\n",
    "indep_var = [v for v in xs.columns if not reg.match(v)]\n",
    "\n",
    "xs = xs[indep_var]\n",
    "valid_xs = valid_xs[indep_var]"
   ]
  },
  {
   "cell_type": "code",
   "execution_count": 15,
   "id": "bearing-bones",
   "metadata": {},
   "outputs": [],
   "source": [
    "m = rf(xs, y)"
   ]
  },
  {
   "cell_type": "code",
   "execution_count": 16,
   "id": "amazing-filename",
   "metadata": {},
   "outputs": [
    {
     "data": {
      "text/plain": [
       "(0.8998591937612521, 0.9148011044442642)"
      ]
     },
     "execution_count": 16,
     "metadata": {},
     "output_type": "execute_result"
    }
   ],
   "source": [
    "m_mse(m, xs, y), m_mse(m, valid_xs, valid_y)"
   ]
  },
  {
   "cell_type": "markdown",
   "id": "matched-recipient",
   "metadata": {},
   "source": [
    "Around the same results (a bit worse)."
   ]
  },
  {
   "cell_type": "code",
   "execution_count": 17,
   "id": "blank-liechtenstein",
   "metadata": {},
   "outputs": [
    {
     "data": {
      "text/plain": [
       "Index(['isbn', 'authors', 'original_title', 'language_code', 'image_url',\n",
       "       'small_image_url', 'title', 'series', 'volume_number', 'Art',\n",
       "       'Biography', 'Business', 'Chick Lit', 'Children's', 'Christian',\n",
       "       'Classics', 'Comics', 'Contemporary', 'Cookbooks', 'Crime', 'Ebooks',\n",
       "       'Fantasy', 'Fiction', 'Gay and Lesbian', 'Graphic Novels',\n",
       "       'Historical Fiction', 'History', 'Horror', 'Humor and Comedy', 'Manga',\n",
       "       'Memoir', 'Music', 'Mystery', 'Nonfiction', 'Paranormal', 'Philosophy',\n",
       "       'Poetry', 'Psychology', 'Religion', 'Romance', 'Science',\n",
       "       'Science Fiction', 'Self Help', 'Suspense', 'Spirituality', 'Sports',\n",
       "       'Thriller', 'Travel', 'Young Adult', 'isbn13_na',\n",
       "       'original_publication_year_na', 'user_id', 'book_id',\n",
       "       'goodreads_book_id', 'best_book_id', 'work_id', 'books_count', 'isbn13',\n",
       "       'original_publication_year', 'work_text_reviews_count'],\n",
       "      dtype='object')"
      ]
     },
     "execution_count": 17,
     "metadata": {},
     "output_type": "execute_result"
    }
   ],
   "source": [
    "xs.columns"
   ]
  },
  {
   "cell_type": "markdown",
   "id": "continental-recall",
   "metadata": {},
   "source": [
    "We have a bunch of id columns that mean around the same thing. Let's only keep the book_id, see how it goes."
   ]
  },
  {
   "cell_type": "code",
   "execution_count": 22,
   "id": "catholic-kitchen",
   "metadata": {},
   "outputs": [
    {
     "data": {
      "text/plain": [
       "(10000, 10000, 10000, 9301, 9738)"
      ]
     },
     "execution_count": 22,
     "metadata": {},
     "output_type": "execute_result"
    }
   ],
   "source": [
    "len(book_data.work_id.unique()), len(book_data.goodreads_book_id.unique()), len(book_data.best_book_id.unique()), len(book_data.isbn.unique()), len(book_data.isbn13.unique()) + book_data.isbn13.isna().sum() - 1"
   ]
  },
  {
   "cell_type": "markdown",
   "id": "armed-consciousness",
   "metadata": {},
   "source": [
    "I don't know why isbn and isbn13 are not entirely unique but I will still remove them."
   ]
  },
  {
   "cell_type": "code",
   "execution_count": 10,
   "id": "consecutive-walter",
   "metadata": {},
   "outputs": [],
   "source": [
    "to_drop = ['work_id', 'goodreads_book_id', 'best_book_id', 'isbn', 'isbn13', 'isbn13_na']"
   ]
  },
  {
   "cell_type": "code",
   "execution_count": 24,
   "id": "addressed-monster",
   "metadata": {},
   "outputs": [
    {
     "data": {
      "text/plain": [
       "(0.9010342313772932, 0.9153944810279022)"
      ]
     },
     "execution_count": 24,
     "metadata": {},
     "output_type": "execute_result"
    }
   ],
   "source": [
    "m = rf(xs.drop(to_drop, axis=1), y)\n",
    "m_mse(m, xs.drop(to_drop, axis=1), y), m_mse(m, valid_xs.drop(to_drop, axis=1), valid_y)"
   ]
  },
  {
   "cell_type": "code",
   "execution_count": 11,
   "id": "colonial-attitude",
   "metadata": {},
   "outputs": [],
   "source": [
    "xs = xs.drop(to_drop, axis=1)\n",
    "valid_xs = valid_xs.drop(to_drop, axis=1)"
   ]
  },
  {
   "cell_type": "markdown",
   "id": "played-cooling",
   "metadata": {},
   "source": [
    "Again, not much of a drop and our model is simpler to use at inference time."
   ]
  },
  {
   "cell_type": "markdown",
   "id": "christian-alfred",
   "metadata": {},
   "source": [
    "**We already have a better model than our baseline**"
   ]
  },
  {
   "cell_type": "markdown",
   "id": "solved-confusion",
   "metadata": {},
   "source": [
    "### Keeping the important features"
   ]
  },
  {
   "cell_type": "code",
   "execution_count": 26,
   "id": "generous-scroll",
   "metadata": {},
   "outputs": [],
   "source": [
    "imp = rf_feat_importance(m, xs)"
   ]
  },
  {
   "cell_type": "code",
   "execution_count": 27,
   "id": "grateful-journalism",
   "metadata": {},
   "outputs": [
    {
     "data": {
      "image/png": "[encoded data removed]",
      "text/plain": [
       "<Figure size 864x1080 with 1 Axes>"
      ]
     },
     "metadata": {
      "needs_background": "light"
     },
     "output_type": "display_data"
    }
   ],
   "source": [
    "def plot_fi(fi):\n",
    "    return fi.plot('cols', 'imp', 'barh', figsize=(12,15), legend=False)\n",
    "\n",
    "plot_fi(imp);"
   ]
  },
  {
   "cell_type": "code",
   "execution_count": 28,
   "id": "certified-bangkok",
   "metadata": {},
   "outputs": [
    {
     "data": {
      "text/plain": [
       "54"
      ]
     },
     "execution_count": 28,
     "metadata": {},
     "output_type": "execute_result"
    }
   ],
   "source": [
    "len(xs.columns)"
   ]
  },
  {
   "cell_type": "markdown",
   "id": "naughty-copying",
   "metadata": {},
   "source": [
    "We have 54 features for now, let's see if we can reduce this."
   ]
  },
  {
   "cell_type": "code",
   "execution_count": 29,
   "id": "cosmetic-transaction",
   "metadata": {},
   "outputs": [
    {
     "name": "stdout",
     "output_type": "stream",
     "text": [
      "CPU times: user 1h 42min 41s, sys: 2min 4s, total: 1h 44min 45s\n",
      "Wall time: 21min 29s\n"
     ]
    }
   ],
   "source": [
    "%%time\n",
    "\n",
    "importances = np.arange(0.001, 0.01, step = 0.0001)\n",
    "scores = []\n",
    "nb_cols = []\n",
    "\n",
    "for importance in importances:\n",
    "    to_keep = imp[imp.imp > importance].cols\n",
    "    len(to_keep), len(imp.cols)\n",
    "    xs_imp = xs[to_keep]\n",
    "    valid_xs_imp = valid_xs[to_keep]\n",
    "    nb_cols.append(len(xs_imp.columns))\n",
    "    m = rf(xs_imp, y)\n",
    "    score = m_mse(m, xs_imp, y), m_mse(m, valid_xs_imp, valid_y)\n",
    "    scores.append(score[1])"
   ]
  },
  {
   "cell_type": "code",
   "execution_count": 30,
   "id": "standing-mexico",
   "metadata": {},
   "outputs": [],
   "source": [
    "order = np.argsort(scores)"
   ]
  },
  {
   "cell_type": "code",
   "execution_count": 31,
   "id": "efficient-compound",
   "metadata": {},
   "outputs": [
    {
     "data": {
      "text/plain": [
       "array([0.001 , 0.0011, 0.0012, 0.0013, 0.0014, 0.0027, 0.0023, 0.0021,\n",
       "       0.002 , 0.0022, 0.0019, 0.0016, 0.0015, 0.0018, 0.0017, 0.0024,\n",
       "       0.0025, 0.0039, 0.0044, 0.0043, 0.0042, 0.0041, 0.004 , 0.0038,\n",
       "       0.0026, 0.0045, 0.0031, 0.0035, 0.0029, 0.0037, 0.0034, 0.0033,\n",
       "       0.0032, 0.0036, 0.003 , 0.0028, 0.0046, 0.0047, 0.0048, 0.0049,\n",
       "       0.0058, 0.0057, 0.0056, 0.0055, 0.0054, 0.0053, 0.0052, 0.005 ,\n",
       "       0.0051, 0.0062, 0.0061, 0.0063, 0.0059, 0.006 , 0.0064, 0.0071,\n",
       "       0.0065, 0.0066, 0.0067, 0.0068, 0.0069, 0.007 , 0.0076, 0.0077,\n",
       "       0.0072, 0.0074, 0.0075, 0.0073, 0.0095, 0.0094, 0.0093, 0.0092,\n",
       "       0.0091, 0.009 , 0.0089, 0.0088, 0.0087, 0.0086, 0.0084, 0.0083,\n",
       "       0.0082, 0.0081, 0.008 , 0.0079, 0.0078, 0.0085, 0.0098, 0.0096,\n",
       "       0.0097, 0.0099])"
      ]
     },
     "execution_count": 31,
     "metadata": {},
     "output_type": "execute_result"
    }
   ],
   "source": [
    "importances[order]"
   ]
  },
  {
   "cell_type": "code",
   "execution_count": 32,
   "id": "successful-thing",
   "metadata": {},
   "outputs": [
    {
     "data": {
      "text/plain": [
       "array([0.91549716, 0.91549716, 0.91549716, 0.91549716, 0.91549716,\n",
       "       0.91553948, 0.91557127, 0.91557127, 0.91557127, 0.91557127,\n",
       "       0.91557127, 0.91562159, 0.9156826 , 0.91569515, 0.91569515,\n",
       "       0.91574632, 0.91574632, 0.91574899, 0.91574899, 0.91574899,\n",
       "       0.91574899, 0.91574899, 0.91574899, 0.91574899, 0.91575091,\n",
       "       0.9158592 , 0.91586882, 0.91586882, 0.91586882, 0.91586882,\n",
       "       0.91586882, 0.91586882, 0.91586882, 0.91586882, 0.91586882,\n",
       "       0.91592495, 0.91595043, 0.91595043, 0.91595043, 0.91598621,\n",
       "       0.91605177, 0.91605177, 0.91634649, 0.91634649, 0.91634649,\n",
       "       0.91634649, 0.91634649, 0.91634649, 0.91634649, 0.91651318,\n",
       "       0.91651318, 0.91651318, 0.91651318, 0.91651318, 0.91659603,\n",
       "       0.91690904, 0.91690904, 0.91690904, 0.91690904, 0.91690904,\n",
       "       0.91690904, 0.91690904, 0.91708493, 0.91708493, 0.91708493,\n",
       "       0.91708493, 0.91708493, 0.91708493, 0.91715077, 0.91715077,\n",
       "       0.91715077, 0.91715077, 0.91715077, 0.91715077, 0.91715077,\n",
       "       0.91715077, 0.91715077, 0.91715077, 0.91715077, 0.91715077,\n",
       "       0.91715077, 0.91715077, 0.91715077, 0.91715077, 0.91715077,\n",
       "       0.91715077, 0.91768268, 0.91768268, 0.91768268, 0.91768268])"
      ]
     },
     "execution_count": 32,
     "metadata": {},
     "output_type": "execute_result"
    }
   ],
   "source": [
    "np.array(scores)[order]"
   ]
  },
  {
   "cell_type": "code",
   "execution_count": 33,
   "id": "likely-infection",
   "metadata": {},
   "outputs": [
    {
     "data": {
      "text/plain": [
       "array([45, 45, 45, 45, 45, 33, 36, 36, 36, 36, 36, 42, 44, 39, 39, 35, 35,\n",
       "       30, 30, 30, 30, 30, 30, 30, 34, 29, 31, 31, 31, 31, 31, 31, 31, 31,\n",
       "       31, 32, 28, 28, 28, 26, 22, 22, 23, 23, 23, 23, 23, 23, 23, 21, 21,\n",
       "       21, 21, 21, 20, 18, 18, 18, 18, 18, 18, 18, 17, 17, 17, 17, 17, 17,\n",
       "       16, 16, 16, 16, 16, 16, 16, 16, 16, 16, 16, 16, 16, 16, 16, 16, 16,\n",
       "       16, 15, 15, 15, 15])"
      ]
     },
     "execution_count": 33,
     "metadata": {},
     "output_type": "execute_result"
    }
   ],
   "source": [
    "np.array(nb_cols)[order]"
   ]
  },
  {
   "cell_type": "code",
   "execution_count": 52,
   "id": "fatal-hearts",
   "metadata": {},
   "outputs": [],
   "source": [
    "considerations = np.where(np.array(scores)[order] >= 0.916)[0][:3]"
   ]
  },
  {
   "cell_type": "code",
   "execution_count": 53,
   "id": "consolidated-adventure",
   "metadata": {},
   "outputs": [
    {
     "data": {
      "text/plain": [
       "array([0.91605177, 0.91605177, 0.91634649])"
      ]
     },
     "execution_count": 53,
     "metadata": {},
     "output_type": "execute_result"
    }
   ],
   "source": [
    "np.array(scores)[order][considerations]"
   ]
  },
  {
   "cell_type": "code",
   "execution_count": 54,
   "id": "aware-indie",
   "metadata": {},
   "outputs": [
    {
     "data": {
      "text/plain": [
       "array([0.0058, 0.0057, 0.0056])"
      ]
     },
     "execution_count": 54,
     "metadata": {},
     "output_type": "execute_result"
    }
   ],
   "source": [
    "importances[order][considerations]"
   ]
  },
  {
   "cell_type": "code",
   "execution_count": 55,
   "id": "refined-columbia",
   "metadata": {},
   "outputs": [
    {
     "data": {
      "text/plain": [
       "array([22, 22, 23])"
      ]
     },
     "execution_count": 55,
     "metadata": {},
     "output_type": "execute_result"
    }
   ],
   "source": [
    "np.array(nb_cols)[order][considerations]"
   ]
  },
  {
   "cell_type": "markdown",
   "id": "linear-diploma",
   "metadata": {},
   "source": [
    "I think the 0.0058 cut-off is a good tradeoff between model simplicity (22 features) and performance."
   ]
  },
  {
   "cell_type": "code",
   "execution_count": 56,
   "id": "electrical-samoa",
   "metadata": {},
   "outputs": [],
   "source": [
    "to_keep = imp[imp.imp > 0.0058].cols\n",
    "xs_imp = xs[to_keep]\n",
    "valid_xs_imp = valid_xs[to_keep]"
   ]
  },
  {
   "cell_type": "code",
   "execution_count": 57,
   "id": "civic-nelson",
   "metadata": {},
   "outputs": [
    {
     "data": {
      "text/plain": [
       "(0.9018481104556828, 0.9160517671691011)"
      ]
     },
     "execution_count": 57,
     "metadata": {},
     "output_type": "execute_result"
    }
   ],
   "source": [
    "m = rf(xs_imp, y)\n",
    "m_mse(m, xs_imp, y), m_mse(m, valid_xs_imp, valid_y)"
   ]
  },
  {
   "cell_type": "code",
   "execution_count": 58,
   "id": "strategic-underground",
   "metadata": {},
   "outputs": [
    {
     "data": {
      "image/png": "[encoded data removed]",
      "text/plain": [
       "<Figure size 864x1080 with 1 Axes>"
      ]
     },
     "metadata": {
      "needs_background": "light"
     },
     "output_type": "display_data"
    }
   ],
   "source": [
    "plot_fi(rf_feat_importance(m, xs_imp));"
   ]
  },
  {
   "cell_type": "code",
   "execution_count": 61,
   "id": "structured-watts",
   "metadata": {},
   "outputs": [],
   "source": [
    "#xs_imp.columns.to_frame().to_csv('save/important_features.csv', index=False)"
   ]
  },
  {
   "cell_type": "code",
   "execution_count": 19,
   "id": "competent-peoples",
   "metadata": {},
   "outputs": [],
   "source": [
    "#keep = pd.read_csv('save/important_features.csv')['0']\n",
    "#xs_imp = xs[keep]\n",
    "#valid_xs_imp = valid_xs[keep]"
   ]
  },
  {
   "cell_type": "markdown",
   "id": "surgical-dynamics",
   "metadata": {},
   "source": [
    "We removed lots of genres. I thought that some less popular genres were underreprenseted considering the fact I use 30% of the data for training and baggings of only 40 trees with 100 000 bootstrapped samples.\n",
    "\n",
    "To check if I didn't remove anything too crazy, I retrained with no bootstraps the same size as the training set and using the validation set (70% of the data)."
   ]
  },
  {
   "cell_type": "code",
   "execution_count": 21,
   "id": "boolean-employer",
   "metadata": {},
   "outputs": [
    {
     "data": {
      "text/plain": [
       "(0.9378334164954757, 0.8084376219387532)"
      ]
     },
     "execution_count": 21,
     "metadata": {},
     "output_type": "execute_result"
    }
   ],
   "source": [
    "m = rf(valid_xs_imp, valid_y, max_samples=None)\n",
    "m_mse(m, xs_imp, y), m_mse(m, valid_xs_imp, valid_y)"
   ]
  },
  {
   "cell_type": "code",
   "execution_count": 22,
   "id": "listed-sterling",
   "metadata": {},
   "outputs": [
    {
     "data": {
      "text/plain": [
       "(0.936724016889222, 0.8077387176633147)"
      ]
     },
     "execution_count": 22,
     "metadata": {},
     "output_type": "execute_result"
    }
   ],
   "source": [
    "m = rf(valid_xs, valid_y, max_samples=None)\n",
    "m_mse(m, xs, y), m_mse(m, valid_xs, valid_y)"
   ]
  },
  {
   "cell_type": "markdown",
   "id": "foster-honor",
   "metadata": {},
   "source": [
    "Remember now the validation set is our previous training set.\n",
    "We have very slightly worse MSE using only the important features, so we can keep them as is."
   ]
  },
  {
   "cell_type": "markdown",
   "id": "empirical-apple",
   "metadata": {},
   "source": [
    "We are left with a few very well-known genres and some meta information about the book."
   ]
  },
  {
   "cell_type": "markdown",
   "id": "descending-terrorist",
   "metadata": {},
   "source": [
    "### Similar columns"
   ]
  },
  {
   "cell_type": "code",
   "execution_count": 23,
   "id": "persistent-sister",
   "metadata": {},
   "outputs": [],
   "source": [
    "from scipy.cluster import hierarchy as hc"
   ]
  },
  {
   "cell_type": "code",
   "execution_count": 24,
   "id": "competent-humanity",
   "metadata": {},
   "outputs": [],
   "source": [
    "def cluster_columns(df, figsize=(15,15), font_size=12):\n",
    "    corr = np.round(scipy.stats.spearmanr(df).correlation, 4)\n",
    "    corr_condensed = hc.distance.squareform(1-corr)\n",
    "    z = hc.linkage(corr_condensed, method='average')\n",
    "    fig = plt.figure(figsize=figsize)\n",
    "    hc.dendrogram(z, labels=df.columns, orientation='left', leaf_font_size=font_size)\n",
    "    plt.show()"
   ]
  },
  {
   "cell_type": "code",
   "execution_count": 25,
   "id": "available-couple",
   "metadata": {},
   "outputs": [
    {
     "data": {
      "image/png": "[encoded data removed]",
      "text/plain": [
       "<Figure size 1080x1080 with 1 Axes>"
      ]
     },
     "metadata": {
      "needs_background": "light"
     },
     "output_type": "display_data"
    }
   ],
   "source": [
    "cluster_columns(xs_imp)"
   ]
  },
  {
   "cell_type": "markdown",
   "id": "aggregate-fault",
   "metadata": {},
   "source": [
    "Small_image_url and image_url, volume_number and series, title and original title are pretty similar in their behavior.\n",
    "Let's see what happens if we remove one of each pair."
   ]
  },
  {
   "cell_type": "code",
   "execution_count": 28,
   "id": "synthetic-master",
   "metadata": {},
   "outputs": [],
   "source": [
    "def get_oob(df):\n",
    "    m = RandomForestRegressor(n_estimators=40, min_samples_leaf=15,\n",
    "        max_samples=50000, max_features=0.5, n_jobs=-1, oob_score=True, random_state=42)\n",
    "    m.fit(df, y)\n",
    "    return m.oob_score_"
   ]
  },
  {
   "cell_type": "markdown",
   "id": "approved-omega",
   "metadata": {},
   "source": [
    "oob_score_ is the same as R² metric. 1 is good (perfect model, explains 100% of the variance in the dependent variable), 0 is bad (no variance explained at all)."
   ]
  },
  {
   "cell_type": "code",
   "execution_count": 29,
   "id": "wrong-courtesy",
   "metadata": {},
   "outputs": [
    {
     "data": {
      "text/plain": [
       "0.06205837648613244"
      ]
     },
     "execution_count": 29,
     "metadata": {},
     "output_type": "execute_result"
    }
   ],
   "source": [
    "get_oob(xs_imp)"
   ]
  },
  {
   "cell_type": "markdown",
   "id": "stone-cinema",
   "metadata": {},
   "source": [
    "Well that is not a great R² score. Meaning our model is either false or doesn't explain much of the variance in the dependent variable."
   ]
  },
  {
   "cell_type": "code",
   "execution_count": 30,
   "id": "addressed-species",
   "metadata": {},
   "outputs": [
    {
     "data": {
      "text/plain": [
       "{'small_image_url': 0.06186073609483034,\n",
       " 'image_url': 0.06186073609483034,\n",
       " 'title': 0.06182451504816133,\n",
       " 'original_title': 0.061881995856606364,\n",
       " 'volume_number': 0.061306470896700827,\n",
       " 'series': 0.061779038256912444}"
      ]
     },
     "execution_count": 30,
     "metadata": {},
     "output_type": "execute_result"
    }
   ],
   "source": [
    "{c: get_oob(xs_imp.drop(c , axis=1)) for c in (\n",
    "    'small_image_url', 'image_url',\n",
    "    'title', 'original_title',\n",
    "    'volume_number', 'series',\n",
    ")}"
   ]
  },
  {
   "cell_type": "markdown",
   "id": "lyric-sixth",
   "metadata": {},
   "source": [
    "Let's see what droping small_image_url, original_title, series does to the R² score."
   ]
  },
  {
   "cell_type": "code",
   "execution_count": 35,
   "id": "forty-charleston",
   "metadata": {},
   "outputs": [
    {
     "data": {
      "text/plain": [
       "0.06158538289406179"
      ]
     },
     "execution_count": 35,
     "metadata": {},
     "output_type": "execute_result"
    }
   ],
   "source": [
    "to_drop = ['small_image_url', 'original_title', 'series']\n",
    "get_oob(xs_imp.drop(to_drop, axis=1))"
   ]
  },
  {
   "cell_type": "code",
   "execution_count": 36,
   "id": "returning-scientist",
   "metadata": {},
   "outputs": [
    {
     "data": {
      "text/plain": [
       "(0.9029268559842787, 0.9172389893679362)"
      ]
     },
     "execution_count": 36,
     "metadata": {},
     "output_type": "execute_result"
    }
   ],
   "source": [
    "m = rf(xs_imp.drop(to_drop, axis=1), y)\n",
    "m_mse(m, xs_imp.drop(to_drop, axis=1), y), m_mse(m, valid_xs_imp.drop(to_drop, axis=1), valid_y)"
   ]
  },
  {
   "cell_type": "markdown",
   "id": "elder-spyware",
   "metadata": {},
   "source": [
    "I feel like dropping series resolves in an important loss of information. Let's see if keeping it makes things better."
   ]
  },
  {
   "cell_type": "code",
   "execution_count": 37,
   "id": "canadian-sterling",
   "metadata": {},
   "outputs": [
    {
     "data": {
      "text/plain": [
       "0.061878241208393026"
      ]
     },
     "execution_count": 37,
     "metadata": {},
     "output_type": "execute_result"
    }
   ],
   "source": [
    "to_drop.remove('series')\n",
    "get_oob(xs_imp.drop(to_drop, axis=1))"
   ]
  },
  {
   "cell_type": "code",
   "execution_count": 38,
   "id": "controlling-sport",
   "metadata": {},
   "outputs": [
    {
     "data": {
      "text/plain": [
       "(0.9024575402362844, 0.9168282339740588)"
      ]
     },
     "execution_count": 38,
     "metadata": {},
     "output_type": "execute_result"
    }
   ],
   "source": [
    "m = rf(xs_imp.drop(to_drop, axis=1), y)\n",
    "m_mse(m, xs_imp.drop(to_drop, axis=1), y), m_mse(m, valid_xs_imp.drop(to_drop, axis=1), valid_y)"
   ]
  },
  {
   "cell_type": "markdown",
   "id": "genuine-biology",
   "metadata": {},
   "source": [
    "Doesn't change much keeping it, so I'll remove it.\n",
    "\n",
    "Also Ebooks isn't a genre and shouldn't be here, so I'll drop it."
   ]
  },
  {
   "cell_type": "code",
   "execution_count": 59,
   "id": "medical-premises",
   "metadata": {},
   "outputs": [],
   "source": [
    "to_drop += ['series', 'Ebooks']"
   ]
  },
  {
   "cell_type": "code",
   "execution_count": 60,
   "id": "careful-harbor",
   "metadata": {},
   "outputs": [],
   "source": [
    "xs_final = xs_imp.drop(to_drop, axis=1)\n",
    "valid_xs_final = valid_xs_imp.drop(to_drop, axis=1)"
   ]
  },
  {
   "cell_type": "code",
   "execution_count": 71,
   "id": "ordinary-proof",
   "metadata": {},
   "outputs": [
    {
     "data": {
      "text/plain": [
       "(0.902641825277883, 0.9169493563012246)"
      ]
     },
     "execution_count": 71,
     "metadata": {},
     "output_type": "execute_result"
    }
   ],
   "source": [
    "m = rf(xs_final, y)\n",
    "m_mse(m, xs_final, y), m_mse(m, valid_xs_final, valid_y)"
   ]
  },
  {
   "cell_type": "code",
   "execution_count": 72,
   "id": "historical-conclusion",
   "metadata": {},
   "outputs": [],
   "source": [
    "#save_pickle('save/rf_simple_0_916.pkl', m)"
   ]
  },
  {
   "cell_type": "code",
   "execution_count": 61,
   "id": "mediterranean-original",
   "metadata": {},
   "outputs": [],
   "source": [
    "#xs_final.columns.to_series().to_csv('save/final_features.csv', index=False, header=False)"
   ]
  },
  {
   "cell_type": "markdown",
   "id": "filled-alcohol",
   "metadata": {},
   "source": [
    "Let's evaluate the model on the validation set with more trees and bigger samples see what we can get."
   ]
  },
  {
   "cell_type": "code",
   "execution_count": 63,
   "id": "present-hartford",
   "metadata": {},
   "outputs": [
    {
     "data": {
      "text/plain": [
       "(0.9362375162117882, 0.8067073452351634)"
      ]
     },
     "execution_count": 63,
     "metadata": {},
     "output_type": "execute_result"
    }
   ],
   "source": [
    "m = rf(valid_xs_final, valid_y, n_estimators=100, max_samples=None)\n",
    "m_mse(m, xs_final, y), m_mse(m, valid_xs_final, valid_y)"
   ]
  },
  {
   "cell_type": "markdown",
   "id": "velvet-behavior",
   "metadata": {},
   "source": [
    "Weirdly we have worse performance than our simpler model."
   ]
  },
  {
   "cell_type": "code",
   "execution_count": 65,
   "id": "charming-bronze",
   "metadata": {},
   "outputs": [
    {
     "data": {
      "image/png": "[encoded data removed]",
      "text/plain": [
       "<Figure size 864x1080 with 1 Axes>"
      ]
     },
     "metadata": {
      "needs_background": "light"
     },
     "output_type": "display_data"
    }
   ],
   "source": [
    "plot_fi(rf_feat_importance(m, xs_final));"
   ]
  },
  {
   "cell_type": "code",
   "execution_count": 70,
   "id": "collective-respondent",
   "metadata": {},
   "outputs": [],
   "source": [
    "#save_pickle('save/rf_complex_0_936.pkl', m)"
   ]
  },
  {
   "cell_type": "markdown",
   "id": "proof-singer",
   "metadata": {},
   "source": [
    "I think we are done removing redundant or irrelevant columns."
   ]
  },
  {
   "cell_type": "code",
   "execution_count": 69,
   "id": "radio-norway",
   "metadata": {},
   "outputs": [
    {
     "data": {
      "text/plain": [
       "(18, 69)"
      ]
     },
     "execution_count": 69,
     "metadata": {},
     "output_type": "execute_result"
    }
   ],
   "source": [
    "len(xs_final.columns), len(book_tab.all_col_names)"
   ]
  },
  {
   "cell_type": "markdown",
   "id": "first-drive",
   "metadata": {},
   "source": [
    "### Further feature engineering"
   ]
  },
  {
   "cell_type": "code",
   "execution_count": 83,
   "id": "orange-identity",
   "metadata": {},
   "outputs": [
    {
     "data": {
      "text/html": [
       "<div>\n",
       "<style scoped>\n",
       "    .dataframe tbody tr th:only-of-type {\n",
       "        vertical-align: middle;\n",
       "    }\n",
       "\n",
       "    .dataframe tbody tr th {\n",
       "        vertical-align: top;\n",
       "    }\n",
       "\n",
       "    .dataframe thead th {\n",
       "        text-align: right;\n",
       "    }\n",
       "</style>\n",
       "<table border=\"1\" class=\"dataframe\">\n",
       "  <thead>\n",
       "    <tr style=\"text-align: right;\">\n",
       "      <th></th>\n",
       "      <th>title</th>\n",
       "      <th>original_title</th>\n",
       "    </tr>\n",
       "  </thead>\n",
       "  <tbody>\n",
       "    <tr>\n",
       "      <th>0</th>\n",
       "      <td>The Hunger Games (The Hunger Games, #1)</td>\n",
       "      <td>The Hunger Games</td>\n",
       "    </tr>\n",
       "    <tr>\n",
       "      <th>1</th>\n",
       "      <td>Harry Potter and the Sorcerer's Stone (Harry Potter, #1)</td>\n",
       "      <td>Harry Potter and the Philosopher's Stone</td>\n",
       "    </tr>\n",
       "    <tr>\n",
       "      <th>2</th>\n",
       "      <td>Twilight (Twilight, #1)</td>\n",
       "      <td>Twilight</td>\n",
       "    </tr>\n",
       "    <tr>\n",
       "      <th>3</th>\n",
       "      <td>To Kill a Mockingbird</td>\n",
       "      <td>To Kill a Mockingbird</td>\n",
       "    </tr>\n",
       "    <tr>\n",
       "      <th>4</th>\n",
       "      <td>The Great Gatsby</td>\n",
       "      <td>The Great Gatsby</td>\n",
       "    </tr>\n",
       "    <tr>\n",
       "      <th>...</th>\n",
       "      <td>...</td>\n",
       "      <td>...</td>\n",
       "    </tr>\n",
       "    <tr>\n",
       "      <th>9995</th>\n",
       "      <td>Bayou Moon (The Edge, #2)</td>\n",
       "      <td>Bayou Moon</td>\n",
       "    </tr>\n",
       "    <tr>\n",
       "      <th>9996</th>\n",
       "      <td>Means of Ascent (The Years of Lyndon Johnson, #2)</td>\n",
       "      <td>Means of Ascent</td>\n",
       "    </tr>\n",
       "    <tr>\n",
       "      <th>9997</th>\n",
       "      <td>The Mauritius Command</td>\n",
       "      <td>The Mauritius Command</td>\n",
       "    </tr>\n",
       "    <tr>\n",
       "      <th>9998</th>\n",
       "      <td>Cinderella Ate My Daughter: Dispatches from the Frontlines of the New Girlie-Girl Culture</td>\n",
       "      <td>Cinderella Ate My Daughter: Dispatches from the Frontlines of the New Girlie-Girl Culture</td>\n",
       "    </tr>\n",
       "    <tr>\n",
       "      <th>9999</th>\n",
       "      <td>The First World War</td>\n",
       "      <td>The First World War</td>\n",
       "    </tr>\n",
       "  </tbody>\n",
       "</table>\n",
       "<p>10000 rows × 2 columns</p>\n",
       "</div>"
      ],
      "text/plain": [
       "                                                                                          title  \\\n",
       "0                                                       The Hunger Games (The Hunger Games, #1)   \n",
       "1                                      Harry Potter and the Sorcerer's Stone (Harry Potter, #1)   \n",
       "2                                                                       Twilight (Twilight, #1)   \n",
       "3                                                                         To Kill a Mockingbird   \n",
       "4                                                                              The Great Gatsby   \n",
       "...                                                                                         ...   \n",
       "9995                                                                  Bayou Moon (The Edge, #2)   \n",
       "9996                                          Means of Ascent (The Years of Lyndon Johnson, #2)   \n",
       "9997                                                                      The Mauritius Command   \n",
       "9998  Cinderella Ate My Daughter: Dispatches from the Frontlines of the New Girlie-Girl Culture   \n",
       "9999                                                                        The First World War   \n",
       "\n",
       "                                                                                 original_title  \n",
       "0                                                                              The Hunger Games  \n",
       "1                                                      Harry Potter and the Philosopher's Stone  \n",
       "2                                                                                      Twilight  \n",
       "3                                                                         To Kill a Mockingbird  \n",
       "4                                                                              The Great Gatsby  \n",
       "...                                                                                         ...  \n",
       "9995                                                                                 Bayou Moon  \n",
       "9996                                                                            Means of Ascent  \n",
       "9997                                                                      The Mauritius Command  \n",
       "9998  Cinderella Ate My Daughter: Dispatches from the Frontlines of the New Girlie-Girl Culture  \n",
       "9999                                                                        The First World War  \n",
       "\n",
       "[10000 rows x 2 columns]"
      ]
     },
     "execution_count": 83,
     "metadata": {},
     "output_type": "execute_result"
    }
   ],
   "source": [
    "book_data[['title', 'original_title']]"
   ]
  },
  {
   "cell_type": "markdown",
   "id": "varying-seattle",
   "metadata": {},
   "source": [
    "Seems like the title is basically the title + the series + the volume in this series.\n",
    "\n",
    "Let's see if we can split into features:\n",
    "- the title\n",
    "- the series\n",
    "- the volume number (1 for those not in a series? To be debated)"
   ]
  },
  {
   "cell_type": "markdown",
   "id": "reduced-fifth",
   "metadata": {},
   "source": [
    "# Image"
   ]
  },
  {
   "cell_type": "code",
   "execution_count": 66,
   "id": "killing-apparatus",
   "metadata": {},
   "outputs": [],
   "source": [
    "xs_no_image = xs_imp.drop(['small_image_url', 'image_url'], axis=1)\n",
    "valid_xs_no_image = valid_xs_imp.drop(['small_image_url', 'image_url'], axis=1)"
   ]
  },
  {
   "cell_type": "code",
   "execution_count": 67,
   "id": "sealed-xerox",
   "metadata": {},
   "outputs": [],
   "source": [
    "m = rf(xs_no_image, y)"
   ]
  },
  {
   "cell_type": "code",
   "execution_count": 68,
   "id": "outstanding-monday",
   "metadata": {},
   "outputs": [
    {
     "data": {
      "text/plain": [
       "(0.025713554795205953, 0.04729254731966704)"
      ]
     },
     "execution_count": 68,
     "metadata": {},
     "output_type": "execute_result"
    }
   ],
   "source": [
    "m_mse(m, xs_no_image, y), m_mse(m, valid_xs_no_image, valid_y)"
   ]
  },
  {
   "cell_type": "markdown",
   "id": "operational-clear",
   "metadata": {},
   "source": [
    "An image url shoudln't have any predictive power, even though removing it makes things very slightly worse.\n",
    "Perhaps this is related to the way it is encoded. (Increasing int for encoding and dataset ordered in a particular way may give extract a new feature inheritent from the ordering)."
   ]
  },
  {
   "cell_type": "markdown",
   "id": "liked-rebound",
   "metadata": {},
   "source": [
    "**Let's see if an image regressor would have any predictive power**"
   ]
  },
  {
   "cell_type": "code",
   "execution_count": 69,
   "id": "primary-experience",
   "metadata": {},
   "outputs": [],
   "source": [
    "from fastai.vision.all import *"
   ]
  },
  {
   "cell_type": "code",
   "execution_count": 70,
   "id": "renewable-services",
   "metadata": {},
   "outputs": [],
   "source": [
    "image_data = book_data[['image_url', 'average_rating']].copy()"
   ]
  },
  {
   "cell_type": "code",
   "execution_count": 71,
   "id": "fancy-rolling",
   "metadata": {},
   "outputs": [],
   "source": [
    "im_dir = Path()/'save/images'\n",
    "im_dir.mkdir(parents=True, exist_ok=True)"
   ]
  },
  {
   "cell_type": "code",
   "execution_count": 72,
   "id": "anticipated-building",
   "metadata": {},
   "outputs": [],
   "source": [
    "image_data['path'] = im_dir.as_posix() + '/' + book_data['title'] + '.jpg'"
   ]
  },
  {
   "cell_type": "code",
   "execution_count": 73,
   "id": "complete-works",
   "metadata": {},
   "outputs": [
    {
     "data": {
      "text/html": [
       "<div>\n",
       "<style scoped>\n",
       "    .dataframe tbody tr th:only-of-type {\n",
       "        vertical-align: middle;\n",
       "    }\n",
       "\n",
       "    .dataframe tbody tr th {\n",
       "        vertical-align: top;\n",
       "    }\n",
       "\n",
       "    .dataframe thead th {\n",
       "        text-align: right;\n",
       "    }\n",
       "</style>\n",
       "<table border=\"1\" class=\"dataframe\">\n",
       "  <thead>\n",
       "    <tr style=\"text-align: right;\">\n",
       "      <th></th>\n",
       "      <th>image_url</th>\n",
       "      <th>average_rating</th>\n",
       "      <th>path</th>\n",
       "    </tr>\n",
       "  </thead>\n",
       "  <tbody>\n",
       "    <tr>\n",
       "      <th>0</th>\n",
       "      <td>https://images.gr-assets.com/books/1447303603m/2767052.jpg</td>\n",
       "      <td>4.34</td>\n",
       "      <td>save/images/The Hunger Games (The Hunger Games, #1).jpg</td>\n",
       "    </tr>\n",
       "    <tr>\n",
       "      <th>1</th>\n",
       "      <td>https://images.gr-assets.com/books/1474154022m/3.jpg</td>\n",
       "      <td>4.44</td>\n",
       "      <td>save/images/Harry Potter and the Sorcerer's Stone (Harry Potter, #1).jpg</td>\n",
       "    </tr>\n",
       "    <tr>\n",
       "      <th>2</th>\n",
       "      <td>https://images.gr-assets.com/books/1361039443m/41865.jpg</td>\n",
       "      <td>3.57</td>\n",
       "      <td>save/images/Twilight (Twilight, #1).jpg</td>\n",
       "    </tr>\n",
       "    <tr>\n",
       "      <th>3</th>\n",
       "      <td>https://images.gr-assets.com/books/1361975680m/2657.jpg</td>\n",
       "      <td>4.25</td>\n",
       "      <td>save/images/To Kill a Mockingbird.jpg</td>\n",
       "    </tr>\n",
       "    <tr>\n",
       "      <th>4</th>\n",
       "      <td>https://images.gr-assets.com/books/1490528560m/4671.jpg</td>\n",
       "      <td>3.89</td>\n",
       "      <td>save/images/The Great Gatsby.jpg</td>\n",
       "    </tr>\n",
       "    <tr>\n",
       "      <th>...</th>\n",
       "      <td>...</td>\n",
       "      <td>...</td>\n",
       "      <td>...</td>\n",
       "    </tr>\n",
       "    <tr>\n",
       "      <th>9995</th>\n",
       "      <td>https://images.gr-assets.com/books/1307445460m/7130616.jpg</td>\n",
       "      <td>4.09</td>\n",
       "      <td>save/images/Bayou Moon (The Edge, #2).jpg</td>\n",
       "    </tr>\n",
       "    <tr>\n",
       "      <th>9996</th>\n",
       "      <td>https://s.gr-assets.com/assets/nophoto/book/111x148-bcc042a9c91a29c1d680899eff700a03.png</td>\n",
       "      <td>4.25</td>\n",
       "      <td>save/images/Means of Ascent (The Years of Lyndon Johnson, #2).jpg</td>\n",
       "    </tr>\n",
       "    <tr>\n",
       "      <th>9997</th>\n",
       "      <td>https://images.gr-assets.com/books/1455373531m/77431.jpg</td>\n",
       "      <td>4.35</td>\n",
       "      <td>save/images/The Mauritius Command.jpg</td>\n",
       "    </tr>\n",
       "    <tr>\n",
       "      <th>9998</th>\n",
       "      <td>https://images.gr-assets.com/books/1279214118m/8565083.jpg</td>\n",
       "      <td>3.65</td>\n",
       "      <td>save/images/Cinderella Ate My Daughter: Dispatches from the Frontlines of the New Girlie-Girl Culture.jpg</td>\n",
       "    </tr>\n",
       "    <tr>\n",
       "      <th>9999</th>\n",
       "      <td>https://images.gr-assets.com/books/1403194704m/8914.jpg</td>\n",
       "      <td>4.00</td>\n",
       "      <td>save/images/The First World War.jpg</td>\n",
       "    </tr>\n",
       "  </tbody>\n",
       "</table>\n",
       "<p>10000 rows × 3 columns</p>\n",
       "</div>"
      ],
      "text/plain": [
       "                                                                                     image_url  \\\n",
       "0                                   https://images.gr-assets.com/books/1447303603m/2767052.jpg   \n",
       "1                                         https://images.gr-assets.com/books/1474154022m/3.jpg   \n",
       "2                                     https://images.gr-assets.com/books/1361039443m/41865.jpg   \n",
       "3                                      https://images.gr-assets.com/books/1361975680m/2657.jpg   \n",
       "4                                      https://images.gr-assets.com/books/1490528560m/4671.jpg   \n",
       "...                                                                                        ...   \n",
       "9995                                https://images.gr-assets.com/books/1307445460m/7130616.jpg   \n",
       "9996  https://s.gr-assets.com/assets/nophoto/book/111x148-bcc042a9c91a29c1d680899eff700a03.png   \n",
       "9997                                  https://images.gr-assets.com/books/1455373531m/77431.jpg   \n",
       "9998                                https://images.gr-assets.com/books/1279214118m/8565083.jpg   \n",
       "9999                                   https://images.gr-assets.com/books/1403194704m/8914.jpg   \n",
       "\n",
       "      average_rating  \\\n",
       "0               4.34   \n",
       "1               4.44   \n",
       "2               3.57   \n",
       "3               4.25   \n",
       "4               3.89   \n",
       "...              ...   \n",
       "9995            4.09   \n",
       "9996            4.25   \n",
       "9997            4.35   \n",
       "9998            3.65   \n",
       "9999            4.00   \n",
       "\n",
       "                                                                                                           path  \n",
       "0                                                       save/images/The Hunger Games (The Hunger Games, #1).jpg  \n",
       "1                                      save/images/Harry Potter and the Sorcerer's Stone (Harry Potter, #1).jpg  \n",
       "2                                                                       save/images/Twilight (Twilight, #1).jpg  \n",
       "3                                                                         save/images/To Kill a Mockingbird.jpg  \n",
       "4                                                                              save/images/The Great Gatsby.jpg  \n",
       "...                                                                                                         ...  \n",
       "9995                                                                  save/images/Bayou Moon (The Edge, #2).jpg  \n",
       "9996                                          save/images/Means of Ascent (The Years of Lyndon Johnson, #2).jpg  \n",
       "9997                                                                      save/images/The Mauritius Command.jpg  \n",
       "9998  save/images/Cinderella Ate My Daughter: Dispatches from the Frontlines of the New Girlie-Girl Culture.jpg  \n",
       "9999                                                                        save/images/The First World War.jpg  \n",
       "\n",
       "[10000 rows x 3 columns]"
      ]
     },
     "execution_count": 73,
     "metadata": {},
     "output_type": "execute_result"
    }
   ],
   "source": [
    "image_data"
   ]
  },
  {
   "cell_type": "code",
   "execution_count": 74,
   "id": "genetic-delay",
   "metadata": {},
   "outputs": [],
   "source": [
    "import urllib.request"
   ]
  },
  {
   "cell_type": "code",
   "execution_count": 75,
   "id": "ultimate-biology",
   "metadata": {},
   "outputs": [],
   "source": [
    "def download_images(urls, im_paths):\n",
    "    for url, im_path in zip(urls, im_paths):\n",
    "        try:\n",
    "            urllib.request.urlretrieve(url, filename=f\"{im_path}\")\n",
    "            filename += 1\n",
    "        except Exception as exc:\n",
    "            print(f\"Exception occued while downloading image from url {url}, path: {im_path} -- {str(exc)}\")"
   ]
  },
  {
   "cell_type": "code",
   "execution_count": 76,
   "id": "substantial-dinner",
   "metadata": {},
   "outputs": [],
   "source": [
    "#download_images(image_data.image_url, image_data.path)"
   ]
  },
  {
   "cell_type": "markdown",
   "id": "backed-breath",
   "metadata": {},
   "source": [
    "Some variables seem to indicate pretty much the same thing, such as ids, title and original_title, images etc.\n",
    "We will try to remove redundant features."
   ]
  },
  {
   "cell_type": "code",
   "execution_count": 77,
   "id": "entire-portsmouth",
   "metadata": {},
   "outputs": [],
   "source": [
    "def cluster_columns(df, figsize=(10,6), font_size=12):\n",
    "    corr = np.round(scipy.stats.spearmanr(df).correlation, 4)\n",
    "    corr_condensed = hc.distance.squareform(1-corr)\n",
    "    z = hc.linkage(corr_condensed, method='average')\n",
    "    fig = plt.figure(figsize=figsize)\n",
    "    hc.dendrogram(z, labels=df.columns, orientation='left', leaf_font_size=font_size)\n",
    "    plt.show()"
   ]
  }
 ],
 "metadata": {
  "kernelspec": {
   "display_name": "Python [conda env:fastai] *",
   "language": "python",
   "name": "conda-env-fastai-py"
  },
  "language_info": {
   "codemirror_mode": {
    "name": "ipython",
    "version": 3
   },
   "file_extension": ".py",
   "mimetype": "text/x-python",
   "name": "python",
   "nbconvert_exporter": "python",
   "pygments_lexer": "ipython3",
   "version": "3.8.8"
  }
 },
 "nbformat": 4,
 "nbformat_minor": 5
}
